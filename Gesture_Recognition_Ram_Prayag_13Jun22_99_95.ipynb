{
  "cells": [
    {
      "cell_type": "markdown",
      "metadata": {
        "id": "b9E5qnkH76Gu"
      },
      "source": [
        "# Gesture Recognition - Ramraj and Prayag\n",
        "In this group project, you are going to build a 3D Conv model that will be able to predict the 5 gestures correctly. Please import the following libraries to get started."
      ]
    },
    {
      "cell_type": "code",
      "execution_count": 1,
      "metadata": {
        "colab": {
          "base_uri": "https://localhost:8080/"
        },
        "id": "rU4OmxO576Gw",
        "outputId": "340644c0-9b14-435d-89fb-3b6846c3b292"
      },
      "outputs": [
        {
          "output_type": "stream",
          "name": "stdout",
          "text": [
            "Looking in indexes: https://pypi.org/simple, https://us-python.pkg.dev/colab-wheels/public/simple/\n",
            "Collecting scipy==1.1.0\n",
            "  Downloading scipy-1.1.0-cp37-cp37m-manylinux1_x86_64.whl (31.2 MB)\n",
            "\u001b[K     |████████████████████████████████| 31.2 MB 102.8 MB/s \n",
            "\u001b[?25hRequirement already satisfied: numpy>=1.8.2 in /usr/local/lib/python3.7/dist-packages (from scipy==1.1.0) (1.21.6)\n",
            "Installing collected packages: scipy\n",
            "  Attempting uninstall: scipy\n",
            "    Found existing installation: scipy 1.4.1\n",
            "    Uninstalling scipy-1.4.1:\n",
            "      Successfully uninstalled scipy-1.4.1\n",
            "\u001b[31mERROR: pip's dependency resolver does not currently take into account all the packages that are installed. This behaviour is the source of the following dependency conflicts.\n",
            "pymc3 3.11.4 requires scipy>=1.2.0, but you have scipy 1.1.0 which is incompatible.\n",
            "plotnine 0.6.0 requires scipy>=1.2.0, but you have scipy 1.1.0 which is incompatible.\n",
            "jax 0.3.8 requires scipy>=1.2.1, but you have scipy 1.1.0 which is incompatible.\n",
            "albumentations 0.1.12 requires imgaug<0.2.7,>=0.2.5, but you have imgaug 0.2.9 which is incompatible.\u001b[0m\n",
            "Successfully installed scipy-1.1.0\n"
          ]
        }
      ],
      "source": [
        "!pip install scipy==1.1.0"
      ]
    },
    {
      "cell_type": "code",
      "execution_count": 3,
      "metadata": {
        "id": "T26U5iOs76Gy"
      },
      "outputs": [],
      "source": [
        "import numpy as np\n",
        "import os\n",
        "from scipy.misc import imread, imresize\n",
        "import datetime\n",
        "import os\n",
        "import warnings\n",
        "warnings.filterwarnings(\"ignore\")\n",
        "import abc\n",
        "from sys import getsizeof"
      ]
    },
    {
      "cell_type": "code",
      "source": [
        "from google.colab import drive\n",
        "drive.mount('/content/drive')"
      ],
      "metadata": {
        "colab": {
          "base_uri": "https://localhost:8080/"
        },
        "id": "E0Nf_LDC8OiA",
        "outputId": "9117c384-dc84-4138-8f19-3fa12fa61468"
      },
      "execution_count": 2,
      "outputs": [
        {
          "output_type": "stream",
          "name": "stdout",
          "text": [
            "Mounted at /content/drive\n"
          ]
        }
      ]
    },
    {
      "cell_type": "markdown",
      "metadata": {
        "id": "HMjPY36p76Gy"
      },
      "source": [
        "We set the random seed so that the results don't vary drastically."
      ]
    },
    {
      "cell_type": "code",
      "execution_count": 5,
      "metadata": {
        "id": "rvPCxd5776Gz"
      },
      "outputs": [],
      "source": [
        "np.random.seed(30)\n",
        "import random as rn\n",
        "rn.seed(30)\n",
        "from keras import backend as K\n",
        "import tensorflow as tf\n",
        "tf.random.set_seed(30)"
      ]
    },
    {
      "cell_type": "code",
      "execution_count": 6,
      "metadata": {
        "id": "FtdG9Zp776Gz"
      },
      "outputs": [],
      "source": [
        "import cv2\n",
        "import matplotlib.pyplot as plt\n",
        "% matplotlib inline"
      ]
    },
    {
      "cell_type": "markdown",
      "metadata": {
        "id": "CEtyZSoH76G0"
      },
      "source": [
        "In this block, you read the folder names for training and validation. You also set the `batch_size` here. Note that you set the batch size in such a way that you are able to use the GPU in full capacity. You keep increasing the batch size until the machine throws an error."
      ]
    },
    {
      "cell_type": "code",
      "execution_count": 7,
      "metadata": {
        "id": "EDXeAMa976G0"
      },
      "outputs": [],
      "source": [
        "from tensorflow.keras.models import Sequential, Model\n",
        "from tensorflow.keras.layers import Dense, GRU, Flatten, TimeDistributed, Flatten, BatchNormalization, Activation\n",
        "from tensorflow.keras.layers import Conv3D, MaxPooling3D, Conv2D, MaxPooling2D\n",
        "from tensorflow.keras.layers import LSTM\n",
        "from tensorflow.keras.callbacks import ModelCheckpoint, ReduceLROnPlateau\n",
        "from tensorflow.keras import optimizers\n",
        "from tensorflow.keras.layers import Dropout"
      ]
    },
    {
      "cell_type": "code",
      "execution_count": 9,
      "metadata": {
        "collapsed": true,
        "id": "n3q53QhW76G1"
      },
      "outputs": [],
      "source": [
        "project_folder='/content/drive/MyDrive/AI_MSc_Upgrad/UpgradPt2/Gesture_Project/Project_data'"
      ]
    },
    {
      "cell_type": "markdown",
      "metadata": {
        "id": "zOsoCtIB76G1"
      },
      "source": [
        "##### Plotting"
      ]
    },
    {
      "cell_type": "code",
      "execution_count": 10,
      "metadata": {
        "collapsed": true,
        "id": "XUi3uh6m76G2"
      },
      "outputs": [],
      "source": [
        "def plot(history):\n",
        "    fig, axes = plt.subplots(nrows=1, ncols=2, figsize=(15,4))\n",
        "    axes[0].plot(history.history['loss'])   \n",
        "    axes[0].plot(history.history['val_loss'])\n",
        "    axes[0].legend(['loss','val_loss'])\n",
        "\n",
        "    axes[1].plot(history.history['categorical_accuracy'])   \n",
        "    axes[1].plot(history.history['val_categorical_accuracy'])\n",
        "    axes[1].legend(['categorical_accuracy','val_categorical_accuracy'])"
      ]
    },
    {
      "cell_type": "markdown",
      "metadata": {
        "id": "cj4CPSuz76G2"
      },
      "source": [
        "## Generator\n",
        "This is one of the most important part of the code. The overall structure of the generator has been given. In the generator, you are going to preprocess the images as you have images of 2 different dimensions as well as create a batch of video frames. You have to experiment with `img_idx`, `y`,`z` and normalization such that you get high accuracy."
      ]
    },
    {
      "cell_type": "code",
      "execution_count": 11,
      "metadata": {
        "collapsed": true,
        "id": "0VhtFcNd76G2"
      },
      "outputs": [],
      "source": [
        "class ModelBuilder(metaclass= abc.ABCMeta):\n",
        "    \n",
        "    def initialize_path(self,project_folder):\n",
        "        self.train_doc = np.random.permutation(open(project_folder + '/' + 'train.csv').readlines())\n",
        "        self.val_doc = np.random.permutation(open(project_folder + '/' + 'val.csv').readlines())\n",
        "        self.train_path = project_folder + '/' + 'train'\n",
        "        self.val_path =  project_folder + '/' + 'val'\n",
        "        self.num_train_sequences = len(self.train_doc)\n",
        "        self.num_val_sequences = len(self.val_doc)\n",
        "        \n",
        "    def initialize_image_properties(self,image_height=100,image_width=100):\n",
        "        self.image_height=image_height\n",
        "        self.image_width=image_width\n",
        "        self.channels=3\n",
        "        self.num_classes=5\n",
        "        self.total_frames=30\n",
        "          \n",
        "    def initialize_hyperparams(self,frames_to_sample=30,batch_size=20,num_epochs=20):\n",
        "        self.frames_to_sample=frames_to_sample\n",
        "        self.batch_size=batch_size\n",
        "        self.num_epochs=num_epochs\n",
        "        \n",
        "        \n",
        "    def generator(self,source_path, folder_list, augment=False):\n",
        "        img_idx = np.round(np.linspace(0,self.total_frames-1,self.frames_to_sample)).astype(int)\n",
        "        batch_size=self.batch_size\n",
        "        while True:\n",
        "            t = np.random.permutation(folder_list)\n",
        "            num_batches = len(t)//batch_size\n",
        "        \n",
        "            for batch in range(num_batches): \n",
        "                batch_data, batch_labels= self.one_batch_data(source_path,t,batch,batch_size,img_idx,augment)\n",
        "                yield batch_data, batch_labels \n",
        "\n",
        "            remaining_seq=len(t)%batch_size\n",
        "        \n",
        "            if (remaining_seq != 0):\n",
        "                batch_data, batch_labels= self.one_batch_data(source_path,t,num_batches,batch_size,img_idx,augment,remaining_seq)\n",
        "                yield batch_data, batch_labels \n",
        "    \n",
        "    \n",
        "    def one_batch_data(self,source_path,t,batch,batch_size,img_idx,augment,remaining_seq=0):\n",
        "    \n",
        "        seq_len = remaining_seq if remaining_seq else batch_size\n",
        "    \n",
        "        batch_data = np.zeros((seq_len,len(img_idx),self.image_height,self.image_width,self.channels)) \n",
        "        batch_labels = np.zeros((seq_len,self.num_classes)) \n",
        "    \n",
        "        if (augment): batch_data_aug = np.zeros((seq_len,len(img_idx),self.image_height,self.image_width,self.channels))\n",
        "\n",
        "        \n",
        "        for folder in range(seq_len): \n",
        "            imgs = os.listdir(source_path+'/'+ t[folder + (batch*batch_size)].split(';')[0]) \n",
        "            for idx,item in enumerate(img_idx): \n",
        "                image = imread(source_path+'/'+ t[folder + (batch*batch_size)].strip().split(';')[0]+'/'+imgs[item]).astype(np.float32)\n",
        "                image_resized=imresize(image,(self.image_height,self.image_width,3))\n",
        "            \n",
        "\n",
        "                batch_data[folder,idx,:,:,0] = (image_resized[:,:,0])/255\n",
        "                batch_data[folder,idx,:,:,1] = (image_resized[:,:,1])/255\n",
        "                batch_data[folder,idx,:,:,2] = (image_resized[:,:,2])/255\n",
        "            \n",
        "                if (augment):\n",
        "                    shifted = cv2.warpAffine(image, \n",
        "                                             np.float32([[1, 0, np.random.randint(-30,30)],[0, 1, np.random.randint(-30,30)]]), \n",
        "                                            (image.shape[1], image.shape[0]))\n",
        "                    \n",
        "                    gray = cv2.cvtColor(shifted,cv2.COLOR_BGR2GRAY)\n",
        "\n",
        "                    x0, y0 = np.argwhere(gray > 0).min(axis=0)\n",
        "                    x1, y1 = np.argwhere(gray > 0).max(axis=0) \n",
        "                    \n",
        "                    cropped=shifted[x0:x1,y0:y1,:]\n",
        "                    \n",
        "                    image_resized=imresize(cropped,(self.image_height,self.image_width,3))\n",
        "                    \n",
        "                    #shifted = cv2.warpAffine(image_resized, \n",
        "                    #                        np.float32([[1, 0, np.random.randint(-3,3)],[0, 1, np.random.randint(-3,3)]]), \n",
        "                    #                        (image_resized.shape[1], image_resized.shape[0]))\n",
        "            \n",
        "                    batch_data_aug[folder,idx,:,:,0] = (image_resized[:,:,0])/255\n",
        "                    batch_data_aug[folder,idx,:,:,1] = (image_resized[:,:,1])/255\n",
        "                    batch_data_aug[folder,idx,:,:,2] = (image_resized[:,:,2])/255\n",
        "                \n",
        "            \n",
        "            batch_labels[folder, int(t[folder + (batch*batch_size)].strip().split(';')[2])] = 1\n",
        "            \n",
        "    \n",
        "        if (augment):\n",
        "            batch_data=np.concatenate([batch_data,batch_data_aug])\n",
        "            batch_labels=np.concatenate([batch_labels,batch_labels])\n",
        "\n",
        "        \n",
        "        return(batch_data,batch_labels)\n",
        "    \n",
        "    \n",
        "    def train_model(self, model, augment_data=False):\n",
        "        train_generator = self.generator(self.train_path, self.train_doc,augment=augment_data)\n",
        "        val_generator = self.generator(self.val_path, self.val_doc)\n",
        "\n",
        "        model_name = 'model_init' + '_' + str(datetime.datetime.now()).replace(' ','').replace(':','_') + '/'\n",
        "    \n",
        "        if not os.path.exists(model_name):\n",
        "            os.mkdir(model_name)\n",
        "        \n",
        "        filepath = model_name + 'model-{epoch:05d}-{loss:.5f}-{categorical_accuracy:.5f}-{val_loss:.5f}-{val_categorical_accuracy:.5f}.h5'\n",
        "\n",
        "        checkpoint = ModelCheckpoint(filepath, monitor='val_loss', verbose=1, save_best_only=False, save_weights_only=False, mode='auto', period=1)\n",
        "        LR = ReduceLROnPlateau(monitor='val_loss', factor=0.2, verbose=1, patience=4)\n",
        "        callbacks_list = [checkpoint, LR]\n",
        "\n",
        "        if (self.num_train_sequences%self.batch_size) == 0:\n",
        "            steps_per_epoch = int(self.num_train_sequences/self.batch_size)\n",
        "        else:\n",
        "            steps_per_epoch = (self.num_train_sequences//self.batch_size) + 1\n",
        "\n",
        "        if (self.num_val_sequences%self.batch_size) == 0:\n",
        "            validation_steps = int(self.num_val_sequences/self.batch_size)\n",
        "        else:\n",
        "            validation_steps = (self.num_val_sequences//self.batch_size) + 1\n",
        "    \n",
        "        history=model.fit(train_generator, steps_per_epoch=steps_per_epoch, epochs=self.num_epochs, verbose=1, \n",
        "                            callbacks=callbacks_list, validation_data=val_generator, \n",
        "                            validation_steps=validation_steps, class_weight=None, workers=1, initial_epoch=0)\n",
        "        return history\n",
        "\n",
        "        \n",
        "    @abc.abstractmethod\n",
        "    def define_model(self):\n",
        "        pass"
      ]
    },
    {
      "cell_type": "markdown",
      "metadata": {
        "id": "kqIaBk8e76G6"
      },
      "source": [
        "## Model\n",
        "Here you make the model using different functionalities that Keras provides. Remember to use `Conv3D` and `MaxPooling3D` and not `Conv2D` and `Maxpooling2D` for a 3D convolution model. You would want to use `TimeDistributed` while building a Conv2D + RNN model. Also remember that the last layer is the softmax. Design the network in such a way that the model is able to give good accuracy on the least number of parameters so that it can fit in the memory of the webcam."
      ]
    },
    {
      "cell_type": "markdown",
      "metadata": {
        "id": "Xtw4vn7676G6"
      },
      "source": [
        "## Sample Model"
      ]
    },
    {
      "cell_type": "code",
      "execution_count": 74,
      "metadata": {
        "collapsed": true,
        "id": "_04Buh2T76G6"
      },
      "outputs": [],
      "source": [
        "class ModelConv3D1(ModelBuilder):\n",
        "    \n",
        "    def define_model(self):\n",
        "\n",
        "        model = Sequential()\n",
        "        model.add(Conv3D(16, (3, 3, 3), padding='same',\n",
        "                 input_shape=(self.frames_to_sample,self.image_height,self.image_width,self.channels)))\n",
        "        model.add(Activation('relu'))\n",
        "        model.add(BatchNormalization())\n",
        "        model.add(MaxPooling3D(pool_size=(2, 2, 2)))\n",
        "\n",
        "        model.add(Conv3D(32, (2, 2, 2), padding='same'))\n",
        "        model.add(Activation('relu'))\n",
        "        model.add(BatchNormalization())\n",
        "        model.add(MaxPooling3D(pool_size=(2, 2, 2)))\n",
        "\n",
        "        model.add(Conv3D(64, (2, 2, 2), padding='same'))\n",
        "        model.add(Activation('relu'))\n",
        "        model.add(BatchNormalization())\n",
        "        model.add(MaxPooling3D(pool_size=(2, 2, 2)))\n",
        "\n",
        "        model.add(Conv3D(128, (2, 2, 2), padding='same'))\n",
        "        model.add(Activation('relu'))\n",
        "        model.add(BatchNormalization())\n",
        "        model.add(MaxPooling3D(pool_size=(2, 2, 2)))\n",
        "\n",
        "        model.add(Flatten())\n",
        "        model.add(Dense(128,activation='relu'))\n",
        "        model.add(BatchNormalization())\n",
        "        model.add(Dropout(0.5))\n",
        "\n",
        "        model.add(Dense(64,activation='relu'))\n",
        "        model.add(BatchNormalization())\n",
        "        model.add(Dropout(0.25))\n",
        "\n",
        "\n",
        "        model.add(Dense(self.num_classes,activation='softmax'))\n",
        "\n",
        "        optimiser = optimizers.Adam()\n",
        "        #optimiser = 'sgd'\n",
        "        model.compile(optimizer=optimiser, loss='categorical_crossentropy', metrics=['categorical_accuracy'])\n",
        "        return model"
      ]
    },
    {
      "cell_type": "code",
      "execution_count": 13,
      "metadata": {
        "scrolled": true,
        "colab": {
          "base_uri": "https://localhost:8080/"
        },
        "id": "mMNxgF8f76G7",
        "outputId": "e573b8d8-6a4b-4902-d953-033dbebcb5be"
      },
      "outputs": [
        {
          "output_type": "stream",
          "name": "stdout",
          "text": [
            "Model: \"sequential\"\n",
            "_________________________________________________________________\n",
            " Layer (type)                Output Shape              Param #   \n",
            "=================================================================\n",
            " conv3d (Conv3D)             (None, 30, 160, 160, 16)  1312      \n",
            "                                                                 \n",
            " activation (Activation)     (None, 30, 160, 160, 16)  0         \n",
            "                                                                 \n",
            " batch_normalization (BatchN  (None, 30, 160, 160, 16)  64       \n",
            " ormalization)                                                   \n",
            "                                                                 \n",
            " max_pooling3d (MaxPooling3D  (None, 15, 80, 80, 16)   0         \n",
            " )                                                               \n",
            "                                                                 \n",
            " conv3d_1 (Conv3D)           (None, 15, 80, 80, 32)    4128      \n",
            "                                                                 \n",
            " activation_1 (Activation)   (None, 15, 80, 80, 32)    0         \n",
            "                                                                 \n",
            " batch_normalization_1 (Batc  (None, 15, 80, 80, 32)   128       \n",
            " hNormalization)                                                 \n",
            "                                                                 \n",
            " max_pooling3d_1 (MaxPooling  (None, 7, 40, 40, 32)    0         \n",
            " 3D)                                                             \n",
            "                                                                 \n",
            " conv3d_2 (Conv3D)           (None, 7, 40, 40, 64)     16448     \n",
            "                                                                 \n",
            " activation_2 (Activation)   (None, 7, 40, 40, 64)     0         \n",
            "                                                                 \n",
            " batch_normalization_2 (Batc  (None, 7, 40, 40, 64)    256       \n",
            " hNormalization)                                                 \n",
            "                                                                 \n",
            " max_pooling3d_2 (MaxPooling  (None, 3, 20, 20, 64)    0         \n",
            " 3D)                                                             \n",
            "                                                                 \n",
            " conv3d_3 (Conv3D)           (None, 3, 20, 20, 128)    65664     \n",
            "                                                                 \n",
            " activation_3 (Activation)   (None, 3, 20, 20, 128)    0         \n",
            "                                                                 \n",
            " batch_normalization_3 (Batc  (None, 3, 20, 20, 128)   512       \n",
            " hNormalization)                                                 \n",
            "                                                                 \n",
            " max_pooling3d_3 (MaxPooling  (None, 1, 10, 10, 128)   0         \n",
            " 3D)                                                             \n",
            "                                                                 \n",
            " flatten (Flatten)           (None, 12800)             0         \n",
            "                                                                 \n",
            " dense (Dense)               (None, 128)               1638528   \n",
            "                                                                 \n",
            " batch_normalization_4 (Batc  (None, 128)              512       \n",
            " hNormalization)                                                 \n",
            "                                                                 \n",
            " dropout (Dropout)           (None, 128)               0         \n",
            "                                                                 \n",
            " dense_1 (Dense)             (None, 64)                8256      \n",
            "                                                                 \n",
            " batch_normalization_5 (Batc  (None, 64)               256       \n",
            " hNormalization)                                                 \n",
            "                                                                 \n",
            " dropout_1 (Dropout)         (None, 64)                0         \n",
            "                                                                 \n",
            " dense_2 (Dense)             (None, 5)                 325       \n",
            "                                                                 \n",
            "=================================================================\n",
            "Total params: 1,736,389\n",
            "Trainable params: 1,735,525\n",
            "Non-trainable params: 864\n",
            "_________________________________________________________________\n"
          ]
        }
      ],
      "source": [
        "conv_3d1=ModelConv3D1()\n",
        "conv_3d1.initialize_path(project_folder)\n",
        "conv_3d1.initialize_image_properties(image_height=160,image_width=160)\n",
        "conv_3d1.initialize_hyperparams(frames_to_sample=30,batch_size=40,num_epochs=1)\n",
        "conv_3d1_model=conv_3d1.define_model()\n",
        "conv_3d1_model.summary()"
      ]
    },
    {
      "cell_type": "markdown",
      "metadata": {
        "id": "KQRL3w-676G7"
      },
      "source": [
        "##### Sample Cropping"
      ]
    },
    {
      "cell_type": "code",
      "execution_count": 14,
      "metadata": {
        "collapsed": true,
        "colab": {
          "base_uri": "https://localhost:8080/",
          "height": 221
        },
        "id": "nFRNx0ZQ76G7",
        "outputId": "149abec4-10ed-4042-89e5-4dcbc87beb4d"
      },
      "outputs": [
        {
          "output_type": "execute_result",
          "data": {
            "text/plain": [
              "<matplotlib.image.AxesImage at 0x7fb6be22a310>"
            ]
          },
          "metadata": {},
          "execution_count": 14
        },
        {
          "output_type": "display_data",
          "data": {
            "text/plain": [
              "<Figure size 432x288 with 2 Axes>"
            ],
            "image/png": "[encoded data removed]"
          },
          "metadata": {
            "needs_background": "light"
          }
        }
      ],
      "source": [
        "test_generator=ModelConv3D1()\n",
        "test_generator.initialize_path(project_folder)\n",
        "test_generator.initialize_image_properties(image_height=160,image_width=160)\n",
        "test_generator.initialize_hyperparams(frames_to_sample=30,batch_size=3,num_epochs=1)\n",
        "\n",
        "g=test_generator.generator(test_generator.val_path,test_generator.val_doc,augment=True)\n",
        "batch_data, batch_labels=next(g)\n",
        "fig, axes = plt.subplots(nrows=1, ncols=2)\n",
        "axes[0].imshow(batch_data[0,15,:,:,:])   \n",
        "axes[1].imshow(batch_data[3,15,:,:,:])   "
      ]
    },
    {
      "cell_type": "markdown",
      "metadata": {
        "id": "DhP-XzqF76G7"
      },
      "source": [
        "![image.png](attachment:image.png)"
      ]
    },
    {
      "cell_type": "markdown",
      "metadata": {
        "id": "Gv7Me8e576G8"
      },
      "source": [
        "## Experimenting with Image resolution, number of frames to use and batch_size"
      ]
    },
    {
      "cell_type": "code",
      "execution_count": null,
      "metadata": {
        "collapsed": true,
        "id": "BcbsTwdh76G8"
      },
      "outputs": [],
      "source": [
        "#conv_3d1.train_model(conv_3d1_model)"
      ]
    },
    {
      "cell_type": "markdown",
      "metadata": {
        "id": "f_AR-0FD76G8"
      },
      "source": [
        "### We had hit the limit on memory resources with image resolution of 160x160 with 30 frames and batch_size of 40...we get the below error\n",
        "\n",
        "ResourceExhaustedError: OOM when allocating tensor with shape[40,16,30,160,160] and type float on /job:localhost/replica:0/task:0/device:GPU:0 by allocator GPU_0_bfc"
      ]
    },
    {
      "cell_type": "code",
      "execution_count": 15,
      "metadata": {
        "colab": {
          "base_uri": "https://localhost:8080/"
        },
        "id": "2ly6lZ8P76G8",
        "outputId": "9435817a-ed1c-486c-b3d7-0ff40233b28d"
      },
      "outputs": [
        {
          "output_type": "stream",
          "name": "stdout",
          "text": [
            "Memory util is 3.6621095314621925 Gigs\n"
          ]
        }
      ],
      "source": [
        "print(\"Memory util is {} Gigs\". format(getsizeof(np.zeros((40,16,30,160,160)))/(1024*1024*1024)))"
      ]
    },
    {
      "cell_type": "markdown",
      "metadata": {
        "id": "cT5m7cHg76G8"
      },
      "source": [
        "##### So lets trade-off between these parameters"
      ]
    },
    {
      "cell_type": "markdown",
      "metadata": {
        "collapsed": true,
        "id": "QILS55RU76G8"
      },
      "source": [
        "##### Below are the experiments to see how training time is affected by image resolution, number of images in sequence and batch size"
      ]
    },
    {
      "cell_type": "code",
      "execution_count": 16,
      "metadata": {
        "colab": {
          "base_uri": "https://localhost:8080/"
        },
        "id": "DKpuGfqG76G9",
        "outputId": "9aa85924-cc3e-44d5-f1f2-3cfefa363c9a"
      },
      "outputs": [
        {
          "output_type": "stream",
          "name": "stdout",
          "text": [
            "Total Params: 1736389\n",
            "WARNING:tensorflow:`period` argument is deprecated. Please use `save_freq` to specify the frequency in number of batches seen.\n",
            "Epoch 1/3\n",
            "23/23 [==============================] - ETA: 0s - loss: 1.5636 - categorical_accuracy: 0.4148  \n",
            "Epoch 1: saving model to model_init_2022-06-1217_27_23.560288/model-00001-1.56363-0.41478-2.35138-0.21000.h5\n",
            "23/23 [==============================] - 3770s 171s/step - loss: 1.5636 - categorical_accuracy: 0.4148 - val_loss: 2.3514 - val_categorical_accuracy: 0.2100 - lr: 0.0010\n",
            "Epoch 2/3\n",
            "22/23 [===========================>..] - ETA: 2s - loss: 0.9893 - categorical_accuracy: 0.6167\n",
            "Epoch 2: saving model to model_init_2022-06-1217_27_23.560288/model-00002-0.99280-0.61538-4.91877-0.22000.h5\n",
            "23/23 [==============================] - 58s 3s/step - loss: 0.9928 - categorical_accuracy: 0.6154 - val_loss: 4.9188 - val_categorical_accuracy: 0.2200 - lr: 0.0010\n",
            "Epoch 3/3\n",
            "23/23 [==============================] - ETA: 0s - loss: 1.0514 - categorical_accuracy: 0.5867\n",
            "Epoch 3: saving model to model_init_2022-06-1217_27_23.560288/model-00003-1.05142-0.58673-7.46228-0.24000.h5\n",
            "23/23 [==============================] - 56s 3s/step - loss: 1.0514 - categorical_accuracy: 0.5867 - val_loss: 7.4623 - val_categorical_accuracy: 0.2400 - lr: 0.0010\n"
          ]
        },
        {
          "output_type": "execute_result",
          "data": {
            "text/plain": [
              "<keras.callbacks.History at 0x7fb73b4a0090>"
            ]
          },
          "metadata": {},
          "execution_count": 16
        }
      ],
      "source": [
        "conv_3d1=ModelConv3D1()\n",
        "conv_3d1.initialize_path(project_folder)\n",
        "conv_3d1.initialize_image_properties(image_height=160,image_width=160)\n",
        "conv_3d1.initialize_hyperparams(frames_to_sample=16,batch_size=30,num_epochs=3)\n",
        "conv_3d1_model=conv_3d1.define_model()\n",
        "print(\"Total Params:\", conv_3d1_model.count_params())\n",
        "conv_3d1.train_model(conv_3d1_model)"
      ]
    },
    {
      "cell_type": "code",
      "execution_count": 17,
      "metadata": {
        "colab": {
          "base_uri": "https://localhost:8080/"
        },
        "id": "sl16nspA76G9",
        "outputId": "4c0649cd-924d-4537-dd5f-4631735923ea"
      },
      "outputs": [
        {
          "output_type": "stream",
          "name": "stdout",
          "text": [
            "Total Params: 687813\n",
            "WARNING:tensorflow:`period` argument is deprecated. Please use `save_freq` to specify the frequency in number of batches seen.\n",
            "Epoch 1/2\n",
            "23/23 [==============================] - ETA: 0s - loss: 1.6886 - categorical_accuracy: 0.3846  \n",
            "Epoch 1: saving model to model_init_2022-06-1218_34_48.469064/model-00001-1.68861-0.38462-2.09886-0.16000.h5\n",
            "23/23 [==============================] - 3362s 153s/step - loss: 1.6886 - categorical_accuracy: 0.3846 - val_loss: 2.0989 - val_categorical_accuracy: 0.1600 - lr: 0.0010\n",
            "Epoch 2/2\n",
            "23/23 [==============================] - ETA: 0s - loss: 1.1627 - categorical_accuracy: 0.5400\n",
            "Epoch 2: saving model to model_init_2022-06-1218_34_48.469064/model-00002-1.16269-0.53997-3.11898-0.19000.h5\n",
            "23/23 [==============================] - 97s 4s/step - loss: 1.1627 - categorical_accuracy: 0.5400 - val_loss: 3.1190 - val_categorical_accuracy: 0.1900 - lr: 0.0010\n"
          ]
        },
        {
          "output_type": "execute_result",
          "data": {
            "text/plain": [
              "<keras.callbacks.History at 0x7fb6a57893d0>"
            ]
          },
          "metadata": {},
          "execution_count": 17
        }
      ],
      "source": [
        "conv_3d1=ModelConv3D1()\n",
        "conv_3d1.initialize_path(project_folder)\n",
        "conv_3d1.initialize_image_properties(image_height=100,image_width=100)\n",
        "conv_3d1.initialize_hyperparams(frames_to_sample=30,batch_size=30,num_epochs=2)\n",
        "conv_3d1_model=conv_3d1.define_model()\n",
        "print(\"Total Params:\", conv_3d1_model.count_params())\n",
        "conv_3d1.train_model(conv_3d1_model)"
      ]
    },
    {
      "cell_type": "code",
      "execution_count": 18,
      "metadata": {
        "colab": {
          "base_uri": "https://localhost:8080/"
        },
        "id": "zDepcK_h76G9",
        "outputId": "0afb7a87-b617-4512-9b92-fb11c10377ef"
      },
      "outputs": [
        {
          "output_type": "stream",
          "name": "stdout",
          "text": [
            "Total Params: 687813\n",
            "WARNING:tensorflow:`period` argument is deprecated. Please use `save_freq` to specify the frequency in number of batches seen.\n",
            "Epoch 1/2\n",
            "11/12 [==========================>...] - ETA: 7s - loss: 1.8299 - categorical_accuracy: 0.3697 \n",
            "Epoch 1: saving model to model_init_2022-06-1219_34_41.895168/model-00001-1.82287-0.37255-1.92142-0.16000.h5\n",
            "12/12 [==============================] - 101s 9s/step - loss: 1.8229 - categorical_accuracy: 0.3725 - val_loss: 1.9214 - val_categorical_accuracy: 0.1600 - lr: 0.0010\n",
            "Epoch 2/2\n",
            "12/12 [==============================] - ETA: 0s - loss: 1.1676 - categorical_accuracy: 0.5430\n",
            "Epoch 2: saving model to model_init_2022-06-1219_34_41.895168/model-00002-1.16764-0.54299-3.35970-0.11000.h5\n",
            "12/12 [==============================] - 95s 9s/step - loss: 1.1676 - categorical_accuracy: 0.5430 - val_loss: 3.3597 - val_categorical_accuracy: 0.1100 - lr: 0.0010\n"
          ]
        },
        {
          "output_type": "execute_result",
          "data": {
            "text/plain": [
              "<keras.callbacks.History at 0x7fb6a4b839d0>"
            ]
          },
          "metadata": {},
          "execution_count": 18
        }
      ],
      "source": [
        "conv_3d1=ModelConv3D1()\n",
        "conv_3d1.initialize_path(project_folder)\n",
        "conv_3d1.initialize_image_properties(image_height=100,image_width=100)\n",
        "conv_3d1.initialize_hyperparams(frames_to_sample=30,batch_size=60,num_epochs=2)\n",
        "conv_3d1_model=conv_3d1.define_model()\n",
        "print(\"Total Params:\", conv_3d1_model.count_params())\n",
        "conv_3d1.train_model(conv_3d1_model)"
      ]
    },
    {
      "cell_type": "code",
      "execution_count": 19,
      "metadata": {
        "colab": {
          "base_uri": "https://localhost:8080/"
        },
        "id": "cMd4xvaL76G9",
        "outputId": "41ac2358-00b1-4fd8-c8df-b01fb88f9005"
      },
      "outputs": [
        {
          "output_type": "stream",
          "name": "stdout",
          "text": [
            "Total Params: 687813\n",
            "WARNING:tensorflow:`period` argument is deprecated. Please use `save_freq` to specify the frequency in number of batches seen.\n",
            "Epoch 1/2\n",
            "12/12 [==============================] - ETA: 0s - loss: 1.6264 - categorical_accuracy: 0.4057\n",
            "Epoch 1: saving model to model_init_2022-06-1219_38_05.255254/model-00001-1.62641-0.40573-1.58739-0.21000.h5\n",
            "12/12 [==============================] - 54s 5s/step - loss: 1.6264 - categorical_accuracy: 0.4057 - val_loss: 1.5874 - val_categorical_accuracy: 0.2100 - lr: 0.0010\n",
            "Epoch 2/2\n",
            "12/12 [==============================] - ETA: 0s - loss: 1.0847 - categorical_accuracy: 0.5958\n",
            "Epoch 2: saving model to model_init_2022-06-1219_38_05.255254/model-00002-1.08469-0.59578-2.77896-0.13000.h5\n",
            "12/12 [==============================] - 51s 5s/step - loss: 1.0847 - categorical_accuracy: 0.5958 - val_loss: 2.7790 - val_categorical_accuracy: 0.1300 - lr: 0.0010\n"
          ]
        },
        {
          "output_type": "execute_result",
          "data": {
            "text/plain": [
              "<keras.callbacks.History at 0x7fb6a42eec90>"
            ]
          },
          "metadata": {},
          "execution_count": 19
        }
      ],
      "source": [
        "conv_3d1=ModelConv3D1()\n",
        "conv_3d1.initialize_path(project_folder)\n",
        "conv_3d1.initialize_image_properties(image_height=100,image_width=100)\n",
        "conv_3d1.initialize_hyperparams(frames_to_sample=16,batch_size=60,num_epochs=2)\n",
        "conv_3d1_model=conv_3d1.define_model()\n",
        "print(\"Total Params:\", conv_3d1_model.count_params())\n",
        "conv_3d1.train_model(conv_3d1_model)"
      ]
    },
    {
      "cell_type": "code",
      "execution_count": 20,
      "metadata": {
        "colab": {
          "base_uri": "https://localhost:8080/"
        },
        "id": "V2Sxi1lo76G-",
        "outputId": "0f88db02-6df7-44ae-f61b-ed052b8e6aa7"
      },
      "outputs": [
        {
          "output_type": "stream",
          "name": "stdout",
          "text": [
            "Total Params: 687813\n",
            "WARNING:tensorflow:`period` argument is deprecated. Please use `save_freq` to specify the frequency in number of batches seen.\n",
            "Epoch 1/2\n",
            "9/9 [==============================] - ETA: 0s - loss: 1.8533 - categorical_accuracy: 0.3333\n",
            "Epoch 1: saving model to model_init_2022-06-1219_39_54.702330/model-00001-1.85331-0.33333-1.63755-0.16000.h5\n",
            "9/9 [==============================] - 56s 7s/step - loss: 1.8533 - categorical_accuracy: 0.3333 - val_loss: 1.6375 - val_categorical_accuracy: 0.1600 - lr: 0.0010\n",
            "Epoch 2/2\n",
            "9/9 [==============================] - ETA: 0s - loss: 1.2736 - categorical_accuracy: 0.4977\n",
            "Epoch 2: saving model to model_init_2022-06-1219_39_54.702330/model-00002-1.27356-0.49774-2.30425-0.18000.h5\n",
            "9/9 [==============================] - 49s 6s/step - loss: 1.2736 - categorical_accuracy: 0.4977 - val_loss: 2.3043 - val_categorical_accuracy: 0.1800 - lr: 0.0010\n"
          ]
        },
        {
          "output_type": "execute_result",
          "data": {
            "text/plain": [
              "<keras.callbacks.History at 0x7fb690fcc390>"
            ]
          },
          "metadata": {},
          "execution_count": 20
        }
      ],
      "source": [
        "conv_3d1=ModelConv3D1()\n",
        "conv_3d1.initialize_path(project_folder)\n",
        "conv_3d1.initialize_image_properties(image_height=100,image_width=100)\n",
        "conv_3d1.initialize_hyperparams(frames_to_sample=16,batch_size=80,num_epochs=2)\n",
        "conv_3d1_model=conv_3d1.define_model()\n",
        "print(\"Total Params:\", conv_3d1_model.count_params())\n",
        "conv_3d1.train_model(conv_3d1_model)"
      ]
    },
    {
      "cell_type": "code",
      "execution_count": 21,
      "metadata": {
        "colab": {
          "base_uri": "https://localhost:8080/"
        },
        "id": "O5D8rGmC76G-",
        "outputId": "c7262b66-0595-45dc-a357-5ceddd7543e6"
      },
      "outputs": [
        {
          "output_type": "stream",
          "name": "stdout",
          "text": [
            "Total Params: 1736389\n",
            "WARNING:tensorflow:`period` argument is deprecated. Please use `save_freq` to specify the frequency in number of batches seen.\n",
            "Epoch 1/2\n",
            "45/45 [==============================] - ETA: 0s - loss: 1.5794 - categorical_accuracy: 0.3967\n",
            "Epoch 1: saving model to model_init_2022-06-1219_41_44.867418/model-00001-1.57942-0.39668-6.07504-0.16000.h5\n",
            "45/45 [==============================] - 106s 2s/step - loss: 1.5794 - categorical_accuracy: 0.3967 - val_loss: 6.0750 - val_categorical_accuracy: 0.1600 - lr: 0.0010\n",
            "Epoch 2/2\n",
            "45/45 [==============================] - ETA: 0s - loss: 1.0657 - categorical_accuracy: 0.5867\n",
            "Epoch 2: saving model to model_init_2022-06-1219_41_44.867418/model-00002-1.06572-0.58673-11.00943-0.17000.h5\n",
            "45/45 [==============================] - 104s 2s/step - loss: 1.0657 - categorical_accuracy: 0.5867 - val_loss: 11.0094 - val_categorical_accuracy: 0.1700 - lr: 0.0010\n"
          ]
        },
        {
          "output_type": "execute_result",
          "data": {
            "text/plain": [
              "<keras.callbacks.History at 0x7fb691b82710>"
            ]
          },
          "metadata": {},
          "execution_count": 21
        }
      ],
      "source": [
        "conv_3d1=ModelConv3D1()\n",
        "conv_3d1.initialize_path(project_folder)\n",
        "conv_3d1.initialize_image_properties(image_height=160,image_width=160)\n",
        "conv_3d1.initialize_hyperparams(frames_to_sample=30,batch_size=15,num_epochs=2)\n",
        "conv_3d1_model=conv_3d1.define_model()\n",
        "print(\"Total Params:\", conv_3d1_model.count_params())\n",
        "conv_3d1.train_model(conv_3d1_model)"
      ]
    },
    {
      "cell_type": "code",
      "execution_count": 22,
      "metadata": {
        "colab": {
          "base_uri": "https://localhost:8080/"
        },
        "id": "FrktgO_c76G-",
        "outputId": "626e76b9-2dcf-47cb-9d98-5f8b2d3809cf"
      },
      "outputs": [
        {
          "output_type": "stream",
          "name": "stdout",
          "text": [
            "Total Params: 1736389\n",
            "WARNING:tensorflow:`period` argument is deprecated. Please use `save_freq` to specify the frequency in number of batches seen.\n",
            "Epoch 1/2\n",
            "45/45 [==============================] - ETA: 0s - loss: 1.6035 - categorical_accuracy: 0.4148\n",
            "Epoch 1: saving model to model_init_2022-06-1219_45_16.927864/model-00001-1.60348-0.41478-6.03176-0.16000.h5\n",
            "45/45 [==============================] - 59s 1s/step - loss: 1.6035 - categorical_accuracy: 0.4148 - val_loss: 6.0318 - val_categorical_accuracy: 0.1600 - lr: 0.0010\n",
            "Epoch 2/2\n",
            "45/45 [==============================] - ETA: 0s - loss: 1.0939 - categorical_accuracy: 0.5943\n",
            "Epoch 2: saving model to model_init_2022-06-1219_45_16.927864/model-00002-1.09387-0.59427-13.13785-0.14000.h5\n",
            "45/45 [==============================] - 56s 1s/step - loss: 1.0939 - categorical_accuracy: 0.5943 - val_loss: 13.1378 - val_categorical_accuracy: 0.1400 - lr: 0.0010\n"
          ]
        },
        {
          "output_type": "execute_result",
          "data": {
            "text/plain": [
              "<keras.callbacks.History at 0x7fb690737350>"
            ]
          },
          "metadata": {},
          "execution_count": 22
        }
      ],
      "source": [
        "conv_3d1=ModelConv3D1()\n",
        "conv_3d1.initialize_path(project_folder)\n",
        "conv_3d1.initialize_image_properties(image_height=160,image_width=160)\n",
        "conv_3d1.initialize_hyperparams(frames_to_sample=16,batch_size=15,num_epochs=2)\n",
        "conv_3d1_model=conv_3d1.define_model()\n",
        "print(\"Total Params:\", conv_3d1_model.count_params())\n",
        "conv_3d1.train_model(conv_3d1_model)"
      ]
    },
    {
      "cell_type": "code",
      "execution_count": 23,
      "metadata": {
        "colab": {
          "base_uri": "https://localhost:8080/"
        },
        "id": "RBKux8BP76G-",
        "outputId": "ff971c6f-b55e-40f9-9e9c-70545f985900"
      },
      "outputs": [
        {
          "output_type": "stream",
          "name": "stdout",
          "text": [
            "Total Params: 687813\n",
            "WARNING:tensorflow:`period` argument is deprecated. Please use `save_freq` to specify the frequency in number of batches seen.\n",
            "Epoch 1/2\n",
            "45/45 [==============================] - ETA: 0s - loss: 1.6142 - categorical_accuracy: 0.4103\n",
            "Epoch 1: saving model to model_init_2022-06-1219_47_13.291433/model-00001-1.61420-0.41026-3.37413-0.16000.h5\n",
            "45/45 [==============================] - 53s 1s/step - loss: 1.6142 - categorical_accuracy: 0.4103 - val_loss: 3.3741 - val_categorical_accuracy: 0.1600 - lr: 0.0010\n",
            "Epoch 2/2\n",
            "45/45 [==============================] - ETA: 0s - loss: 1.2368 - categorical_accuracy: 0.5189\n",
            "Epoch 2: saving model to model_init_2022-06-1219_47_13.291433/model-00002-1.23684-0.51885-5.48964-0.15000.h5\n",
            "45/45 [==============================] - 52s 1s/step - loss: 1.2368 - categorical_accuracy: 0.5189 - val_loss: 5.4896 - val_categorical_accuracy: 0.1500 - lr: 0.0010\n"
          ]
        },
        {
          "output_type": "execute_result",
          "data": {
            "text/plain": [
              "<keras.callbacks.History at 0x7fb69030ad10>"
            ]
          },
          "metadata": {},
          "execution_count": 23
        }
      ],
      "source": [
        "conv_3d1=ModelConv3D1()\n",
        "conv_3d1.initialize_path(project_folder)\n",
        "conv_3d1.initialize_image_properties(image_height=100,image_width=100)\n",
        "conv_3d1.initialize_hyperparams(frames_to_sample=16,batch_size=15,num_epochs=2)\n",
        "conv_3d1_model=conv_3d1.define_model()\n",
        "print(\"Total Params:\", conv_3d1_model.count_params())\n",
        "conv_3d1.train_model(conv_3d1_model)"
      ]
    },
    {
      "cell_type": "code",
      "execution_count": 24,
      "metadata": {
        "colab": {
          "base_uri": "https://localhost:8080/"
        },
        "id": "jiEUd6e476G-",
        "outputId": "656fe075-c28f-4931-f927-4b4d5e643d65"
      },
      "outputs": [
        {
          "output_type": "stream",
          "name": "stdout",
          "text": [
            "Total Params: 687813\n",
            "WARNING:tensorflow:`period` argument is deprecated. Please use `save_freq` to specify the frequency in number of batches seen.\n",
            "Epoch 1/2\n",
            "67/67 [==============================] - ETA: 0s - loss: 1.6773 - categorical_accuracy: 0.3786\n",
            "Epoch 1: saving model to model_init_2022-06-1219_49_37.300034/model-00001-1.67735-0.37858-2.94861-0.18000.h5\n",
            "67/67 [==============================] - 53s 784ms/step - loss: 1.6773 - categorical_accuracy: 0.3786 - val_loss: 2.9486 - val_categorical_accuracy: 0.1800 - lr: 0.0010\n",
            "Epoch 2/2\n",
            "67/67 [==============================] - ETA: 0s - loss: 1.1768 - categorical_accuracy: 0.5339\n",
            "Epoch 2: saving model to model_init_2022-06-1219_49_37.300034/model-00002-1.17678-0.53394-5.31357-0.21000.h5\n",
            "67/67 [==============================] - 52s 794ms/step - loss: 1.1768 - categorical_accuracy: 0.5339 - val_loss: 5.3136 - val_categorical_accuracy: 0.2100 - lr: 0.0010\n"
          ]
        },
        {
          "output_type": "execute_result",
          "data": {
            "text/plain": [
              "<keras.callbacks.History at 0x7fb5946b1e90>"
            ]
          },
          "metadata": {},
          "execution_count": 24
        }
      ],
      "source": [
        "conv_3d1=ModelConv3D1()\n",
        "conv_3d1.initialize_path(project_folder)\n",
        "conv_3d1.initialize_image_properties(image_height=100,image_width=100)\n",
        "conv_3d1.initialize_hyperparams(frames_to_sample=16,batch_size=10,num_epochs=2)\n",
        "conv_3d1_model=conv_3d1.define_model()\n",
        "print(\"Total Params:\", conv_3d1_model.count_params())\n",
        "conv_3d1.train_model(conv_3d1_model)"
      ]
    },
    {
      "cell_type": "code",
      "execution_count": 25,
      "metadata": {
        "colab": {
          "base_uri": "https://localhost:8080/"
        },
        "id": "_QH4vMPC76G_",
        "outputId": "37d0f113-227e-4cdf-cd36-361f0e1a3a6b"
      },
      "outputs": [
        {
          "output_type": "stream",
          "name": "stdout",
          "text": [
            "Total Params: 687813\n",
            "WARNING:tensorflow:`period` argument is deprecated. Please use `save_freq` to specify the frequency in number of batches seen.\n",
            "Epoch 1/2\n",
            "67/67 [==============================] - ETA: 0s - loss: 1.6644 - categorical_accuracy: 0.3952\n",
            "Epoch 1: saving model to model_init_2022-06-1219_51_23.608634/model-00001-1.66444-0.39517-3.65967-0.24000.h5\n",
            "67/67 [==============================] - 97s 1s/step - loss: 1.6644 - categorical_accuracy: 0.3952 - val_loss: 3.6597 - val_categorical_accuracy: 0.2400 - lr: 0.0010\n",
            "Epoch 2/2\n",
            "67/67 [==============================] - ETA: 0s - loss: 1.2483 - categorical_accuracy: 0.5294\n",
            "Epoch 2: saving model to model_init_2022-06-1219_51_23.608634/model-00002-1.24833-0.52941-5.52468-0.15000.h5\n",
            "67/67 [==============================] - 96s 1s/step - loss: 1.2483 - categorical_accuracy: 0.5294 - val_loss: 5.5247 - val_categorical_accuracy: 0.1500 - lr: 0.0010\n"
          ]
        },
        {
          "output_type": "execute_result",
          "data": {
            "text/plain": [
              "<keras.callbacks.History at 0x7fb5942f2d50>"
            ]
          },
          "metadata": {},
          "execution_count": 25
        }
      ],
      "source": [
        "conv_3d1=ModelConv3D1()\n",
        "conv_3d1.initialize_path(project_folder)\n",
        "conv_3d1.initialize_image_properties(image_height=100,image_width=100)\n",
        "conv_3d1.initialize_hyperparams(frames_to_sample=30,batch_size=10,num_epochs=2)\n",
        "conv_3d1_model=conv_3d1.define_model()\n",
        "print(\"Total Params:\", conv_3d1_model.count_params())\n",
        "conv_3d1.train_model(conv_3d1_model)"
      ]
    },
    {
      "cell_type": "code",
      "execution_count": 26,
      "metadata": {
        "colab": {
          "base_uri": "https://localhost:8080/"
        },
        "id": "XIqgLL0Z76G_",
        "outputId": "de115a03-c6f5-417a-c1c7-400392746e6f"
      },
      "outputs": [
        {
          "output_type": "stream",
          "name": "stdout",
          "text": [
            "Total Params: 1736389\n",
            "WARNING:tensorflow:`period` argument is deprecated. Please use `save_freq` to specify the frequency in number of batches seen.\n",
            "Epoch 1/2\n",
            "67/67 [==============================] - ETA: 0s - loss: 1.6553 - categorical_accuracy: 0.4012\n",
            "Epoch 1: saving model to model_init_2022-06-1219_54_38.200986/model-00001-1.65527-0.40121-2.72411-0.23000.h5\n",
            "67/67 [==============================] - 107s 2s/step - loss: 1.6553 - categorical_accuracy: 0.4012 - val_loss: 2.7241 - val_categorical_accuracy: 0.2300 - lr: 0.0010\n",
            "Epoch 2/2\n",
            "67/67 [==============================] - ETA: 0s - loss: 1.1635 - categorical_accuracy: 0.5204\n",
            "Epoch 2: saving model to model_init_2022-06-1219_54_38.200986/model-00002-1.16350-0.52036-3.51705-0.16000.h5\n",
            "67/67 [==============================] - 105s 2s/step - loss: 1.1635 - categorical_accuracy: 0.5204 - val_loss: 3.5171 - val_categorical_accuracy: 0.1600 - lr: 0.0010\n"
          ]
        },
        {
          "output_type": "execute_result",
          "data": {
            "text/plain": [
              "<keras.callbacks.History at 0x7fb58e13d790>"
            ]
          },
          "metadata": {},
          "execution_count": 26
        }
      ],
      "source": [
        "conv_3d1=ModelConv3D1()\n",
        "conv_3d1.initialize_path(project_folder)\n",
        "conv_3d1.initialize_image_properties(image_height=160,image_width=160)\n",
        "conv_3d1.initialize_hyperparams(frames_to_sample=30,batch_size=10,num_epochs=2)\n",
        "conv_3d1_model=conv_3d1.define_model()\n",
        "print(\"Total Params:\", conv_3d1_model.count_params())\n",
        "conv_3d1.train_model(conv_3d1_model)"
      ]
    },
    {
      "cell_type": "code",
      "execution_count": 27,
      "metadata": {
        "colab": {
          "base_uri": "https://localhost:8080/"
        },
        "id": "THLoNf8q76G_",
        "outputId": "9c48dedf-cde1-4752-d844-a21d9a74f4ca"
      },
      "outputs": [
        {
          "output_type": "stream",
          "name": "stdout",
          "text": [
            "Total Params: 1736389\n",
            "WARNING:tensorflow:`period` argument is deprecated. Please use `save_freq` to specify the frequency in number of batches seen.\n",
            "Epoch 1/2\n",
            "67/67 [==============================] - ETA: 0s - loss: 1.7206 - categorical_accuracy: 0.3876\n",
            "Epoch 1: saving model to model_init_2022-06-1219_59_02.840886/model-00001-1.72055-0.38763-10.38389-0.16000.h5\n",
            "67/67 [==============================] - 58s 861ms/step - loss: 1.7206 - categorical_accuracy: 0.3876 - val_loss: 10.3839 - val_categorical_accuracy: 0.1600 - lr: 0.0010\n",
            "Epoch 2/2\n",
            "67/67 [==============================] - ETA: 0s - loss: 1.3235 - categorical_accuracy: 0.4917\n",
            "Epoch 2: saving model to model_init_2022-06-1219_59_02.840886/model-00002-1.32352-0.49170-9.97112-0.15000.h5\n",
            "67/67 [==============================] - 58s 875ms/step - loss: 1.3235 - categorical_accuracy: 0.4917 - val_loss: 9.9711 - val_categorical_accuracy: 0.1500 - lr: 0.0010\n"
          ]
        },
        {
          "output_type": "execute_result",
          "data": {
            "text/plain": [
              "<keras.callbacks.History at 0x7fb4065a4310>"
            ]
          },
          "metadata": {},
          "execution_count": 27
        }
      ],
      "source": [
        "conv_3d1=ModelConv3D1()\n",
        "conv_3d1.initialize_path(project_folder)\n",
        "conv_3d1.initialize_image_properties(image_height=160,image_width=160)\n",
        "conv_3d1.initialize_hyperparams(frames_to_sample=16,batch_size=10,num_epochs=2)\n",
        "conv_3d1_model=conv_3d1.define_model()\n",
        "print(\"Total Params:\", conv_3d1_model.count_params())\n",
        "conv_3d1.train_model(conv_3d1_model)"
      ]
    },
    {
      "cell_type": "code",
      "execution_count": 28,
      "metadata": {
        "colab": {
          "base_uri": "https://localhost:8080/"
        },
        "id": "OB9RqI4s76G_",
        "outputId": "cf4c0559-7da2-4c7c-bc49-30f12cb67dfa"
      },
      "outputs": [
        {
          "output_type": "stream",
          "name": "stdout",
          "text": [
            "Total Params: 1736389\n",
            "WARNING:tensorflow:`period` argument is deprecated. Please use `save_freq` to specify the frequency in number of batches seen.\n",
            "Epoch 1/2\n",
            "17/17 [==============================] - ETA: 0s - loss: 1.6017 - categorical_accuracy: 0.3891\n",
            "Epoch 1: saving model to model_init_2022-06-1220_00_59.681034/model-00001-1.60168-0.38914-1.95502-0.21000.h5\n",
            "17/17 [==============================] - 61s 4s/step - loss: 1.6017 - categorical_accuracy: 0.3891 - val_loss: 1.9550 - val_categorical_accuracy: 0.2100 - lr: 0.0010\n",
            "Epoch 2/2\n",
            "17/17 [==============================] - ETA: 0s - loss: 1.0549 - categorical_accuracy: 0.6048\n",
            "Epoch 2: saving model to model_init_2022-06-1220_00_59.681034/model-00002-1.05492-0.60483-4.17068-0.22000.h5\n",
            "17/17 [==============================] - 58s 4s/step - loss: 1.0549 - categorical_accuracy: 0.6048 - val_loss: 4.1707 - val_categorical_accuracy: 0.2200 - lr: 0.0010\n"
          ]
        },
        {
          "output_type": "execute_result",
          "data": {
            "text/plain": [
              "<keras.callbacks.History at 0x7fb40618b090>"
            ]
          },
          "metadata": {},
          "execution_count": 28
        }
      ],
      "source": [
        "conv_3d1=ModelConv3D1()\n",
        "conv_3d1.initialize_path(project_folder)\n",
        "conv_3d1.initialize_image_properties(image_height=160,image_width=160)\n",
        "conv_3d1.initialize_hyperparams(frames_to_sample=16,batch_size=40,num_epochs=2)\n",
        "conv_3d1_model=conv_3d1.define_model()\n",
        "print(\"Total Params:\", conv_3d1_model.count_params())\n",
        "conv_3d1.train_model(conv_3d1_model)"
      ]
    },
    {
      "cell_type": "markdown",
      "metadata": {
        "id": "Ri8pcTAc76G_"
      },
      "source": [
        "##### As we see from the above experiments image resolution and number of frames in sequence have more impact on training time than batch_size"
      ]
    },
    {
      "cell_type": "markdown",
      "metadata": {
        "collapsed": true,
        "id": "eR6KKCvS76HA"
      },
      "source": [
        "##### So experimentations are carried with batch size fixed around 15-40 and changing the resolution and number of image per sequence based on the device memory constraints . Models are designed such that their memory foot print is less than 50 MB which corresponds to 4.3 million parameters assuming the datatype size of parameters to be 12 bytes"
      ]
    },
    {
      "cell_type": "markdown",
      "metadata": {
        "id": "Zc_qJZZ676HA"
      },
      "source": [
        "# Model 1 - Base Model - No Data Augmentation Batch Size 40 and Epoch 15"
      ]
    },
    {
      "cell_type": "code",
      "execution_count": 29,
      "metadata": {
        "collapsed": true,
        "id": "hv0sgtrv76HA"
      },
      "outputs": [],
      "source": [
        "class ModelConv3D1(ModelBuilder):\n",
        "    \n",
        "    def define_model(self,filtersize=(3,3,3),dense_neurons=64,dropout=0.25):\n",
        "\n",
        "        model = Sequential()\n",
        "        model.add(Conv3D(16, filtersize, padding='same',\n",
        "                 input_shape=(self.frames_to_sample,self.image_height,self.image_width,self.channels)))\n",
        "        model.add(Activation('relu'))\n",
        "        model.add(BatchNormalization())\n",
        "        model.add(MaxPooling3D(pool_size=(2, 2, 2)))\n",
        "\n",
        "        model.add(Conv3D(32, filtersize, padding='same'))\n",
        "        model.add(Activation('relu'))\n",
        "        model.add(BatchNormalization())\n",
        "        model.add(MaxPooling3D(pool_size=(2, 2, 2)))\n",
        "\n",
        "        model.add(Conv3D(64, filtersize, padding='same'))\n",
        "        model.add(Activation('relu'))\n",
        "        model.add(BatchNormalization())\n",
        "        model.add(MaxPooling3D(pool_size=(2, 2, 2)))\n",
        "\n",
        "        model.add(Conv3D(128, filtersize, padding='same'))\n",
        "        model.add(Activation('relu'))\n",
        "        model.add(BatchNormalization())\n",
        "        model.add(MaxPooling3D(pool_size=(2, 2, 2)))\n",
        "\n",
        "        model.add(Flatten())\n",
        "        model.add(Dense(dense_neurons,activation='relu'))\n",
        "        model.add(BatchNormalization())\n",
        "        model.add(Dropout(dropout))\n",
        "\n",
        "        model.add(Dense(dense_neurons,activation='relu'))\n",
        "        model.add(BatchNormalization())\n",
        "        model.add(Dropout(dropout))\n",
        "\n",
        "\n",
        "        model.add(Dense(self.num_classes,activation='softmax'))\n",
        "\n",
        "        optimiser = optimizers.Adam()\n",
        "        model.compile(optimizer=optimiser, loss='categorical_crossentropy', metrics=['categorical_accuracy'])\n",
        "        return model"
      ]
    },
    {
      "cell_type": "code",
      "execution_count": 30,
      "metadata": {
        "colab": {
          "base_uri": "https://localhost:8080/"
        },
        "id": "oLx3vyfH76HA",
        "outputId": "681ee83e-6039-4d29-b248-aed68244dfd6"
      },
      "outputs": [
        {
          "output_type": "stream",
          "name": "stdout",
          "text": [
            "Model: \"sequential_14\"\n",
            "_________________________________________________________________\n",
            " Layer (type)                Output Shape              Param #   \n",
            "=================================================================\n",
            " conv3d_56 (Conv3D)          (None, 20, 160, 160, 16)  1312      \n",
            "                                                                 \n",
            " activation_56 (Activation)  (None, 20, 160, 160, 16)  0         \n",
            "                                                                 \n",
            " batch_normalization_84 (Bat  (None, 20, 160, 160, 16)  64       \n",
            " chNormalization)                                                \n",
            "                                                                 \n",
            " max_pooling3d_56 (MaxPoolin  (None, 10, 80, 80, 16)   0         \n",
            " g3D)                                                            \n",
            "                                                                 \n",
            " conv3d_57 (Conv3D)          (None, 10, 80, 80, 32)    13856     \n",
            "                                                                 \n",
            " activation_57 (Activation)  (None, 10, 80, 80, 32)    0         \n",
            "                                                                 \n",
            " batch_normalization_85 (Bat  (None, 10, 80, 80, 32)   128       \n",
            " chNormalization)                                                \n",
            "                                                                 \n",
            " max_pooling3d_57 (MaxPoolin  (None, 5, 40, 40, 32)    0         \n",
            " g3D)                                                            \n",
            "                                                                 \n",
            " conv3d_58 (Conv3D)          (None, 5, 40, 40, 64)     55360     \n",
            "                                                                 \n",
            " activation_58 (Activation)  (None, 5, 40, 40, 64)     0         \n",
            "                                                                 \n",
            " batch_normalization_86 (Bat  (None, 5, 40, 40, 64)    256       \n",
            " chNormalization)                                                \n",
            "                                                                 \n",
            " max_pooling3d_58 (MaxPoolin  (None, 2, 20, 20, 64)    0         \n",
            " g3D)                                                            \n",
            "                                                                 \n",
            " conv3d_59 (Conv3D)          (None, 2, 20, 20, 128)    221312    \n",
            "                                                                 \n",
            " activation_59 (Activation)  (None, 2, 20, 20, 128)    0         \n",
            "                                                                 \n",
            " batch_normalization_87 (Bat  (None, 2, 20, 20, 128)   512       \n",
            " chNormalization)                                                \n",
            "                                                                 \n",
            " max_pooling3d_59 (MaxPoolin  (None, 1, 10, 10, 128)   0         \n",
            " g3D)                                                            \n",
            "                                                                 \n",
            " flatten_14 (Flatten)        (None, 12800)             0         \n",
            "                                                                 \n",
            " dense_42 (Dense)            (None, 64)                819264    \n",
            "                                                                 \n",
            " batch_normalization_88 (Bat  (None, 64)               256       \n",
            " chNormalization)                                                \n",
            "                                                                 \n",
            " dropout_28 (Dropout)        (None, 64)                0         \n",
            "                                                                 \n",
            " dense_43 (Dense)            (None, 64)                4160      \n",
            "                                                                 \n",
            " batch_normalization_89 (Bat  (None, 64)               256       \n",
            " chNormalization)                                                \n",
            "                                                                 \n",
            " dropout_29 (Dropout)        (None, 64)                0         \n",
            "                                                                 \n",
            " dense_44 (Dense)            (None, 5)                 325       \n",
            "                                                                 \n",
            "=================================================================\n",
            "Total params: 1,117,061\n",
            "Trainable params: 1,116,325\n",
            "Non-trainable params: 736\n",
            "_________________________________________________________________\n"
          ]
        }
      ],
      "source": [
        "conv_3d1=ModelConv3D1()\n",
        "conv_3d1.initialize_path(project_folder)\n",
        "conv_3d1.initialize_image_properties(image_height=160,image_width=160)\n",
        "conv_3d1.initialize_hyperparams(frames_to_sample=20,batch_size=40,num_epochs=15)\n",
        "conv_3d1_model=conv_3d1.define_model()\n",
        "conv_3d1_model.summary()"
      ]
    },
    {
      "cell_type": "code",
      "execution_count": 31,
      "metadata": {
        "colab": {
          "base_uri": "https://localhost:8080/"
        },
        "id": "BoyN3B5576HA",
        "outputId": "bd05f5e2-2087-41df-cc5e-57ad17d4f5b7"
      },
      "outputs": [
        {
          "output_type": "stream",
          "name": "stdout",
          "text": [
            "Total Params: 1117061\n",
            "WARNING:tensorflow:`period` argument is deprecated. Please use `save_freq` to specify the frequency in number of batches seen.\n",
            "Epoch 1/15\n",
            "17/17 [==============================] - ETA: 0s - loss: 1.5822 - categorical_accuracy: 0.3952\n",
            "Epoch 1: saving model to model_init_2022-06-1220_03_02.606018/model-00001-1.58222-0.39517-1.50747-0.38000.h5\n",
            "17/17 [==============================] - 77s 5s/step - loss: 1.5822 - categorical_accuracy: 0.3952 - val_loss: 1.5075 - val_categorical_accuracy: 0.3800 - lr: 0.0010\n",
            "Epoch 2/15\n",
            "17/17 [==============================] - ETA: 0s - loss: 1.0275 - categorical_accuracy: 0.6109\n",
            "Epoch 2: saving model to model_init_2022-06-1220_03_02.606018/model-00002-1.02753-0.61086-2.85073-0.18000.h5\n",
            "17/17 [==============================] - 74s 5s/step - loss: 1.0275 - categorical_accuracy: 0.6109 - val_loss: 2.8507 - val_categorical_accuracy: 0.1800 - lr: 0.0010\n",
            "Epoch 3/15\n",
            "17/17 [==============================] - ETA: 0s - loss: 0.7796 - categorical_accuracy: 0.6998\n",
            "Epoch 3: saving model to model_init_2022-06-1220_03_02.606018/model-00003-0.77964-0.69985-2.67234-0.17000.h5\n",
            "17/17 [==============================] - 71s 4s/step - loss: 0.7796 - categorical_accuracy: 0.6998 - val_loss: 2.6723 - val_categorical_accuracy: 0.1700 - lr: 0.0010\n",
            "Epoch 4/15\n",
            "17/17 [==============================] - ETA: 0s - loss: 0.5144 - categorical_accuracy: 0.8205\n",
            "Epoch 4: saving model to model_init_2022-06-1220_03_02.606018/model-00004-0.51441-0.82051-2.67654-0.23000.h5\n",
            "17/17 [==============================] - 71s 4s/step - loss: 0.5144 - categorical_accuracy: 0.8205 - val_loss: 2.6765 - val_categorical_accuracy: 0.2300 - lr: 0.0010\n",
            "Epoch 5/15\n",
            "17/17 [==============================] - ETA: 0s - loss: 0.4030 - categorical_accuracy: 0.8507\n",
            "Epoch 5: saving model to model_init_2022-06-1220_03_02.606018/model-00005-0.40301-0.85068-2.58945-0.26000.h5\n",
            "\n",
            "Epoch 5: ReduceLROnPlateau reducing learning rate to 0.00020000000949949026.\n",
            "17/17 [==============================] - 72s 4s/step - loss: 0.4030 - categorical_accuracy: 0.8507 - val_loss: 2.5895 - val_categorical_accuracy: 0.2600 - lr: 0.0010\n",
            "Epoch 6/15\n",
            "17/17 [==============================] - ETA: 0s - loss: 0.3090 - categorical_accuracy: 0.9110\n",
            "Epoch 6: saving model to model_init_2022-06-1220_03_02.606018/model-00006-0.30900-0.91101-2.95733-0.23000.h5\n",
            "17/17 [==============================] - 70s 4s/step - loss: 0.3090 - categorical_accuracy: 0.9110 - val_loss: 2.9573 - val_categorical_accuracy: 0.2300 - lr: 2.0000e-04\n",
            "Epoch 7/15\n",
            "17/17 [==============================] - ETA: 0s - loss: 0.2706 - categorical_accuracy: 0.9170\n",
            "Epoch 7: saving model to model_init_2022-06-1220_03_02.606018/model-00007-0.27058-0.91704-3.17692-0.20000.h5\n",
            "17/17 [==============================] - 72s 4s/step - loss: 0.2706 - categorical_accuracy: 0.9170 - val_loss: 3.1769 - val_categorical_accuracy: 0.2000 - lr: 2.0000e-04\n",
            "Epoch 8/15\n",
            "17/17 [==============================] - ETA: 0s - loss: 0.2179 - categorical_accuracy: 0.9412\n",
            "Epoch 8: saving model to model_init_2022-06-1220_03_02.606018/model-00008-0.21794-0.94118-3.79318-0.20000.h5\n",
            "17/17 [==============================] - 72s 4s/step - loss: 0.2179 - categorical_accuracy: 0.9412 - val_loss: 3.7932 - val_categorical_accuracy: 0.2000 - lr: 2.0000e-04\n",
            "Epoch 9/15\n",
            "17/17 [==============================] - ETA: 0s - loss: 0.1922 - categorical_accuracy: 0.9532\n",
            "Epoch 9: saving model to model_init_2022-06-1220_03_02.606018/model-00009-0.19221-0.95324-4.36297-0.20000.h5\n",
            "\n",
            "Epoch 9: ReduceLROnPlateau reducing learning rate to 4.0000001899898055e-05.\n",
            "17/17 [==============================] - 70s 4s/step - loss: 0.1922 - categorical_accuracy: 0.9532 - val_loss: 4.3630 - val_categorical_accuracy: 0.2000 - lr: 2.0000e-04\n",
            "Epoch 10/15\n",
            "17/17 [==============================] - ETA: 0s - loss: 0.1792 - categorical_accuracy: 0.9683\n",
            "Epoch 10: saving model to model_init_2022-06-1220_03_02.606018/model-00010-0.17922-0.96833-4.88726-0.21000.h5\n",
            "17/17 [==============================] - 72s 4s/step - loss: 0.1792 - categorical_accuracy: 0.9683 - val_loss: 4.8873 - val_categorical_accuracy: 0.2100 - lr: 4.0000e-05\n",
            "Epoch 11/15\n",
            "17/17 [==============================] - ETA: 0s - loss: 0.1527 - categorical_accuracy: 0.9713\n",
            "Epoch 11: saving model to model_init_2022-06-1220_03_02.606018/model-00011-0.15274-0.97134-6.13222-0.15000.h5\n",
            "17/17 [==============================] - 72s 4s/step - loss: 0.1527 - categorical_accuracy: 0.9713 - val_loss: 6.1322 - val_categorical_accuracy: 0.1500 - lr: 4.0000e-05\n",
            "Epoch 12/15\n",
            "17/17 [==============================] - ETA: 0s - loss: 0.1569 - categorical_accuracy: 0.9638\n",
            "Epoch 12: saving model to model_init_2022-06-1220_03_02.606018/model-00012-0.15694-0.96380-6.52870-0.20000.h5\n",
            "17/17 [==============================] - 70s 4s/step - loss: 0.1569 - categorical_accuracy: 0.9638 - val_loss: 6.5287 - val_categorical_accuracy: 0.2000 - lr: 4.0000e-05\n",
            "Epoch 13/15\n",
            "17/17 [==============================] - ETA: 0s - loss: 0.1321 - categorical_accuracy: 0.9759\n",
            "Epoch 13: saving model to model_init_2022-06-1220_03_02.606018/model-00013-0.13210-0.97587-6.93233-0.21000.h5\n",
            "\n",
            "Epoch 13: ReduceLROnPlateau reducing learning rate to 8.000000525498762e-06.\n",
            "17/17 [==============================] - 72s 4s/step - loss: 0.1321 - categorical_accuracy: 0.9759 - val_loss: 6.9323 - val_categorical_accuracy: 0.2100 - lr: 4.0000e-05\n",
            "Epoch 14/15\n",
            "17/17 [==============================] - ETA: 0s - loss: 0.1418 - categorical_accuracy: 0.9744\n",
            "Epoch 14: saving model to model_init_2022-06-1220_03_02.606018/model-00014-0.14183-0.97436-7.39863-0.17000.h5\n",
            "17/17 [==============================] - 71s 4s/step - loss: 0.1418 - categorical_accuracy: 0.9744 - val_loss: 7.3986 - val_categorical_accuracy: 0.1700 - lr: 8.0000e-06\n",
            "Epoch 15/15\n",
            "17/17 [==============================] - ETA: 0s - loss: 0.1338 - categorical_accuracy: 0.9759\n",
            "Epoch 15: saving model to model_init_2022-06-1220_03_02.606018/model-00015-0.13380-0.97587-7.10098-0.21000.h5\n",
            "17/17 [==============================] - 69s 4s/step - loss: 0.1338 - categorical_accuracy: 0.9759 - val_loss: 7.1010 - val_categorical_accuracy: 0.2100 - lr: 8.0000e-06\n"
          ]
        }
      ],
      "source": [
        "print(\"Total Params:\", conv_3d1_model.count_params())\n",
        "history_model1 = conv_3d1.train_model(conv_3d1_model)"
      ]
    },
    {
      "cell_type": "code",
      "execution_count": 32,
      "metadata": {
        "colab": {
          "base_uri": "https://localhost:8080/",
          "height": 0
        },
        "id": "uh6yn60076HA",
        "outputId": "d0906dad-1f21-4a65-e447-5cf44a20a3e7"
      },
      "outputs": [
        {
          "output_type": "display_data",
          "data": {
            "text/plain": [
              "<Figure size 1080x288 with 2 Axes>"
            ],
            "image/png": "[encoded data removed]"
          },
          "metadata": {
            "needs_background": "light"
          }
        }
      ],
      "source": [
        "plot(history_model1)"
      ]
    },
    {
      "cell_type": "markdown",
      "metadata": {
        "id": "nt4R8wE176HA"
      },
      "source": [
        "##### Model is clearly overfitting. So we need to do data augmentation"
      ]
    },
    {
      "cell_type": "markdown",
      "metadata": {
        "id": "bTIqwe5q76HA"
      },
      "source": [
        "# Model 2 - Augment Data , (3,3,3) filter & 160x160 image resolution"
      ]
    },
    {
      "cell_type": "code",
      "execution_count": 33,
      "metadata": {
        "colab": {
          "base_uri": "https://localhost:8080/"
        },
        "id": "MHPgRkCz76HB",
        "outputId": "ae47b7a8-fe39-4655-d8d6-b68889e88f14"
      },
      "outputs": [
        {
          "output_type": "stream",
          "name": "stdout",
          "text": [
            "Model: \"sequential_15\"\n",
            "_________________________________________________________________\n",
            " Layer (type)                Output Shape              Param #   \n",
            "=================================================================\n",
            " conv3d_60 (Conv3D)          (None, 20, 160, 160, 16)  1312      \n",
            "                                                                 \n",
            " activation_60 (Activation)  (None, 20, 160, 160, 16)  0         \n",
            "                                                                 \n",
            " batch_normalization_90 (Bat  (None, 20, 160, 160, 16)  64       \n",
            " chNormalization)                                                \n",
            "                                                                 \n",
            " max_pooling3d_60 (MaxPoolin  (None, 10, 80, 80, 16)   0         \n",
            " g3D)                                                            \n",
            "                                                                 \n",
            " conv3d_61 (Conv3D)          (None, 10, 80, 80, 32)    13856     \n",
            "                                                                 \n",
            " activation_61 (Activation)  (None, 10, 80, 80, 32)    0         \n",
            "                                                                 \n",
            " batch_normalization_91 (Bat  (None, 10, 80, 80, 32)   128       \n",
            " chNormalization)                                                \n",
            "                                                                 \n",
            " max_pooling3d_61 (MaxPoolin  (None, 5, 40, 40, 32)    0         \n",
            " g3D)                                                            \n",
            "                                                                 \n",
            " conv3d_62 (Conv3D)          (None, 5, 40, 40, 64)     55360     \n",
            "                                                                 \n",
            " activation_62 (Activation)  (None, 5, 40, 40, 64)     0         \n",
            "                                                                 \n",
            " batch_normalization_92 (Bat  (None, 5, 40, 40, 64)    256       \n",
            " chNormalization)                                                \n",
            "                                                                 \n",
            " max_pooling3d_62 (MaxPoolin  (None, 2, 20, 20, 64)    0         \n",
            " g3D)                                                            \n",
            "                                                                 \n",
            " conv3d_63 (Conv3D)          (None, 2, 20, 20, 128)    221312    \n",
            "                                                                 \n",
            " activation_63 (Activation)  (None, 2, 20, 20, 128)    0         \n",
            "                                                                 \n",
            " batch_normalization_93 (Bat  (None, 2, 20, 20, 128)   512       \n",
            " chNormalization)                                                \n",
            "                                                                 \n",
            " max_pooling3d_63 (MaxPoolin  (None, 1, 10, 10, 128)   0         \n",
            " g3D)                                                            \n",
            "                                                                 \n",
            " flatten_15 (Flatten)        (None, 12800)             0         \n",
            "                                                                 \n",
            " dense_45 (Dense)            (None, 256)               3277056   \n",
            "                                                                 \n",
            " batch_normalization_94 (Bat  (None, 256)              1024      \n",
            " chNormalization)                                                \n",
            "                                                                 \n",
            " dropout_30 (Dropout)        (None, 256)               0         \n",
            "                                                                 \n",
            " dense_46 (Dense)            (None, 256)               65792     \n",
            "                                                                 \n",
            " batch_normalization_95 (Bat  (None, 256)              1024      \n",
            " chNormalization)                                                \n",
            "                                                                 \n",
            " dropout_31 (Dropout)        (None, 256)               0         \n",
            "                                                                 \n",
            " dense_47 (Dense)            (None, 5)                 1285      \n",
            "                                                                 \n",
            "=================================================================\n",
            "Total params: 3,638,981\n",
            "Trainable params: 3,637,477\n",
            "Non-trainable params: 1,504\n",
            "_________________________________________________________________\n"
          ]
        }
      ],
      "source": [
        "conv_3d2=ModelConv3D1()\n",
        "conv_3d2.initialize_path(project_folder)\n",
        "conv_3d2.initialize_image_properties(image_height=160,image_width=160)\n",
        "conv_3d2.initialize_hyperparams(frames_to_sample=20,batch_size=20,num_epochs=25)\n",
        "conv_3d2_model=conv_3d2.define_model(dense_neurons=256,dropout=0.5)\n",
        "conv_3d2_model.summary()"
      ]
    },
    {
      "cell_type": "code",
      "execution_count": 34,
      "metadata": {
        "colab": {
          "base_uri": "https://localhost:8080/"
        },
        "id": "OO2-dpvn76HB",
        "outputId": "87b0c20a-82f8-46e3-e385-512408282495"
      },
      "outputs": [
        {
          "output_type": "stream",
          "name": "stdout",
          "text": [
            "Total Params: 3638981\n",
            "WARNING:tensorflow:`period` argument is deprecated. Please use `save_freq` to specify the frequency in number of batches seen.\n",
            "Epoch 1/25\n",
            "34/34 [==============================] - ETA: 0s - loss: 2.1182 - categorical_accuracy: 0.3560\n",
            "Epoch 1: saving model to model_init_2022-06-1220_21_01.843486/model-00001-2.11819-0.35596-1.77627-0.24000.h5\n",
            "34/34 [==============================] - 121s 4s/step - loss: 2.1182 - categorical_accuracy: 0.3560 - val_loss: 1.7763 - val_categorical_accuracy: 0.2400 - lr: 0.0010\n",
            "Epoch 2/25\n",
            "34/34 [==============================] - ETA: 0s - loss: 1.5899 - categorical_accuracy: 0.4517\n",
            "Epoch 2: saving model to model_init_2022-06-1220_21_01.843486/model-00002-1.58986-0.45173-3.05867-0.23000.h5\n",
            "34/34 [==============================] - 119s 4s/step - loss: 1.5899 - categorical_accuracy: 0.4517 - val_loss: 3.0587 - val_categorical_accuracy: 0.2300 - lr: 0.0010\n",
            "Epoch 3/25\n",
            "34/34 [==============================] - ETA: 0s - loss: 1.3003 - categorical_accuracy: 0.5264\n",
            "Epoch 3: saving model to model_init_2022-06-1220_21_01.843486/model-00003-1.30027-0.52640-2.65350-0.23000.h5\n",
            "34/34 [==============================] - 118s 4s/step - loss: 1.3003 - categorical_accuracy: 0.5264 - val_loss: 2.6535 - val_categorical_accuracy: 0.2300 - lr: 0.0010\n",
            "Epoch 4/25\n",
            "34/34 [==============================] - ETA: 0s - loss: 1.2639 - categorical_accuracy: 0.5641\n",
            "Epoch 4: saving model to model_init_2022-06-1220_21_01.843486/model-00004-1.26393-0.56410-2.70105-0.28000.h5\n",
            "34/34 [==============================] - 119s 4s/step - loss: 1.2639 - categorical_accuracy: 0.5641 - val_loss: 2.7010 - val_categorical_accuracy: 0.2800 - lr: 0.0010\n",
            "Epoch 5/25\n",
            "34/34 [==============================] - ETA: 0s - loss: 0.9944 - categorical_accuracy: 0.6290\n",
            "Epoch 5: saving model to model_init_2022-06-1220_21_01.843486/model-00005-0.99440-0.62896-4.38700-0.27000.h5\n",
            "\n",
            "Epoch 5: ReduceLROnPlateau reducing learning rate to 0.00020000000949949026.\n",
            "34/34 [==============================] - 118s 4s/step - loss: 0.9944 - categorical_accuracy: 0.6290 - val_loss: 4.3870 - val_categorical_accuracy: 0.2700 - lr: 0.0010\n",
            "Epoch 6/25\n",
            "34/34 [==============================] - ETA: 0s - loss: 0.8871 - categorical_accuracy: 0.6742\n",
            "Epoch 6: saving model to model_init_2022-06-1220_21_01.843486/model-00006-0.88707-0.67421-4.06920-0.24000.h5\n",
            "34/34 [==============================] - 118s 4s/step - loss: 0.8871 - categorical_accuracy: 0.6742 - val_loss: 4.0692 - val_categorical_accuracy: 0.2400 - lr: 2.0000e-04\n",
            "Epoch 7/25\n",
            "34/34 [==============================] - ETA: 0s - loss: 0.7950 - categorical_accuracy: 0.7104\n",
            "Epoch 7: saving model to model_init_2022-06-1220_21_01.843486/model-00007-0.79503-0.71041-4.02939-0.23000.h5\n",
            "34/34 [==============================] - 118s 4s/step - loss: 0.7950 - categorical_accuracy: 0.7104 - val_loss: 4.0294 - val_categorical_accuracy: 0.2300 - lr: 2.0000e-04\n",
            "Epoch 8/25\n",
            "34/34 [==============================] - ETA: 0s - loss: 0.7583 - categorical_accuracy: 0.7089\n",
            "Epoch 8: saving model to model_init_2022-06-1220_21_01.843486/model-00008-0.75834-0.70890-4.29330-0.20000.h5\n",
            "34/34 [==============================] - 118s 4s/step - loss: 0.7583 - categorical_accuracy: 0.7089 - val_loss: 4.2933 - val_categorical_accuracy: 0.2000 - lr: 2.0000e-04\n",
            "Epoch 9/25\n",
            "34/34 [==============================] - ETA: 0s - loss: 0.7078 - categorical_accuracy: 0.7436\n",
            "Epoch 9: saving model to model_init_2022-06-1220_21_01.843486/model-00009-0.70782-0.74359-4.00194-0.19000.h5\n",
            "\n",
            "Epoch 9: ReduceLROnPlateau reducing learning rate to 4.0000001899898055e-05.\n",
            "34/34 [==============================] - 119s 4s/step - loss: 0.7078 - categorical_accuracy: 0.7436 - val_loss: 4.0019 - val_categorical_accuracy: 0.1900 - lr: 2.0000e-04\n",
            "Epoch 10/25\n",
            "34/34 [==============================] - ETA: 0s - loss: 0.6675 - categorical_accuracy: 0.7413\n",
            "Epoch 10: saving model to model_init_2022-06-1220_21_01.843486/model-00010-0.66753-0.74133-3.90923-0.22000.h5\n",
            "34/34 [==============================] - 118s 4s/step - loss: 0.6675 - categorical_accuracy: 0.7413 - val_loss: 3.9092 - val_categorical_accuracy: 0.2200 - lr: 4.0000e-05\n",
            "Epoch 11/25\n",
            "34/34 [==============================] - ETA: 0s - loss: 0.6077 - categorical_accuracy: 0.7609\n",
            "Epoch 11: saving model to model_init_2022-06-1220_21_01.843486/model-00011-0.60772-0.76094-3.16680-0.24000.h5\n",
            "34/34 [==============================] - 118s 4s/step - loss: 0.6077 - categorical_accuracy: 0.7609 - val_loss: 3.1668 - val_categorical_accuracy: 0.2400 - lr: 4.0000e-05\n",
            "Epoch 12/25\n",
            "34/34 [==============================] - ETA: 0s - loss: 0.6210 - categorical_accuracy: 0.7624\n",
            "Epoch 12: saving model to model_init_2022-06-1220_21_01.843486/model-00012-0.62101-0.76244-2.71414-0.33000.h5\n",
            "34/34 [==============================] - 117s 4s/step - loss: 0.6210 - categorical_accuracy: 0.7624 - val_loss: 2.7141 - val_categorical_accuracy: 0.3300 - lr: 4.0000e-05\n",
            "Epoch 13/25\n",
            "34/34 [==============================] - ETA: 0s - loss: 0.5889 - categorical_accuracy: 0.7775\n",
            "Epoch 13: saving model to model_init_2022-06-1220_21_01.843486/model-00013-0.58890-0.77753-2.68070-0.26000.h5\n",
            "\n",
            "Epoch 13: ReduceLROnPlateau reducing learning rate to 8.000000525498762e-06.\n",
            "34/34 [==============================] - 118s 4s/step - loss: 0.5889 - categorical_accuracy: 0.7775 - val_loss: 2.6807 - val_categorical_accuracy: 0.2600 - lr: 4.0000e-05\n",
            "Epoch 14/25\n",
            "34/34 [==============================] - ETA: 0s - loss: 0.5829 - categorical_accuracy: 0.7813\n",
            "Epoch 14: saving model to model_init_2022-06-1220_21_01.843486/model-00014-0.58290-0.78130-1.97477-0.40000.h5\n",
            "34/34 [==============================] - 120s 4s/step - loss: 0.5829 - categorical_accuracy: 0.7813 - val_loss: 1.9748 - val_categorical_accuracy: 0.4000 - lr: 8.0000e-06\n",
            "Epoch 15/25\n",
            "34/34 [==============================] - ETA: 0s - loss: 0.5434 - categorical_accuracy: 0.7986\n",
            "Epoch 15: saving model to model_init_2022-06-1220_21_01.843486/model-00015-0.54339-0.79864-1.93514-0.40000.h5\n",
            "34/34 [==============================] - 118s 4s/step - loss: 0.5434 - categorical_accuracy: 0.7986 - val_loss: 1.9351 - val_categorical_accuracy: 0.4000 - lr: 8.0000e-06\n",
            "Epoch 16/25\n",
            "34/34 [==============================] - ETA: 0s - loss: 0.5766 - categorical_accuracy: 0.7790\n",
            "Epoch 16: saving model to model_init_2022-06-1220_21_01.843486/model-00016-0.57662-0.77903-1.42744-0.50000.h5\n",
            "34/34 [==============================] - 119s 4s/step - loss: 0.5766 - categorical_accuracy: 0.7790 - val_loss: 1.4274 - val_categorical_accuracy: 0.5000 - lr: 8.0000e-06\n",
            "Epoch 17/25\n",
            "34/34 [==============================] - ETA: 0s - loss: 0.5820 - categorical_accuracy: 0.7873\n",
            "Epoch 17: saving model to model_init_2022-06-1220_21_01.843486/model-00017-0.58203-0.78733-1.04184-0.60000.h5\n",
            "34/34 [==============================] - 119s 4s/step - loss: 0.5820 - categorical_accuracy: 0.7873 - val_loss: 1.0418 - val_categorical_accuracy: 0.6000 - lr: 8.0000e-06\n",
            "Epoch 18/25\n",
            "34/34 [==============================] - ETA: 0s - loss: 0.6057 - categorical_accuracy: 0.7722\n",
            "Epoch 18: saving model to model_init_2022-06-1220_21_01.843486/model-00018-0.60567-0.77225-1.18084-0.61000.h5\n",
            "34/34 [==============================] - 119s 4s/step - loss: 0.6057 - categorical_accuracy: 0.7722 - val_loss: 1.1808 - val_categorical_accuracy: 0.6100 - lr: 8.0000e-06\n",
            "Epoch 19/25\n",
            "34/34 [==============================] - ETA: 0s - loss: 0.6126 - categorical_accuracy: 0.7738\n",
            "Epoch 19: saving model to model_init_2022-06-1220_21_01.843486/model-00019-0.61264-0.77376-0.81525-0.70000.h5\n",
            "34/34 [==============================] - 120s 4s/step - loss: 0.6126 - categorical_accuracy: 0.7738 - val_loss: 0.8153 - val_categorical_accuracy: 0.7000 - lr: 8.0000e-06\n",
            "Epoch 20/25\n",
            "34/34 [==============================] - ETA: 0s - loss: 0.5931 - categorical_accuracy: 0.7798\n",
            "Epoch 20: saving model to model_init_2022-06-1220_21_01.843486/model-00020-0.59313-0.77979-0.90337-0.69000.h5\n",
            "34/34 [==============================] - 116s 4s/step - loss: 0.5931 - categorical_accuracy: 0.7798 - val_loss: 0.9034 - val_categorical_accuracy: 0.6900 - lr: 8.0000e-06\n",
            "Epoch 21/25\n",
            "34/34 [==============================] - ETA: 0s - loss: 0.6300 - categorical_accuracy: 0.7707\n",
            "Epoch 21: saving model to model_init_2022-06-1220_21_01.843486/model-00021-0.63000-0.77074-0.77408-0.75000.h5\n",
            "34/34 [==============================] - 117s 4s/step - loss: 0.6300 - categorical_accuracy: 0.7707 - val_loss: 0.7741 - val_categorical_accuracy: 0.7500 - lr: 8.0000e-06\n",
            "Epoch 22/25\n",
            "34/34 [==============================] - ETA: 0s - loss: 0.5704 - categorical_accuracy: 0.7836\n",
            "Epoch 22: saving model to model_init_2022-06-1220_21_01.843486/model-00022-0.57040-0.78356-0.70585-0.78000.h5\n",
            "34/34 [==============================] - 117s 4s/step - loss: 0.5704 - categorical_accuracy: 0.7836 - val_loss: 0.7058 - val_categorical_accuracy: 0.7800 - lr: 8.0000e-06\n",
            "Epoch 23/25\n",
            "34/34 [==============================] - ETA: 0s - loss: 0.6028 - categorical_accuracy: 0.7745\n",
            "Epoch 23: saving model to model_init_2022-06-1220_21_01.843486/model-00023-0.60280-0.77451-0.76601-0.73000.h5\n",
            "34/34 [==============================] - 116s 4s/step - loss: 0.6028 - categorical_accuracy: 0.7745 - val_loss: 0.7660 - val_categorical_accuracy: 0.7300 - lr: 8.0000e-06\n",
            "Epoch 24/25\n",
            "34/34 [==============================] - ETA: 0s - loss: 0.5737 - categorical_accuracy: 0.7640\n",
            "Epoch 24: saving model to model_init_2022-06-1220_21_01.843486/model-00024-0.57371-0.76395-0.69514-0.74000.h5\n",
            "34/34 [==============================] - 119s 4s/step - loss: 0.5737 - categorical_accuracy: 0.7640 - val_loss: 0.6951 - val_categorical_accuracy: 0.7400 - lr: 8.0000e-06\n",
            "Epoch 25/25\n",
            "34/34 [==============================] - ETA: 0s - loss: 0.5488 - categorical_accuracy: 0.7851\n",
            "Epoch 25: saving model to model_init_2022-06-1220_21_01.843486/model-00025-0.54880-0.78507-0.76201-0.76000.h5\n",
            "34/34 [==============================] - 117s 4s/step - loss: 0.5488 - categorical_accuracy: 0.7851 - val_loss: 0.7620 - val_categorical_accuracy: 0.7600 - lr: 8.0000e-06\n"
          ]
        }
      ],
      "source": [
        "print(\"Total Params:\", conv_3d2_model.count_params())\n",
        "history_model2=conv_3d2.train_model(conv_3d2_model,augment_data=True)"
      ]
    },
    {
      "cell_type": "code",
      "execution_count": 35,
      "metadata": {
        "colab": {
          "base_uri": "https://localhost:8080/",
          "height": 0
        },
        "id": "GaSPi9lr76HB",
        "outputId": "b9aae7bb-e94f-4c58-f39c-fabca6f8a6de"
      },
      "outputs": [
        {
          "output_type": "display_data",
          "data": {
            "text/plain": [
              "<Figure size 1080x288 with 2 Axes>"
            ],
            "image/png": "[encoded data removed]"
          },
          "metadata": {
            "needs_background": "light"
          }
        }
      ],
      "source": [
        "plot(history_model2)"
      ]
    },
    {
      "cell_type": "markdown",
      "metadata": {
        "id": "Nv0JzEYr76HB"
      },
      "source": [
        "##### Model is not overfitting and we get a best validation accuracy of 85% and training accuracy of 91%. Next we will try to reduce the filter size and image resolution and see if get better results. Moreover since we see minor oscillations  in loss, let's try lowering the learning rate to 0.0002"
      ]
    },
    {
      "cell_type": "markdown",
      "metadata": {
        "id": "3ii9KBfd76HB"
      },
      "source": [
        "# Model 3 - Reduce filter size to (2,2,2) and image res to 120 x  120"
      ]
    },
    {
      "cell_type": "code",
      "execution_count": 36,
      "metadata": {
        "collapsed": true,
        "id": "JD4cu3dM76HB"
      },
      "outputs": [],
      "source": [
        "class ModelConv3D3(ModelBuilder):\n",
        "    \n",
        "    def define_model(self,filtersize=(3,3,3),dense_neurons=64,dropout=0.25):\n",
        "\n",
        "        model = Sequential()\n",
        "        model.add(Conv3D(16, filtersize, padding='same',\n",
        "                 input_shape=(self.frames_to_sample,self.image_height,self.image_width,self.channels)))\n",
        "        model.add(Activation('relu'))\n",
        "        model.add(BatchNormalization())\n",
        "        model.add(MaxPooling3D(pool_size=(2, 2, 2)))\n",
        "\n",
        "        model.add(Conv3D(32, filtersize, padding='same'))\n",
        "        model.add(Activation('relu'))\n",
        "        model.add(BatchNormalization())\n",
        "        model.add(MaxPooling3D(pool_size=(2, 2, 2)))\n",
        "\n",
        "        model.add(Conv3D(64, filtersize, padding='same'))\n",
        "        model.add(Activation('relu'))\n",
        "        model.add(BatchNormalization())\n",
        "        model.add(MaxPooling3D(pool_size=(2, 2, 2)))\n",
        "\n",
        "        model.add(Conv3D(128, filtersize, padding='same'))\n",
        "        model.add(Activation('relu'))\n",
        "        model.add(BatchNormalization())\n",
        "        model.add(MaxPooling3D(pool_size=(2, 2, 2)))\n",
        "\n",
        "        model.add(Flatten())\n",
        "        model.add(Dense(dense_neurons,activation='relu'))\n",
        "        model.add(BatchNormalization())\n",
        "        model.add(Dropout(dropout))\n",
        "\n",
        "        model.add(Dense(dense_neurons,activation='relu'))\n",
        "        model.add(BatchNormalization())\n",
        "        model.add(Dropout(dropout))\n",
        "\n",
        "\n",
        "        model.add(Dense(self.num_classes,activation='softmax'))\n",
        "\n",
        "        optimiser = optimizers.Adam(lr=0.0002)\n",
        "        model.compile(optimizer=optimiser, loss='categorical_crossentropy', metrics=['categorical_accuracy'])\n",
        "        return model"
      ]
    },
    {
      "cell_type": "code",
      "execution_count": 37,
      "metadata": {
        "colab": {
          "base_uri": "https://localhost:8080/"
        },
        "id": "GG5yTpTm76HB",
        "outputId": "748165dd-fa53-4b30-8e8f-45c7a0cbcf37"
      },
      "outputs": [
        {
          "output_type": "stream",
          "name": "stdout",
          "text": [
            "Model: \"sequential_16\"\n",
            "_________________________________________________________________\n",
            " Layer (type)                Output Shape              Param #   \n",
            "=================================================================\n",
            " conv3d_64 (Conv3D)          (None, 16, 120, 120, 16)  400       \n",
            "                                                                 \n",
            " activation_64 (Activation)  (None, 16, 120, 120, 16)  0         \n",
            "                                                                 \n",
            " batch_normalization_96 (Bat  (None, 16, 120, 120, 16)  64       \n",
            " chNormalization)                                                \n",
            "                                                                 \n",
            " max_pooling3d_64 (MaxPoolin  (None, 8, 60, 60, 16)    0         \n",
            " g3D)                                                            \n",
            "                                                                 \n",
            " conv3d_65 (Conv3D)          (None, 8, 60, 60, 32)     4128      \n",
            "                                                                 \n",
            " activation_65 (Activation)  (None, 8, 60, 60, 32)     0         \n",
            "                                                                 \n",
            " batch_normalization_97 (Bat  (None, 8, 60, 60, 32)    128       \n",
            " chNormalization)                                                \n",
            "                                                                 \n",
            " max_pooling3d_65 (MaxPoolin  (None, 4, 30, 30, 32)    0         \n",
            " g3D)                                                            \n",
            "                                                                 \n",
            " conv3d_66 (Conv3D)          (None, 4, 30, 30, 64)     16448     \n",
            "                                                                 \n",
            " activation_66 (Activation)  (None, 4, 30, 30, 64)     0         \n",
            "                                                                 \n",
            " batch_normalization_98 (Bat  (None, 4, 30, 30, 64)    256       \n",
            " chNormalization)                                                \n",
            "                                                                 \n",
            " max_pooling3d_66 (MaxPoolin  (None, 2, 15, 15, 64)    0         \n",
            " g3D)                                                            \n",
            "                                                                 \n",
            " conv3d_67 (Conv3D)          (None, 2, 15, 15, 128)    65664     \n",
            "                                                                 \n",
            " activation_67 (Activation)  (None, 2, 15, 15, 128)    0         \n",
            "                                                                 \n",
            " batch_normalization_99 (Bat  (None, 2, 15, 15, 128)   512       \n",
            " chNormalization)                                                \n",
            "                                                                 \n",
            " max_pooling3d_67 (MaxPoolin  (None, 1, 7, 7, 128)     0         \n",
            " g3D)                                                            \n",
            "                                                                 \n",
            " flatten_16 (Flatten)        (None, 6272)              0         \n",
            "                                                                 \n",
            " dense_48 (Dense)            (None, 256)               1605888   \n",
            "                                                                 \n",
            " batch_normalization_100 (Ba  (None, 256)              1024      \n",
            " tchNormalization)                                               \n",
            "                                                                 \n",
            " dropout_32 (Dropout)        (None, 256)               0         \n",
            "                                                                 \n",
            " dense_49 (Dense)            (None, 256)               65792     \n",
            "                                                                 \n",
            " batch_normalization_101 (Ba  (None, 256)              1024      \n",
            " tchNormalization)                                               \n",
            "                                                                 \n",
            " dropout_33 (Dropout)        (None, 256)               0         \n",
            "                                                                 \n",
            " dense_50 (Dense)            (None, 5)                 1285      \n",
            "                                                                 \n",
            "=================================================================\n",
            "Total params: 1,762,613\n",
            "Trainable params: 1,761,109\n",
            "Non-trainable params: 1,504\n",
            "_________________________________________________________________\n"
          ]
        }
      ],
      "source": [
        "conv_3d3=ModelConv3D3()\n",
        "conv_3d3.initialize_path(project_folder)\n",
        "conv_3d3.initialize_image_properties(image_height=120,image_width=120)\n",
        "conv_3d3.initialize_hyperparams(frames_to_sample=16,batch_size=30,num_epochs=30)\n",
        "conv_3d3_model=conv_3d3.define_model(filtersize=(2,2,2),dense_neurons=256,dropout=0.5)\n",
        "conv_3d3_model.summary()"
      ]
    },
    {
      "cell_type": "code",
      "execution_count": 38,
      "metadata": {
        "colab": {
          "base_uri": "https://localhost:8080/"
        },
        "id": "haC4qbfw76HC",
        "outputId": "a485b9a8-ead6-4a76-f9c5-0c7500043314"
      },
      "outputs": [
        {
          "output_type": "stream",
          "name": "stdout",
          "text": [
            "Total Params: 1762613\n",
            "WARNING:tensorflow:`period` argument is deprecated. Please use `save_freq` to specify the frequency in number of batches seen.\n",
            "Epoch 1/30\n",
            "23/23 [==============================] - ETA: 0s - loss: 2.1769 - categorical_accuracy: 0.3205\n",
            "Epoch 1: saving model to model_init_2022-06-1221_10_20.317328/model-00001-2.17686-0.32051-1.66105-0.16000.h5\n",
            "23/23 [==============================] - 90s 4s/step - loss: 2.1769 - categorical_accuracy: 0.3205 - val_loss: 1.6610 - val_categorical_accuracy: 0.1600 - lr: 2.0000e-04\n",
            "Epoch 2/30\n",
            "22/23 [===========================>..] - ETA: 3s - loss: 1.4516 - categorical_accuracy: 0.4924\n",
            "Epoch 2: saving model to model_init_2022-06-1221_10_20.317328/model-00002-1.45279-0.49170-2.55792-0.12000.h5\n",
            "23/23 [==============================] - 87s 4s/step - loss: 1.4528 - categorical_accuracy: 0.4917 - val_loss: 2.5579 - val_categorical_accuracy: 0.1200 - lr: 2.0000e-04\n",
            "Epoch 3/30\n",
            "23/23 [==============================] - ETA: 0s - loss: 1.3826 - categorical_accuracy: 0.5294\n",
            "Epoch 3: saving model to model_init_2022-06-1221_10_20.317328/model-00003-1.38257-0.52941-3.59169-0.19000.h5\n",
            "23/23 [==============================] - 88s 4s/step - loss: 1.3826 - categorical_accuracy: 0.5294 - val_loss: 3.5917 - val_categorical_accuracy: 0.1900 - lr: 2.0000e-04\n",
            "Epoch 4/30\n",
            "22/23 [===========================>..] - ETA: 3s - loss: 1.0872 - categorical_accuracy: 0.6106\n",
            "Epoch 4: saving model to model_init_2022-06-1221_10_20.317328/model-00004-1.09460-0.60784-5.41184-0.13000.h5\n",
            "23/23 [==============================] - 86s 4s/step - loss: 1.0946 - categorical_accuracy: 0.6078 - val_loss: 5.4118 - val_categorical_accuracy: 0.1300 - lr: 2.0000e-04\n",
            "Epoch 5/30\n",
            "23/23 [==============================] - ETA: 0s - loss: 1.0735 - categorical_accuracy: 0.6222\n",
            "Epoch 5: saving model to model_init_2022-06-1221_10_20.317328/model-00005-1.07348-0.62217-6.25970-0.16000.h5\n",
            "\n",
            "Epoch 5: ReduceLROnPlateau reducing learning rate to 3.9999998989515007e-05.\n",
            "23/23 [==============================] - 87s 4s/step - loss: 1.0735 - categorical_accuracy: 0.6222 - val_loss: 6.2597 - val_categorical_accuracy: 0.1600 - lr: 2.0000e-04\n",
            "Epoch 6/30\n",
            "22/23 [===========================>..] - ETA: 3s - loss: 0.9000 - categorical_accuracy: 0.6758\n",
            "Epoch 6: saving model to model_init_2022-06-1221_10_20.317328/model-00006-0.89971-0.67647-7.63653-0.13000.h5\n",
            "23/23 [==============================] - 89s 4s/step - loss: 0.8997 - categorical_accuracy: 0.6765 - val_loss: 7.6365 - val_categorical_accuracy: 0.1300 - lr: 4.0000e-05\n",
            "Epoch 7/30\n",
            "23/23 [==============================] - ETA: 0s - loss: 0.9263 - categorical_accuracy: 0.6621\n",
            "Epoch 7: saving model to model_init_2022-06-1221_10_20.317328/model-00007-0.92631-0.66214-8.33215-0.19000.h5\n",
            "23/23 [==============================] - 89s 4s/step - loss: 0.9263 - categorical_accuracy: 0.6621 - val_loss: 8.3322 - val_categorical_accuracy: 0.1900 - lr: 4.0000e-05\n",
            "Epoch 8/30\n",
            "23/23 [==============================] - ETA: 0s - loss: 0.9506 - categorical_accuracy: 0.6569\n",
            "Epoch 8: saving model to model_init_2022-06-1221_10_20.317328/model-00008-0.95059-0.65686-9.41848-0.14000.h5\n",
            "23/23 [==============================] - 86s 4s/step - loss: 0.9506 - categorical_accuracy: 0.6569 - val_loss: 9.4185 - val_categorical_accuracy: 0.1400 - lr: 4.0000e-05\n",
            "Epoch 9/30\n",
            "23/23 [==============================] - ETA: 0s - loss: 0.8592 - categorical_accuracy: 0.6916\n",
            "Epoch 9: saving model to model_init_2022-06-1221_10_20.317328/model-00009-0.85925-0.69155-9.50808-0.16000.h5\n",
            "\n",
            "Epoch 9: ReduceLROnPlateau reducing learning rate to 7.999999797903002e-06.\n",
            "23/23 [==============================] - 85s 4s/step - loss: 0.8592 - categorical_accuracy: 0.6916 - val_loss: 9.5081 - val_categorical_accuracy: 0.1600 - lr: 4.0000e-05\n",
            "Epoch 10/30\n",
            "23/23 [==============================] - ETA: 0s - loss: 0.8540 - categorical_accuracy: 0.6946\n",
            "Epoch 10: saving model to model_init_2022-06-1221_10_20.317328/model-00010-0.85400-0.69457-9.85297-0.17000.h5\n",
            "23/23 [==============================] - 89s 4s/step - loss: 0.8540 - categorical_accuracy: 0.6946 - val_loss: 9.8530 - val_categorical_accuracy: 0.1700 - lr: 8.0000e-06\n",
            "Epoch 11/30\n",
            "23/23 [==============================] - ETA: 0s - loss: 0.8295 - categorical_accuracy: 0.6998\n",
            "Epoch 11: saving model to model_init_2022-06-1221_10_20.317328/model-00011-0.82955-0.69985-9.12801-0.16000.h5\n",
            "23/23 [==============================] - 86s 4s/step - loss: 0.8295 - categorical_accuracy: 0.6998 - val_loss: 9.1280 - val_categorical_accuracy: 0.1600 - lr: 8.0000e-06\n",
            "Epoch 12/30\n",
            "23/23 [==============================] - ETA: 0s - loss: 0.8178 - categorical_accuracy: 0.6893\n",
            "Epoch 12: saving model to model_init_2022-06-1221_10_20.317328/model-00012-0.81777-0.68929-8.76976-0.15000.h5\n",
            "23/23 [==============================] - 86s 4s/step - loss: 0.8178 - categorical_accuracy: 0.6893 - val_loss: 8.7698 - val_categorical_accuracy: 0.1500 - lr: 8.0000e-06\n",
            "Epoch 13/30\n",
            "23/23 [==============================] - ETA: 0s - loss: 0.8087 - categorical_accuracy: 0.6916\n",
            "Epoch 13: saving model to model_init_2022-06-1221_10_20.317328/model-00013-0.80870-0.69155-7.94220-0.18000.h5\n",
            "\n",
            "Epoch 13: ReduceLROnPlateau reducing learning rate to 1.5999999959603884e-06.\n",
            "23/23 [==============================] - 87s 4s/step - loss: 0.8087 - categorical_accuracy: 0.6916 - val_loss: 7.9422 - val_categorical_accuracy: 0.1800 - lr: 8.0000e-06\n",
            "Epoch 14/30\n",
            "23/23 [==============================] - ETA: 0s - loss: 0.8672 - categorical_accuracy: 0.6780\n",
            "Epoch 14: saving model to model_init_2022-06-1221_10_20.317328/model-00014-0.86716-0.67798-7.42637-0.20000.h5\n",
            "23/23 [==============================] - 87s 4s/step - loss: 0.8672 - categorical_accuracy: 0.6780 - val_loss: 7.4264 - val_categorical_accuracy: 0.2000 - lr: 1.6000e-06\n",
            "Epoch 15/30\n",
            "22/23 [===========================>..] - ETA: 3s - loss: 0.8364 - categorical_accuracy: 0.6780\n",
            "Epoch 15: saving model to model_init_2022-06-1221_10_20.317328/model-00015-0.84135-0.67722-6.47222-0.17000.h5\n",
            "23/23 [==============================] - 88s 4s/step - loss: 0.8414 - categorical_accuracy: 0.6772 - val_loss: 6.4722 - val_categorical_accuracy: 0.1700 - lr: 1.6000e-06\n",
            "Epoch 16/30\n",
            "22/23 [===========================>..] - ETA: 3s - loss: 0.8518 - categorical_accuracy: 0.6765\n",
            "Epoch 16: saving model to model_init_2022-06-1221_10_20.317328/model-00016-0.85104-0.67647-5.32689-0.26000.h5\n",
            "23/23 [==============================] - 86s 4s/step - loss: 0.8510 - categorical_accuracy: 0.6765 - val_loss: 5.3269 - val_categorical_accuracy: 0.2600 - lr: 1.6000e-06\n",
            "Epoch 17/30\n",
            "23/23 [==============================] - ETA: 0s - loss: 0.8637 - categorical_accuracy: 0.6870\n",
            "Epoch 17: saving model to model_init_2022-06-1221_10_20.317328/model-00017-0.86366-0.68703-4.65096-0.27000.h5\n",
            "\n",
            "Epoch 17: ReduceLROnPlateau reducing learning rate to 3.200000037395512e-07.\n",
            "23/23 [==============================] - 84s 4s/step - loss: 0.8637 - categorical_accuracy: 0.6870 - val_loss: 4.6510 - val_categorical_accuracy: 0.2700 - lr: 1.6000e-06\n",
            "Epoch 18/30\n",
            "22/23 [===========================>..] - ETA: 3s - loss: 0.8454 - categorical_accuracy: 0.6856\n",
            "Epoch 18: saving model to model_init_2022-06-1221_10_20.317328/model-00018-0.84821-0.68477-3.98258-0.30000.h5\n",
            "23/23 [==============================] - 89s 4s/step - loss: 0.8482 - categorical_accuracy: 0.6848 - val_loss: 3.9826 - val_categorical_accuracy: 0.3000 - lr: 3.2000e-07\n",
            "Epoch 19/30\n",
            "23/23 [==============================] - ETA: 0s - loss: 0.8056 - categorical_accuracy: 0.7066\n",
            "Epoch 19: saving model to model_init_2022-06-1221_10_20.317328/model-00019-0.80564-0.70664-3.44774-0.28000.h5\n",
            "23/23 [==============================] - 87s 4s/step - loss: 0.8056 - categorical_accuracy: 0.7066 - val_loss: 3.4477 - val_categorical_accuracy: 0.2800 - lr: 3.2000e-07\n",
            "Epoch 20/30\n",
            "23/23 [==============================] - ETA: 0s - loss: 0.8442 - categorical_accuracy: 0.7021\n",
            "Epoch 20: saving model to model_init_2022-06-1221_10_20.317328/model-00020-0.84424-0.70211-2.95175-0.34000.h5\n",
            "23/23 [==============================] - 85s 4s/step - loss: 0.8442 - categorical_accuracy: 0.7021 - val_loss: 2.9517 - val_categorical_accuracy: 0.3400 - lr: 3.2000e-07\n",
            "Epoch 21/30\n",
            "23/23 [==============================] - ETA: 0s - loss: 0.8284 - categorical_accuracy: 0.6923\n",
            "Epoch 21: saving model to model_init_2022-06-1221_10_20.317328/model-00021-0.82840-0.69231-2.72082-0.35000.h5\n",
            "\n",
            "Epoch 21: ReduceLROnPlateau reducing learning rate to 6.399999961104187e-08.\n",
            "23/23 [==============================] - 86s 4s/step - loss: 0.8284 - categorical_accuracy: 0.6923 - val_loss: 2.7208 - val_categorical_accuracy: 0.3500 - lr: 3.2000e-07\n",
            "Epoch 22/30\n",
            "23/23 [==============================] - ETA: 0s - loss: 0.8561 - categorical_accuracy: 0.6780\n",
            "Epoch 22: saving model to model_init_2022-06-1221_10_20.317328/model-00022-0.85609-0.67798-2.60826-0.35000.h5\n",
            "23/23 [==============================] - 88s 4s/step - loss: 0.8561 - categorical_accuracy: 0.6780 - val_loss: 2.6083 - val_categorical_accuracy: 0.3500 - lr: 6.4000e-08\n",
            "Epoch 23/30\n",
            "22/23 [===========================>..] - ETA: 3s - loss: 0.8157 - categorical_accuracy: 0.6879\n",
            "Epoch 23: saving model to model_init_2022-06-1221_10_20.317328/model-00023-0.82231-0.68703-2.03461-0.44000.h5\n",
            "23/23 [==============================] - 87s 4s/step - loss: 0.8223 - categorical_accuracy: 0.6870 - val_loss: 2.0346 - val_categorical_accuracy: 0.4400 - lr: 6.4000e-08\n",
            "Epoch 24/30\n",
            "22/23 [===========================>..] - ETA: 3s - loss: 0.8416 - categorical_accuracy: 0.6985\n",
            "Epoch 24: saving model to model_init_2022-06-1221_10_20.317328/model-00024-0.84839-0.69608-1.93650-0.47000.h5\n",
            "23/23 [==============================] - 86s 4s/step - loss: 0.8484 - categorical_accuracy: 0.6961 - val_loss: 1.9365 - val_categorical_accuracy: 0.4700 - lr: 6.4000e-08\n",
            "Epoch 25/30\n",
            "23/23 [==============================] - ETA: 0s - loss: 0.8435 - categorical_accuracy: 0.6833\n",
            "Epoch 25: saving model to model_init_2022-06-1221_10_20.317328/model-00025-0.84347-0.68326-1.57780-0.50000.h5\n",
            "23/23 [==============================] - 87s 4s/step - loss: 0.8435 - categorical_accuracy: 0.6833 - val_loss: 1.5778 - val_categorical_accuracy: 0.5000 - lr: 6.4000e-08\n",
            "Epoch 26/30\n",
            "23/23 [==============================] - ETA: 0s - loss: 0.8440 - categorical_accuracy: 0.6961\n",
            "Epoch 26: saving model to model_init_2022-06-1221_10_20.317328/model-00026-0.84398-0.69608-1.48096-0.49000.h5\n",
            "23/23 [==============================] - 89s 4s/step - loss: 0.8440 - categorical_accuracy: 0.6961 - val_loss: 1.4810 - val_categorical_accuracy: 0.4900 - lr: 6.4000e-08\n",
            "Epoch 27/30\n",
            "23/23 [==============================] - ETA: 0s - loss: 0.8184 - categorical_accuracy: 0.6998\n",
            "Epoch 27: saving model to model_init_2022-06-1221_10_20.317328/model-00027-0.81842-0.69985-1.05248-0.63000.h5\n",
            "23/23 [==============================] - 88s 4s/step - loss: 0.8184 - categorical_accuracy: 0.6998 - val_loss: 1.0525 - val_categorical_accuracy: 0.6300 - lr: 6.4000e-08\n",
            "Epoch 28/30\n",
            "22/23 [===========================>..] - ETA: 3s - loss: 0.8372 - categorical_accuracy: 0.6841\n",
            "Epoch 28: saving model to model_init_2022-06-1221_10_20.317328/model-00028-0.83905-0.68326-1.17794-0.59000.h5\n",
            "23/23 [==============================] - 86s 4s/step - loss: 0.8390 - categorical_accuracy: 0.6833 - val_loss: 1.1779 - val_categorical_accuracy: 0.5900 - lr: 6.4000e-08\n",
            "Epoch 29/30\n",
            "23/23 [==============================] - ETA: 0s - loss: 0.8307 - categorical_accuracy: 0.6908\n",
            "Epoch 29: saving model to model_init_2022-06-1221_10_20.317328/model-00029-0.83067-0.69080-1.01485-0.69000.h5\n",
            "23/23 [==============================] - 87s 4s/step - loss: 0.8307 - categorical_accuracy: 0.6908 - val_loss: 1.0148 - val_categorical_accuracy: 0.6900 - lr: 6.4000e-08\n",
            "Epoch 30/30\n",
            "22/23 [===========================>..] - ETA: 3s - loss: 0.8237 - categorical_accuracy: 0.6917\n",
            "Epoch 30: saving model to model_init_2022-06-1221_10_20.317328/model-00030-0.82717-0.69155-0.92085-0.72000.h5\n",
            "23/23 [==============================] - 88s 4s/step - loss: 0.8272 - categorical_accuracy: 0.6916 - val_loss: 0.9208 - val_categorical_accuracy: 0.7200 - lr: 6.4000e-08\n"
          ]
        }
      ],
      "source": [
        "print(\"Total Params:\", conv_3d3_model.count_params())\n",
        "history_model3=conv_3d3.train_model(conv_3d3_model,augment_data=True)"
      ]
    },
    {
      "cell_type": "code",
      "execution_count": 39,
      "metadata": {
        "colab": {
          "base_uri": "https://localhost:8080/",
          "height": 0
        },
        "id": "ypY9ojzI76HC",
        "outputId": "def7effb-c64b-4106-fc9f-8ad237f92996"
      },
      "outputs": [
        {
          "output_type": "display_data",
          "data": {
            "text/plain": [
              "<Figure size 1080x288 with 2 Axes>"
            ],
            "image/png": "[encoded data removed]"
          },
          "metadata": {
            "needs_background": "light"
          }
        }
      ],
      "source": [
        "plot(history_model3)"
      ]
    },
    {
      "cell_type": "markdown",
      "metadata": {
        "id": "hXsbu_u776HC"
      },
      "source": [
        "##### Model has a  best validation accuracy of 84% and training accuracy of 84% . Also we were able to reduce the parameter size by half the earlier model. Let's trying adding more layers"
      ]
    },
    {
      "cell_type": "markdown",
      "metadata": {
        "id": "UeE7cW2p76HC"
      },
      "source": [
        "# Model 4 - Adding more layers"
      ]
    },
    {
      "cell_type": "code",
      "execution_count": 40,
      "metadata": {
        "collapsed": true,
        "id": "YxJqFCW-76HC"
      },
      "outputs": [],
      "source": [
        "class ModelConv3D4(ModelBuilder):\n",
        "    \n",
        "    def define_model(self,filtersize=(3,3,3),dense_neurons=64,dropout=0.25):\n",
        "\n",
        "        model = Sequential()\n",
        "        model.add(Conv3D(16, filtersize, padding='same',\n",
        "                 input_shape=(self.frames_to_sample,self.image_height,self.image_width,self.channels)))\n",
        "        model.add(Activation('relu'))\n",
        "        model.add(BatchNormalization())\n",
        "        \n",
        "        model.add(Conv3D(16, filtersize, padding='same',\n",
        "                 input_shape=(self.frames_to_sample,self.image_height,self.image_width,self.channels)))\n",
        "        model.add(Activation('relu'))\n",
        "        model.add(BatchNormalization())\n",
        "        \n",
        "        model.add(MaxPooling3D(pool_size=(2, 2, 2)))\n",
        "\n",
        "        model.add(Conv3D(32, filtersize, padding='same'))\n",
        "        model.add(Activation('relu'))\n",
        "        model.add(BatchNormalization())\n",
        "        \n",
        "        model.add(Conv3D(32, filtersize, padding='same'))\n",
        "        model.add(Activation('relu'))\n",
        "        model.add(BatchNormalization())\n",
        "        \n",
        "        model.add(MaxPooling3D(pool_size=(2, 2, 2)))\n",
        "\n",
        "        model.add(Conv3D(64, filtersize, padding='same'))\n",
        "        model.add(Activation('relu'))\n",
        "        model.add(BatchNormalization())\n",
        "        \n",
        "        model.add(Conv3D(64, filtersize, padding='same'))\n",
        "        model.add(Activation('relu'))\n",
        "        model.add(BatchNormalization())\n",
        "        \n",
        "        model.add(MaxPooling3D(pool_size=(2, 2, 2)))\n",
        "\n",
        "        model.add(Conv3D(128, filtersize, padding='same'))\n",
        "        model.add(Activation('relu'))\n",
        "        model.add(BatchNormalization())\n",
        "        \n",
        "        model.add(Conv3D(128, filtersize, padding='same'))\n",
        "        model.add(Activation('relu'))\n",
        "        model.add(BatchNormalization())\n",
        "        \n",
        "        model.add(MaxPooling3D(pool_size=(2, 2, 2)))\n",
        "        \n",
        "\n",
        "        model.add(Flatten())\n",
        "        model.add(Dense(dense_neurons,activation='relu'))\n",
        "        model.add(BatchNormalization())\n",
        "        model.add(Dropout(dropout))\n",
        "\n",
        "        model.add(Dense(dense_neurons,activation='relu'))\n",
        "        model.add(BatchNormalization())\n",
        "        model.add(Dropout(dropout))\n",
        "\n",
        "\n",
        "        model.add(Dense(self.num_classes,activation='softmax'))\n",
        "\n",
        "        optimiser = optimizers.Adam()\n",
        "        model.compile(optimizer=optimiser, loss='categorical_crossentropy', metrics=['categorical_accuracy'])\n",
        "        return model"
      ]
    },
    {
      "cell_type": "code",
      "execution_count": 41,
      "metadata": {
        "colab": {
          "base_uri": "https://localhost:8080/"
        },
        "id": "AYIiHhSE76HC",
        "outputId": "ad1ab21e-3b70-42d0-e88a-9801135794d6"
      },
      "outputs": [
        {
          "output_type": "stream",
          "name": "stdout",
          "text": [
            "Model: \"sequential_17\"\n",
            "_________________________________________________________________\n",
            " Layer (type)                Output Shape              Param #   \n",
            "=================================================================\n",
            " conv3d_68 (Conv3D)          (None, 16, 120, 120, 16)  1312      \n",
            "                                                                 \n",
            " activation_68 (Activation)  (None, 16, 120, 120, 16)  0         \n",
            "                                                                 \n",
            " batch_normalization_102 (Ba  (None, 16, 120, 120, 16)  64       \n",
            " tchNormalization)                                               \n",
            "                                                                 \n",
            " conv3d_69 (Conv3D)          (None, 16, 120, 120, 16)  6928      \n",
            "                                                                 \n",
            " activation_69 (Activation)  (None, 16, 120, 120, 16)  0         \n",
            "                                                                 \n",
            " batch_normalization_103 (Ba  (None, 16, 120, 120, 16)  64       \n",
            " tchNormalization)                                               \n",
            "                                                                 \n",
            " max_pooling3d_68 (MaxPoolin  (None, 8, 60, 60, 16)    0         \n",
            " g3D)                                                            \n",
            "                                                                 \n",
            " conv3d_70 (Conv3D)          (None, 8, 60, 60, 32)     13856     \n",
            "                                                                 \n",
            " activation_70 (Activation)  (None, 8, 60, 60, 32)     0         \n",
            "                                                                 \n",
            " batch_normalization_104 (Ba  (None, 8, 60, 60, 32)    128       \n",
            " tchNormalization)                                               \n",
            "                                                                 \n",
            " conv3d_71 (Conv3D)          (None, 8, 60, 60, 32)     27680     \n",
            "                                                                 \n",
            " activation_71 (Activation)  (None, 8, 60, 60, 32)     0         \n",
            "                                                                 \n",
            " batch_normalization_105 (Ba  (None, 8, 60, 60, 32)    128       \n",
            " tchNormalization)                                               \n",
            "                                                                 \n",
            " max_pooling3d_69 (MaxPoolin  (None, 4, 30, 30, 32)    0         \n",
            " g3D)                                                            \n",
            "                                                                 \n",
            " conv3d_72 (Conv3D)          (None, 4, 30, 30, 64)     55360     \n",
            "                                                                 \n",
            " activation_72 (Activation)  (None, 4, 30, 30, 64)     0         \n",
            "                                                                 \n",
            " batch_normalization_106 (Ba  (None, 4, 30, 30, 64)    256       \n",
            " tchNormalization)                                               \n",
            "                                                                 \n",
            " conv3d_73 (Conv3D)          (None, 4, 30, 30, 64)     110656    \n",
            "                                                                 \n",
            " activation_73 (Activation)  (None, 4, 30, 30, 64)     0         \n",
            "                                                                 \n",
            " batch_normalization_107 (Ba  (None, 4, 30, 30, 64)    256       \n",
            " tchNormalization)                                               \n",
            "                                                                 \n",
            " max_pooling3d_70 (MaxPoolin  (None, 2, 15, 15, 64)    0         \n",
            " g3D)                                                            \n",
            "                                                                 \n",
            " conv3d_74 (Conv3D)          (None, 2, 15, 15, 128)    221312    \n",
            "                                                                 \n",
            " activation_74 (Activation)  (None, 2, 15, 15, 128)    0         \n",
            "                                                                 \n",
            " batch_normalization_108 (Ba  (None, 2, 15, 15, 128)   512       \n",
            " tchNormalization)                                               \n",
            "                                                                 \n",
            " conv3d_75 (Conv3D)          (None, 2, 15, 15, 128)    442496    \n",
            "                                                                 \n",
            " activation_75 (Activation)  (None, 2, 15, 15, 128)    0         \n",
            "                                                                 \n",
            " batch_normalization_109 (Ba  (None, 2, 15, 15, 128)   512       \n",
            " tchNormalization)                                               \n",
            "                                                                 \n",
            " max_pooling3d_71 (MaxPoolin  (None, 1, 7, 7, 128)     0         \n",
            " g3D)                                                            \n",
            "                                                                 \n",
            " flatten_17 (Flatten)        (None, 6272)              0         \n",
            "                                                                 \n",
            " dense_51 (Dense)            (None, 256)               1605888   \n",
            "                                                                 \n",
            " batch_normalization_110 (Ba  (None, 256)              1024      \n",
            " tchNormalization)                                               \n",
            "                                                                 \n",
            " dropout_34 (Dropout)        (None, 256)               0         \n",
            "                                                                 \n",
            " dense_52 (Dense)            (None, 256)               65792     \n",
            "                                                                 \n",
            " batch_normalization_111 (Ba  (None, 256)              1024      \n",
            " tchNormalization)                                               \n",
            "                                                                 \n",
            " dropout_35 (Dropout)        (None, 256)               0         \n",
            "                                                                 \n",
            " dense_53 (Dense)            (None, 5)                 1285      \n",
            "                                                                 \n",
            "=================================================================\n",
            "Total params: 2,556,533\n",
            "Trainable params: 2,554,549\n",
            "Non-trainable params: 1,984\n",
            "_________________________________________________________________\n"
          ]
        }
      ],
      "source": [
        "conv_3d4=ModelConv3D4()\n",
        "conv_3d4.initialize_path(project_folder)\n",
        "conv_3d4.initialize_image_properties(image_height=120,image_width=120)\n",
        "conv_3d4.initialize_hyperparams(frames_to_sample=16,batch_size=20,num_epochs=30)\n",
        "conv_3d4_model=conv_3d4.define_model(filtersize=(3,3,3),dense_neurons=256,dropout=0.5)\n",
        "conv_3d4_model.summary()"
      ]
    },
    {
      "cell_type": "code",
      "execution_count": 42,
      "metadata": {
        "colab": {
          "base_uri": "https://localhost:8080/"
        },
        "id": "2-TjZJSv76HD",
        "outputId": "7f173cf0-c728-419f-cb0f-7fefd41b321b"
      },
      "outputs": [
        {
          "output_type": "stream",
          "name": "stdout",
          "text": [
            "Total Params: 2556533\n",
            "WARNING:tensorflow:`period` argument is deprecated. Please use `save_freq` to specify the frequency in number of batches seen.\n",
            "Epoch 1/30\n",
            "34/34 [==============================] - ETA: 0s - loss: 1.9629 - categorical_accuracy: 0.3477\n",
            "Epoch 1: saving model to model_init_2022-06-1221_53_56.581979/model-00001-1.96290-0.34766-2.29910-0.21000.h5\n",
            "34/34 [==============================] - 90s 3s/step - loss: 1.9629 - categorical_accuracy: 0.3477 - val_loss: 2.2991 - val_categorical_accuracy: 0.2100 - lr: 0.0010\n",
            "Epoch 2/30\n",
            "34/34 [==============================] - ETA: 0s - loss: 1.5525 - categorical_accuracy: 0.4646\n",
            "Epoch 2: saving model to model_init_2022-06-1221_53_56.581979/model-00002-1.55252-0.46456-3.80209-0.18000.h5\n",
            "34/34 [==============================] - 89s 3s/step - loss: 1.5525 - categorical_accuracy: 0.4646 - val_loss: 3.8021 - val_categorical_accuracy: 0.1800 - lr: 0.0010\n",
            "Epoch 3/30\n",
            "34/34 [==============================] - ETA: 0s - loss: 1.5078 - categorical_accuracy: 0.4759\n",
            "Epoch 3: saving model to model_init_2022-06-1221_53_56.581979/model-00003-1.50778-0.47587-2.99604-0.21000.h5\n",
            "34/34 [==============================] - 87s 3s/step - loss: 1.5078 - categorical_accuracy: 0.4759 - val_loss: 2.9960 - val_categorical_accuracy: 0.2100 - lr: 0.0010\n",
            "Epoch 4/30\n",
            "34/34 [==============================] - ETA: 0s - loss: 1.1996 - categorical_accuracy: 0.5581\n",
            "Epoch 4: saving model to model_init_2022-06-1221_53_56.581979/model-00004-1.19957-0.55807-3.41901-0.24000.h5\n",
            "34/34 [==============================] - 88s 3s/step - loss: 1.1996 - categorical_accuracy: 0.5581 - val_loss: 3.4190 - val_categorical_accuracy: 0.2400 - lr: 0.0010\n",
            "Epoch 5/30\n",
            "34/34 [==============================] - ETA: 0s - loss: 1.0932 - categorical_accuracy: 0.6116\n",
            "Epoch 5: saving model to model_init_2022-06-1221_53_56.581979/model-00005-1.09321-0.61161-4.34123-0.22000.h5\n",
            "\n",
            "Epoch 5: ReduceLROnPlateau reducing learning rate to 0.00020000000949949026.\n",
            "34/34 [==============================] - 87s 3s/step - loss: 1.0932 - categorical_accuracy: 0.6116 - val_loss: 4.3412 - val_categorical_accuracy: 0.2200 - lr: 0.0010\n",
            "Epoch 6/30\n",
            "34/34 [==============================] - ETA: 0s - loss: 0.9029 - categorical_accuracy: 0.6591\n",
            "Epoch 6: saving model to model_init_2022-06-1221_53_56.581979/model-00006-0.90289-0.65913-4.94900-0.24000.h5\n",
            "34/34 [==============================] - 88s 3s/step - loss: 0.9029 - categorical_accuracy: 0.6591 - val_loss: 4.9490 - val_categorical_accuracy: 0.2400 - lr: 2.0000e-04\n",
            "Epoch 7/30\n",
            "34/34 [==============================] - ETA: 0s - loss: 0.8606 - categorical_accuracy: 0.6780\n",
            "Epoch 7: saving model to model_init_2022-06-1221_53_56.581979/model-00007-0.86057-0.67798-4.22547-0.33000.h5\n",
            "34/34 [==============================] - 87s 3s/step - loss: 0.8606 - categorical_accuracy: 0.6780 - val_loss: 4.2255 - val_categorical_accuracy: 0.3300 - lr: 2.0000e-04\n",
            "Epoch 8/30\n",
            "34/34 [==============================] - ETA: 0s - loss: 0.8790 - categorical_accuracy: 0.6614\n",
            "Epoch 8: saving model to model_init_2022-06-1221_53_56.581979/model-00008-0.87903-0.66139-3.79901-0.24000.h5\n",
            "34/34 [==============================] - 88s 3s/step - loss: 0.8790 - categorical_accuracy: 0.6614 - val_loss: 3.7990 - val_categorical_accuracy: 0.2400 - lr: 2.0000e-04\n",
            "Epoch 9/30\n",
            "34/34 [==============================] - ETA: 0s - loss: 0.8410 - categorical_accuracy: 0.6878\n",
            "Epoch 9: saving model to model_init_2022-06-1221_53_56.581979/model-00009-0.84095-0.68778-3.11616-0.31000.h5\n",
            "\n",
            "Epoch 9: ReduceLROnPlateau reducing learning rate to 4.0000001899898055e-05.\n",
            "34/34 [==============================] - 88s 3s/step - loss: 0.8410 - categorical_accuracy: 0.6878 - val_loss: 3.1162 - val_categorical_accuracy: 0.3100 - lr: 2.0000e-04\n",
            "Epoch 10/30\n",
            "34/34 [==============================] - ETA: 0s - loss: 0.7257 - categorical_accuracy: 0.7285\n",
            "Epoch 10: saving model to model_init_2022-06-1221_53_56.581979/model-00010-0.72570-0.72851-3.28513-0.29000.h5\n",
            "34/34 [==============================] - 87s 3s/step - loss: 0.7257 - categorical_accuracy: 0.7285 - val_loss: 3.2851 - val_categorical_accuracy: 0.2900 - lr: 4.0000e-05\n",
            "Epoch 11/30\n",
            "34/34 [==============================] - ETA: 0s - loss: 0.6539 - categorical_accuracy: 0.7541\n",
            "Epoch 11: saving model to model_init_2022-06-1221_53_56.581979/model-00011-0.65392-0.75415-3.27366-0.28000.h5\n",
            "34/34 [==============================] - 87s 3s/step - loss: 0.6539 - categorical_accuracy: 0.7541 - val_loss: 3.2737 - val_categorical_accuracy: 0.2800 - lr: 4.0000e-05\n",
            "Epoch 12/30\n",
            "34/34 [==============================] - ETA: 0s - loss: 0.6892 - categorical_accuracy: 0.7270\n",
            "Epoch 12: saving model to model_init_2022-06-1221_53_56.581979/model-00012-0.68921-0.72700-2.93079-0.32000.h5\n",
            "34/34 [==============================] - 88s 3s/step - loss: 0.6892 - categorical_accuracy: 0.7270 - val_loss: 2.9308 - val_categorical_accuracy: 0.3200 - lr: 4.0000e-05\n",
            "Epoch 13/30\n",
            "34/34 [==============================] - ETA: 0s - loss: 0.6238 - categorical_accuracy: 0.7557\n",
            "Epoch 13: saving model to model_init_2022-06-1221_53_56.581979/model-00013-0.62375-0.75566-3.00368-0.25000.h5\n",
            "\n",
            "Epoch 13: ReduceLROnPlateau reducing learning rate to 8.000000525498762e-06.\n",
            "34/34 [==============================] - 87s 3s/step - loss: 0.6238 - categorical_accuracy: 0.7557 - val_loss: 3.0037 - val_categorical_accuracy: 0.2500 - lr: 4.0000e-05\n",
            "Epoch 14/30\n",
            "34/34 [==============================] - ETA: 0s - loss: 0.6927 - categorical_accuracy: 0.7338\n",
            "Epoch 14: saving model to model_init_2022-06-1221_53_56.581979/model-00014-0.69272-0.73379-2.29006-0.39000.h5\n",
            "34/34 [==============================] - 88s 3s/step - loss: 0.6927 - categorical_accuracy: 0.7338 - val_loss: 2.2901 - val_categorical_accuracy: 0.3900 - lr: 8.0000e-06\n",
            "Epoch 15/30\n",
            "34/34 [==============================] - ETA: 0s - loss: 0.6536 - categorical_accuracy: 0.7632\n",
            "Epoch 15: saving model to model_init_2022-06-1221_53_56.581979/model-00015-0.65359-0.76320-1.80792-0.45000.h5\n",
            "34/34 [==============================] - 88s 3s/step - loss: 0.6536 - categorical_accuracy: 0.7632 - val_loss: 1.8079 - val_categorical_accuracy: 0.4500 - lr: 8.0000e-06\n",
            "Epoch 16/30\n",
            "34/34 [==============================] - ETA: 0s - loss: 0.6520 - categorical_accuracy: 0.7534\n",
            "Epoch 16: saving model to model_init_2022-06-1221_53_56.581979/model-00016-0.65204-0.75339-1.46314-0.52000.h5\n",
            "34/34 [==============================] - 88s 3s/step - loss: 0.6520 - categorical_accuracy: 0.7534 - val_loss: 1.4631 - val_categorical_accuracy: 0.5200 - lr: 8.0000e-06\n",
            "Epoch 17/30\n",
            "34/34 [==============================] - ETA: 0s - loss: 0.6387 - categorical_accuracy: 0.7738\n",
            "Epoch 17: saving model to model_init_2022-06-1221_53_56.581979/model-00017-0.63871-0.77376-1.08631-0.61000.h5\n",
            "34/34 [==============================] - 88s 3s/step - loss: 0.6387 - categorical_accuracy: 0.7738 - val_loss: 1.0863 - val_categorical_accuracy: 0.6100 - lr: 8.0000e-06\n",
            "Epoch 18/30\n",
            "34/34 [==============================] - ETA: 0s - loss: 0.6448 - categorical_accuracy: 0.7519\n",
            "Epoch 18: saving model to model_init_2022-06-1221_53_56.581979/model-00018-0.64478-0.75189-1.16405-0.59000.h5\n",
            "34/34 [==============================] - 88s 3s/step - loss: 0.6448 - categorical_accuracy: 0.7519 - val_loss: 1.1641 - val_categorical_accuracy: 0.5900 - lr: 8.0000e-06\n",
            "Epoch 19/30\n",
            "34/34 [==============================] - ETA: 0s - loss: 0.6238 - categorical_accuracy: 0.7602\n",
            "Epoch 19: saving model to model_init_2022-06-1221_53_56.581979/model-00019-0.62375-0.76018-0.87498-0.68000.h5\n",
            "34/34 [==============================] - 88s 3s/step - loss: 0.6238 - categorical_accuracy: 0.7602 - val_loss: 0.8750 - val_categorical_accuracy: 0.6800 - lr: 8.0000e-06\n",
            "Epoch 20/30\n",
            "34/34 [==============================] - ETA: 0s - loss: 0.5886 - categorical_accuracy: 0.7760\n",
            "Epoch 20: saving model to model_init_2022-06-1221_53_56.581979/model-00020-0.58861-0.77602-0.85823-0.68000.h5\n",
            "34/34 [==============================] - 88s 3s/step - loss: 0.5886 - categorical_accuracy: 0.7760 - val_loss: 0.8582 - val_categorical_accuracy: 0.6800 - lr: 8.0000e-06\n",
            "Epoch 21/30\n",
            "34/34 [==============================] - ETA: 0s - loss: 0.6853 - categorical_accuracy: 0.7557\n",
            "Epoch 21: saving model to model_init_2022-06-1221_53_56.581979/model-00021-0.68529-0.75566-0.83563-0.70000.h5\n",
            "34/34 [==============================] - 87s 3s/step - loss: 0.6853 - categorical_accuracy: 0.7557 - val_loss: 0.8356 - val_categorical_accuracy: 0.7000 - lr: 8.0000e-06\n",
            "Epoch 22/30\n",
            "34/34 [==============================] - ETA: 0s - loss: 0.6537 - categorical_accuracy: 0.7519\n",
            "Epoch 22: saving model to model_init_2022-06-1221_53_56.581979/model-00022-0.65375-0.75189-0.82520-0.70000.h5\n",
            "34/34 [==============================] - 88s 3s/step - loss: 0.6537 - categorical_accuracy: 0.7519 - val_loss: 0.8252 - val_categorical_accuracy: 0.7000 - lr: 8.0000e-06\n",
            "Epoch 23/30\n",
            "34/34 [==============================] - ETA: 0s - loss: 0.6132 - categorical_accuracy: 0.7692\n",
            "Epoch 23: saving model to model_init_2022-06-1221_53_56.581979/model-00023-0.61323-0.76923-0.80883-0.70000.h5\n",
            "34/34 [==============================] - 87s 3s/step - loss: 0.6132 - categorical_accuracy: 0.7692 - val_loss: 0.8088 - val_categorical_accuracy: 0.7000 - lr: 8.0000e-06\n",
            "Epoch 24/30\n",
            "34/34 [==============================] - ETA: 0s - loss: 0.6057 - categorical_accuracy: 0.7617\n",
            "Epoch 24: saving model to model_init_2022-06-1221_53_56.581979/model-00024-0.60566-0.76169-0.87282-0.66000.h5\n",
            "34/34 [==============================] - 87s 3s/step - loss: 0.6057 - categorical_accuracy: 0.7617 - val_loss: 0.8728 - val_categorical_accuracy: 0.6600 - lr: 8.0000e-06\n",
            "Epoch 25/30\n",
            "34/34 [==============================] - ETA: 0s - loss: 0.6109 - categorical_accuracy: 0.7557\n",
            "Epoch 25: saving model to model_init_2022-06-1221_53_56.581979/model-00025-0.61087-0.75566-0.80406-0.70000.h5\n",
            "34/34 [==============================] - 88s 3s/step - loss: 0.6109 - categorical_accuracy: 0.7557 - val_loss: 0.8041 - val_categorical_accuracy: 0.7000 - lr: 8.0000e-06\n",
            "Epoch 26/30\n",
            "34/34 [==============================] - ETA: 0s - loss: 0.6112 - categorical_accuracy: 0.7722\n",
            "Epoch 26: saving model to model_init_2022-06-1221_53_56.581979/model-00026-0.61123-0.77225-0.73414-0.73000.h5\n",
            "34/34 [==============================] - 88s 3s/step - loss: 0.6112 - categorical_accuracy: 0.7722 - val_loss: 0.7341 - val_categorical_accuracy: 0.7300 - lr: 8.0000e-06\n",
            "Epoch 27/30\n",
            "34/34 [==============================] - ETA: 0s - loss: 0.6081 - categorical_accuracy: 0.7670\n",
            "Epoch 27: saving model to model_init_2022-06-1221_53_56.581979/model-00027-0.60808-0.76697-0.81485-0.72000.h5\n",
            "34/34 [==============================] - 87s 3s/step - loss: 0.6081 - categorical_accuracy: 0.7670 - val_loss: 0.8148 - val_categorical_accuracy: 0.7200 - lr: 8.0000e-06\n",
            "Epoch 28/30\n",
            "34/34 [==============================] - ETA: 0s - loss: 0.6073 - categorical_accuracy: 0.7587\n",
            "Epoch 28: saving model to model_init_2022-06-1221_53_56.581979/model-00028-0.60728-0.75867-0.66188-0.72000.h5\n",
            "34/34 [==============================] - 87s 3s/step - loss: 0.6073 - categorical_accuracy: 0.7587 - val_loss: 0.6619 - val_categorical_accuracy: 0.7200 - lr: 8.0000e-06\n",
            "Epoch 29/30\n",
            "34/34 [==============================] - ETA: 0s - loss: 0.6178 - categorical_accuracy: 0.7670\n",
            "Epoch 29: saving model to model_init_2022-06-1221_53_56.581979/model-00029-0.61776-0.76697-0.72853-0.76000.h5\n",
            "34/34 [==============================] - 87s 3s/step - loss: 0.6178 - categorical_accuracy: 0.7670 - val_loss: 0.7285 - val_categorical_accuracy: 0.7600 - lr: 8.0000e-06\n",
            "Epoch 30/30\n",
            "34/34 [==============================] - ETA: 0s - loss: 0.5779 - categorical_accuracy: 0.7753\n",
            "Epoch 30: saving model to model_init_2022-06-1221_53_56.581979/model-00030-0.57791-0.77526-0.80219-0.69000.h5\n",
            "34/34 [==============================] - 87s 3s/step - loss: 0.5779 - categorical_accuracy: 0.7753 - val_loss: 0.8022 - val_categorical_accuracy: 0.6900 - lr: 8.0000e-06\n"
          ]
        }
      ],
      "source": [
        "print(\"Total Params:\", conv_3d4_model.count_params())\n",
        "history_model4=conv_3d4.train_model(conv_3d4_model,augment_data=True)"
      ]
    },
    {
      "cell_type": "code",
      "execution_count": 43,
      "metadata": {
        "colab": {
          "base_uri": "https://localhost:8080/",
          "height": 0
        },
        "id": "10FwHROQ76HD",
        "outputId": "86c082fb-cbb6-4aab-98ef-c9a76549ba55"
      },
      "outputs": [
        {
          "output_type": "display_data",
          "data": {
            "text/plain": [
              "<Figure size 1080x288 with 2 Axes>"
            ],
            "image/png": "[encoded data removed]"
          },
          "metadata": {
            "needs_background": "light"
          }
        }
      ],
      "source": [
        "plot(history_model4)"
      ]
    },
    {
      "cell_type": "markdown",
      "metadata": {
        "id": "f3JekvWh76HD"
      },
      "source": [
        "##### With more layers we dont see much performance improvement. We get a best validation accuracy of 76% . Let's try adding dropouts at the convolution layers"
      ]
    },
    {
      "cell_type": "markdown",
      "metadata": {
        "id": "UFsTQoXs76HD"
      },
      "source": [
        "# Model 5 Adding dropout at convolution layers"
      ]
    },
    {
      "cell_type": "code",
      "execution_count": 44,
      "metadata": {
        "collapsed": true,
        "id": "tAPekD0976HD"
      },
      "outputs": [],
      "source": [
        "class ModelConv3D5(ModelBuilder):\n",
        "    \n",
        "    def define_model(self,filtersize=(3,3,3),dense_neurons=64,dropout=0.25):\n",
        "\n",
        "        model = Sequential()\n",
        "        model.add(Conv3D(16, filtersize, padding='same',\n",
        "                 input_shape=(self.frames_to_sample,self.image_height,self.image_width,self.channels)))\n",
        "        model.add(Activation('relu'))\n",
        "        model.add(BatchNormalization())\n",
        "        \n",
        "        model.add(Conv3D(16, filtersize, padding='same',\n",
        "                 input_shape=(self.frames_to_sample,self.image_height,self.image_width,self.channels)))\n",
        "        model.add(Activation('relu'))\n",
        "        model.add(BatchNormalization())\n",
        "        \n",
        "        model.add(MaxPooling3D(pool_size=(2, 2, 2)))\n",
        "        model.add(Dropout(dropout))\n",
        "\n",
        "        model.add(Conv3D(32, filtersize, padding='same'))\n",
        "        model.add(Activation('relu'))\n",
        "        model.add(BatchNormalization())\n",
        "        \n",
        "        model.add(Conv3D(32, filtersize, padding='same'))\n",
        "        model.add(Activation('relu'))\n",
        "        model.add(BatchNormalization())\n",
        "        \n",
        "        model.add(MaxPooling3D(pool_size=(2, 2, 2)))\n",
        "        model.add(Dropout(dropout))\n",
        "\n",
        "        model.add(Conv3D(64, filtersize, padding='same'))\n",
        "        model.add(Activation('relu'))\n",
        "        model.add(BatchNormalization())\n",
        "        \n",
        "        model.add(Conv3D(64, filtersize, padding='same'))\n",
        "        model.add(Activation('relu'))\n",
        "        model.add(BatchNormalization())\n",
        "        \n",
        "        model.add(MaxPooling3D(pool_size=(2, 2, 2)))\n",
        "        model.add(Dropout(dropout))\n",
        "\n",
        "        model.add(Conv3D(128, filtersize, padding='same'))\n",
        "        model.add(Activation('relu'))\n",
        "        model.add(BatchNormalization())\n",
        "        \n",
        "        model.add(Conv3D(128, filtersize, padding='same'))\n",
        "        model.add(Activation('relu'))\n",
        "        model.add(BatchNormalization())\n",
        "        \n",
        "        model.add(MaxPooling3D(pool_size=(2, 2, 2)))\n",
        "        model.add(Dropout(dropout))\n",
        "        \n",
        "        model.add(Flatten())\n",
        "        model.add(Dense(dense_neurons,activation='relu'))\n",
        "        model.add(BatchNormalization())\n",
        "        model.add(Dropout(dropout))\n",
        "\n",
        "        model.add(Dense(dense_neurons,activation='relu'))\n",
        "        model.add(BatchNormalization())\n",
        "        model.add(Dropout(dropout))\n",
        "\n",
        "\n",
        "        model.add(Dense(self.num_classes,activation='softmax'))\n",
        "\n",
        "        optimiser = optimizers.Adam()\n",
        "        model.compile(optimizer=optimiser, loss='categorical_crossentropy', metrics=['categorical_accuracy'])\n",
        "        return model"
      ]
    },
    {
      "cell_type": "code",
      "execution_count": 45,
      "metadata": {
        "colab": {
          "base_uri": "https://localhost:8080/"
        },
        "id": "kSbZW7bj76HD",
        "outputId": "cfb0829d-1d74-41e4-8dd7-9d464dfa88ea"
      },
      "outputs": [
        {
          "output_type": "stream",
          "name": "stdout",
          "text": [
            "Model: \"sequential_18\"\n",
            "_________________________________________________________________\n",
            " Layer (type)                Output Shape              Param #   \n",
            "=================================================================\n",
            " conv3d_76 (Conv3D)          (None, 16, 120, 120, 16)  1312      \n",
            "                                                                 \n",
            " activation_76 (Activation)  (None, 16, 120, 120, 16)  0         \n",
            "                                                                 \n",
            " batch_normalization_112 (Ba  (None, 16, 120, 120, 16)  64       \n",
            " tchNormalization)                                               \n",
            "                                                                 \n",
            " conv3d_77 (Conv3D)          (None, 16, 120, 120, 16)  6928      \n",
            "                                                                 \n",
            " activation_77 (Activation)  (None, 16, 120, 120, 16)  0         \n",
            "                                                                 \n",
            " batch_normalization_113 (Ba  (None, 16, 120, 120, 16)  64       \n",
            " tchNormalization)                                               \n",
            "                                                                 \n",
            " max_pooling3d_72 (MaxPoolin  (None, 8, 60, 60, 16)    0         \n",
            " g3D)                                                            \n",
            "                                                                 \n",
            " dropout_36 (Dropout)        (None, 8, 60, 60, 16)     0         \n",
            "                                                                 \n",
            " conv3d_78 (Conv3D)          (None, 8, 60, 60, 32)     13856     \n",
            "                                                                 \n",
            " activation_78 (Activation)  (None, 8, 60, 60, 32)     0         \n",
            "                                                                 \n",
            " batch_normalization_114 (Ba  (None, 8, 60, 60, 32)    128       \n",
            " tchNormalization)                                               \n",
            "                                                                 \n",
            " conv3d_79 (Conv3D)          (None, 8, 60, 60, 32)     27680     \n",
            "                                                                 \n",
            " activation_79 (Activation)  (None, 8, 60, 60, 32)     0         \n",
            "                                                                 \n",
            " batch_normalization_115 (Ba  (None, 8, 60, 60, 32)    128       \n",
            " tchNormalization)                                               \n",
            "                                                                 \n",
            " max_pooling3d_73 (MaxPoolin  (None, 4, 30, 30, 32)    0         \n",
            " g3D)                                                            \n",
            "                                                                 \n",
            " dropout_37 (Dropout)        (None, 4, 30, 30, 32)     0         \n",
            "                                                                 \n",
            " conv3d_80 (Conv3D)          (None, 4, 30, 30, 64)     55360     \n",
            "                                                                 \n",
            " activation_80 (Activation)  (None, 4, 30, 30, 64)     0         \n",
            "                                                                 \n",
            " batch_normalization_116 (Ba  (None, 4, 30, 30, 64)    256       \n",
            " tchNormalization)                                               \n",
            "                                                                 \n",
            " conv3d_81 (Conv3D)          (None, 4, 30, 30, 64)     110656    \n",
            "                                                                 \n",
            " activation_81 (Activation)  (None, 4, 30, 30, 64)     0         \n",
            "                                                                 \n",
            " batch_normalization_117 (Ba  (None, 4, 30, 30, 64)    256       \n",
            " tchNormalization)                                               \n",
            "                                                                 \n",
            " max_pooling3d_74 (MaxPoolin  (None, 2, 15, 15, 64)    0         \n",
            " g3D)                                                            \n",
            "                                                                 \n",
            " dropout_38 (Dropout)        (None, 2, 15, 15, 64)     0         \n",
            "                                                                 \n",
            " conv3d_82 (Conv3D)          (None, 2, 15, 15, 128)    221312    \n",
            "                                                                 \n",
            " activation_82 (Activation)  (None, 2, 15, 15, 128)    0         \n",
            "                                                                 \n",
            " batch_normalization_118 (Ba  (None, 2, 15, 15, 128)   512       \n",
            " tchNormalization)                                               \n",
            "                                                                 \n",
            " conv3d_83 (Conv3D)          (None, 2, 15, 15, 128)    442496    \n",
            "                                                                 \n",
            " activation_83 (Activation)  (None, 2, 15, 15, 128)    0         \n",
            "                                                                 \n",
            " batch_normalization_119 (Ba  (None, 2, 15, 15, 128)   512       \n",
            " tchNormalization)                                               \n",
            "                                                                 \n",
            " max_pooling3d_75 (MaxPoolin  (None, 1, 7, 7, 128)     0         \n",
            " g3D)                                                            \n",
            "                                                                 \n",
            " dropout_39 (Dropout)        (None, 1, 7, 7, 128)      0         \n",
            "                                                                 \n",
            " flatten_18 (Flatten)        (None, 6272)              0         \n",
            "                                                                 \n",
            " dense_54 (Dense)            (None, 256)               1605888   \n",
            "                                                                 \n",
            " batch_normalization_120 (Ba  (None, 256)              1024      \n",
            " tchNormalization)                                               \n",
            "                                                                 \n",
            " dropout_40 (Dropout)        (None, 256)               0         \n",
            "                                                                 \n",
            " dense_55 (Dense)            (None, 256)               65792     \n",
            "                                                                 \n",
            " batch_normalization_121 (Ba  (None, 256)              1024      \n",
            " tchNormalization)                                               \n",
            "                                                                 \n",
            " dropout_41 (Dropout)        (None, 256)               0         \n",
            "                                                                 \n",
            " dense_56 (Dense)            (None, 5)                 1285      \n",
            "                                                                 \n",
            "=================================================================\n",
            "Total params: 2,556,533\n",
            "Trainable params: 2,554,549\n",
            "Non-trainable params: 1,984\n",
            "_________________________________________________________________\n"
          ]
        }
      ],
      "source": [
        "conv_3d5=ModelConv3D5()\n",
        "conv_3d5.initialize_path(project_folder)\n",
        "conv_3d5.initialize_image_properties(image_height=120,image_width=120)\n",
        "conv_3d5.initialize_hyperparams(frames_to_sample=16,batch_size=20,num_epochs=22)\n",
        "conv_3d5_model=conv_3d5.define_model(filtersize=(3,3,3),dense_neurons=256,dropout=0.25)\n",
        "conv_3d5_model.summary()"
      ]
    },
    {
      "cell_type": "code",
      "execution_count": 46,
      "metadata": {
        "colab": {
          "base_uri": "https://localhost:8080/"
        },
        "id": "8Kg67alp76HE",
        "outputId": "3701f7e4-15e6-4dd9-db68-41d6374f198c"
      },
      "outputs": [
        {
          "output_type": "stream",
          "name": "stdout",
          "text": [
            "Total Params: 2556533\n",
            "WARNING:tensorflow:`period` argument is deprecated. Please use `save_freq` to specify the frequency in number of batches seen.\n",
            "Epoch 1/22\n",
            "34/34 [==============================] - ETA: 0s - loss: 1.7993 - categorical_accuracy: 0.3741\n",
            "Epoch 1: saving model to model_init_2022-06-1222_37_51.587336/model-00001-1.79928-0.37406-1.59534-0.29000.h5\n",
            "34/34 [==============================] - 90s 3s/step - loss: 1.7993 - categorical_accuracy: 0.3741 - val_loss: 1.5953 - val_categorical_accuracy: 0.2900 - lr: 0.0010\n",
            "Epoch 2/22\n",
            "34/34 [==============================] - ETA: 0s - loss: 1.2668 - categorical_accuracy: 0.5151\n",
            "Epoch 2: saving model to model_init_2022-06-1222_37_51.587336/model-00002-1.26684-0.51508-2.22486-0.18000.h5\n",
            "34/34 [==============================] - 88s 3s/step - loss: 1.2668 - categorical_accuracy: 0.5151 - val_loss: 2.2249 - val_categorical_accuracy: 0.1800 - lr: 0.0010\n",
            "Epoch 3/22\n",
            "34/34 [==============================] - ETA: 0s - loss: 1.1116 - categorical_accuracy: 0.5905\n",
            "Epoch 3: saving model to model_init_2022-06-1222_37_51.587336/model-00003-1.11165-0.59050-2.01661-0.25000.h5\n",
            "34/34 [==============================] - 87s 3s/step - loss: 1.1116 - categorical_accuracy: 0.5905 - val_loss: 2.0166 - val_categorical_accuracy: 0.2500 - lr: 0.0010\n",
            "Epoch 4/22\n",
            "34/34 [==============================] - ETA: 0s - loss: 1.1073 - categorical_accuracy: 0.5814\n",
            "Epoch 4: saving model to model_init_2022-06-1222_37_51.587336/model-00004-1.10728-0.58145-2.23374-0.23000.h5\n",
            "34/34 [==============================] - 88s 3s/step - loss: 1.1073 - categorical_accuracy: 0.5814 - val_loss: 2.2337 - val_categorical_accuracy: 0.2300 - lr: 0.0010\n",
            "Epoch 5/22\n",
            "34/34 [==============================] - ETA: 0s - loss: 0.9375 - categorical_accuracy: 0.6252\n",
            "Epoch 5: saving model to model_init_2022-06-1222_37_51.587336/model-00005-0.93755-0.62519-5.07664-0.20000.h5\n",
            "\n",
            "Epoch 5: ReduceLROnPlateau reducing learning rate to 0.00020000000949949026.\n",
            "34/34 [==============================] - 87s 3s/step - loss: 0.9375 - categorical_accuracy: 0.6252 - val_loss: 5.0766 - val_categorical_accuracy: 0.2000 - lr: 0.0010\n",
            "Epoch 6/22\n",
            "34/34 [==============================] - ETA: 0s - loss: 0.7378 - categorical_accuracy: 0.7081\n",
            "Epoch 6: saving model to model_init_2022-06-1222_37_51.587336/model-00006-0.73775-0.70814-4.34010-0.21000.h5\n",
            "34/34 [==============================] - 88s 3s/step - loss: 0.7378 - categorical_accuracy: 0.7081 - val_loss: 4.3401 - val_categorical_accuracy: 0.2100 - lr: 2.0000e-04\n",
            "Epoch 7/22\n",
            "34/34 [==============================] - ETA: 0s - loss: 0.6218 - categorical_accuracy: 0.7647\n",
            "Epoch 7: saving model to model_init_2022-06-1222_37_51.587336/model-00007-0.62180-0.76471-5.20359-0.21000.h5\n",
            "34/34 [==============================] - 88s 3s/step - loss: 0.6218 - categorical_accuracy: 0.7647 - val_loss: 5.2036 - val_categorical_accuracy: 0.2100 - lr: 2.0000e-04\n",
            "Epoch 8/22\n",
            "34/34 [==============================] - ETA: 0s - loss: 0.6187 - categorical_accuracy: 0.7655\n",
            "Epoch 8: saving model to model_init_2022-06-1222_37_51.587336/model-00008-0.61871-0.76546-4.94471-0.20000.h5\n",
            "34/34 [==============================] - 87s 3s/step - loss: 0.6187 - categorical_accuracy: 0.7655 - val_loss: 4.9447 - val_categorical_accuracy: 0.2000 - lr: 2.0000e-04\n",
            "Epoch 9/22\n",
            "34/34 [==============================] - ETA: 0s - loss: 0.5749 - categorical_accuracy: 0.7790\n",
            "Epoch 9: saving model to model_init_2022-06-1222_37_51.587336/model-00009-0.57494-0.77903-5.27887-0.23000.h5\n",
            "\n",
            "Epoch 9: ReduceLROnPlateau reducing learning rate to 4.0000001899898055e-05.\n",
            "34/34 [==============================] - 88s 3s/step - loss: 0.5749 - categorical_accuracy: 0.7790 - val_loss: 5.2789 - val_categorical_accuracy: 0.2300 - lr: 2.0000e-04\n",
            "Epoch 10/22\n",
            "34/34 [==============================] - ETA: 0s - loss: 0.5501 - categorical_accuracy: 0.7903\n",
            "Epoch 10: saving model to model_init_2022-06-1222_37_51.587336/model-00010-0.55013-0.79035-5.42579-0.17000.h5\n",
            "34/34 [==============================] - 87s 3s/step - loss: 0.5501 - categorical_accuracy: 0.7903 - val_loss: 5.4258 - val_categorical_accuracy: 0.1700 - lr: 4.0000e-05\n",
            "Epoch 11/22\n",
            "34/34 [==============================] - ETA: 0s - loss: 0.4703 - categorical_accuracy: 0.8265\n",
            "Epoch 11: saving model to model_init_2022-06-1222_37_51.587336/model-00011-0.47025-0.82655-4.70539-0.21000.h5\n",
            "34/34 [==============================] - 87s 3s/step - loss: 0.4703 - categorical_accuracy: 0.8265 - val_loss: 4.7054 - val_categorical_accuracy: 0.2100 - lr: 4.0000e-05\n",
            "Epoch 12/22\n",
            "34/34 [==============================] - ETA: 0s - loss: 0.4992 - categorical_accuracy: 0.8069\n",
            "Epoch 12: saving model to model_init_2022-06-1222_37_51.587336/model-00012-0.49915-0.80694-4.44527-0.21000.h5\n",
            "34/34 [==============================] - 87s 3s/step - loss: 0.4992 - categorical_accuracy: 0.8069 - val_loss: 4.4453 - val_categorical_accuracy: 0.2100 - lr: 4.0000e-05\n",
            "Epoch 13/22\n",
            "34/34 [==============================] - ETA: 0s - loss: 0.4719 - categorical_accuracy: 0.8213\n",
            "Epoch 13: saving model to model_init_2022-06-1222_37_51.587336/model-00013-0.47186-0.82127-4.47846-0.18000.h5\n",
            "\n",
            "Epoch 13: ReduceLROnPlateau reducing learning rate to 8.000000525498762e-06.\n",
            "34/34 [==============================] - 87s 3s/step - loss: 0.4719 - categorical_accuracy: 0.8213 - val_loss: 4.4785 - val_categorical_accuracy: 0.1800 - lr: 4.0000e-05\n",
            "Epoch 14/22\n",
            "34/34 [==============================] - ETA: 0s - loss: 0.5007 - categorical_accuracy: 0.8047\n",
            "Epoch 14: saving model to model_init_2022-06-1222_37_51.587336/model-00014-0.50070-0.80468-4.14243-0.21000.h5\n",
            "34/34 [==============================] - 88s 3s/step - loss: 0.5007 - categorical_accuracy: 0.8047 - val_loss: 4.1424 - val_categorical_accuracy: 0.2100 - lr: 8.0000e-06\n",
            "Epoch 15/22\n",
            "34/34 [==============================] - ETA: 0s - loss: 0.4375 - categorical_accuracy: 0.8296\n",
            "Epoch 15: saving model to model_init_2022-06-1222_37_51.587336/model-00015-0.43748-0.82956-3.29249-0.24000.h5\n",
            "34/34 [==============================] - 86s 3s/step - loss: 0.4375 - categorical_accuracy: 0.8296 - val_loss: 3.2925 - val_categorical_accuracy: 0.2400 - lr: 8.0000e-06\n",
            "Epoch 16/22\n",
            "34/34 [==============================] - ETA: 0s - loss: 0.4360 - categorical_accuracy: 0.8424\n",
            "Epoch 16: saving model to model_init_2022-06-1222_37_51.587336/model-00016-0.43604-0.84238-3.06689-0.26000.h5\n",
            "34/34 [==============================] - 87s 3s/step - loss: 0.4360 - categorical_accuracy: 0.8424 - val_loss: 3.0669 - val_categorical_accuracy: 0.2600 - lr: 8.0000e-06\n",
            "Epoch 17/22\n",
            "34/34 [==============================] - ETA: 0s - loss: 0.4390 - categorical_accuracy: 0.8333\n",
            "Epoch 17: saving model to model_init_2022-06-1222_37_51.587336/model-00017-0.43902-0.83333-2.40232-0.32000.h5\n",
            "\n",
            "Epoch 17: ReduceLROnPlateau reducing learning rate to 1.6000001778593287e-06.\n",
            "34/34 [==============================] - 87s 3s/step - loss: 0.4390 - categorical_accuracy: 0.8333 - val_loss: 2.4023 - val_categorical_accuracy: 0.3200 - lr: 8.0000e-06\n",
            "Epoch 18/22\n",
            "34/34 [==============================] - ETA: 0s - loss: 0.4868 - categorical_accuracy: 0.8069\n",
            "Epoch 18: saving model to model_init_2022-06-1222_37_51.587336/model-00018-0.48682-0.80694-2.07818-0.40000.h5\n",
            "34/34 [==============================] - 87s 3s/step - loss: 0.4868 - categorical_accuracy: 0.8069 - val_loss: 2.0782 - val_categorical_accuracy: 0.4000 - lr: 1.6000e-06\n",
            "Epoch 19/22\n",
            "34/34 [==============================] - ETA: 0s - loss: 0.4437 - categorical_accuracy: 0.8416\n",
            "Epoch 19: saving model to model_init_2022-06-1222_37_51.587336/model-00019-0.44372-0.84163-2.19543-0.37000.h5\n",
            "34/34 [==============================] - 87s 3s/step - loss: 0.4437 - categorical_accuracy: 0.8416 - val_loss: 2.1954 - val_categorical_accuracy: 0.3700 - lr: 1.6000e-06\n",
            "Epoch 20/22\n",
            "34/34 [==============================] - ETA: 0s - loss: 0.4015 - categorical_accuracy: 0.8522\n",
            "Epoch 20: saving model to model_init_2022-06-1222_37_51.587336/model-00020-0.40153-0.85219-1.77052-0.44000.h5\n",
            "34/34 [==============================] - 87s 3s/step - loss: 0.4015 - categorical_accuracy: 0.8522 - val_loss: 1.7705 - val_categorical_accuracy: 0.4400 - lr: 1.6000e-06\n",
            "Epoch 21/22\n",
            "34/34 [==============================] - ETA: 0s - loss: 0.4221 - categorical_accuracy: 0.8439\n",
            "Epoch 21: saving model to model_init_2022-06-1222_37_51.587336/model-00021-0.42214-0.84389-1.70369-0.45000.h5\n",
            "\n",
            "Epoch 21: ReduceLROnPlateau reducing learning rate to 3.200000264769187e-07.\n",
            "34/34 [==============================] - 87s 3s/step - loss: 0.4221 - categorical_accuracy: 0.8439 - val_loss: 1.7037 - val_categorical_accuracy: 0.4500 - lr: 1.6000e-06\n",
            "Epoch 22/22\n",
            "34/34 [==============================] - ETA: 0s - loss: 0.4799 - categorical_accuracy: 0.8152\n",
            "Epoch 22: saving model to model_init_2022-06-1222_37_51.587336/model-00022-0.47988-0.81523-1.70279-0.44000.h5\n",
            "34/34 [==============================] - 87s 3s/step - loss: 0.4799 - categorical_accuracy: 0.8152 - val_loss: 1.7028 - val_categorical_accuracy: 0.4400 - lr: 3.2000e-07\n"
          ]
        }
      ],
      "source": [
        "print(\"Total Params:\", conv_3d5_model.count_params())\n",
        "history_model5=conv_3d5.train_model(conv_3d5_model,augment_data=True)"
      ]
    },
    {
      "cell_type": "code",
      "execution_count": 47,
      "metadata": {
        "colab": {
          "base_uri": "https://localhost:8080/",
          "height": 0
        },
        "id": "EquCMtkE76HE",
        "outputId": "417a484c-c9dd-4311-d076-50cd6c910753"
      },
      "outputs": [
        {
          "output_type": "display_data",
          "data": {
            "text/plain": [
              "<Figure size 1080x288 with 2 Axes>"
            ],
            "image/png": "[encoded data removed]"
          },
          "metadata": {
            "needs_background": "light"
          }
        }
      ],
      "source": [
        "plot(history_model5)"
      ]
    },
    {
      "cell_type": "markdown",
      "metadata": {
        "collapsed": true,
        "id": "8_K6eulk76HE"
      },
      "source": [
        "##### Adding dropouts has further reduced validation accuracy as its not to learn  generalizable features"
      ]
    },
    {
      "cell_type": "markdown",
      "metadata": {
        "id": "HvgFjTA476HE"
      },
      "source": [
        "##### All models experimental models above have more than 1 million parameters. Let's try to reduce the model size and see the performance"
      ]
    },
    {
      "cell_type": "markdown",
      "metadata": {
        "id": "4JspFu_O76HE"
      },
      "source": [
        "# Model 6 - reducing the number of parameters"
      ]
    },
    {
      "cell_type": "code",
      "execution_count": 48,
      "metadata": {
        "collapsed": true,
        "id": "FTXYqrEu76HE"
      },
      "outputs": [],
      "source": [
        "class ModelConv3D6(ModelBuilder):\n",
        "    \n",
        "    def define_model(self,dense_neurons=64,dropout=0.25):\n",
        "\n",
        "        model = Sequential()\n",
        "        model.add(Conv3D(16, (3, 3, 3), padding='same',\n",
        "                 input_shape=(self.frames_to_sample,self.image_height,self.image_width,self.channels)))\n",
        "        model.add(Activation('relu'))\n",
        "        model.add(BatchNormalization())\n",
        "        model.add(MaxPooling3D(pool_size=(2, 2, 2)))\n",
        "\n",
        "        model.add(Conv3D(32, (2, 2, 2), padding='same'))\n",
        "        model.add(Activation('relu'))\n",
        "        model.add(BatchNormalization())\n",
        "        model.add(MaxPooling3D(pool_size=(2, 2, 2)))\n",
        "\n",
        "        model.add(Conv3D(64, (2, 2, 2), padding='same'))\n",
        "        model.add(Activation('relu'))\n",
        "        model.add(BatchNormalization())\n",
        "        model.add(MaxPooling3D(pool_size=(2, 2, 2)))\n",
        "\n",
        "        model.add(Conv3D(128, (2, 2, 2), padding='same'))\n",
        "        model.add(Activation('relu'))\n",
        "        model.add(BatchNormalization())\n",
        "        model.add(MaxPooling3D(pool_size=(2, 2, 2)))\n",
        "        \n",
        "        model.add(Flatten())\n",
        "        model.add(Dense(dense_neurons,activation='relu'))\n",
        "        model.add(BatchNormalization())\n",
        "        model.add(Dropout(dropout))\n",
        "\n",
        "        model.add(Dense(dense_neurons,activation='relu'))\n",
        "        model.add(BatchNormalization())\n",
        "        model.add(Dropout(dropout))\n",
        "\n",
        "        model.add(Dense(self.num_classes,activation='softmax'))\n",
        "\n",
        "        optimiser = optimizers.Adam(lr=0.0002)\n",
        "        model.compile(optimizer=optimiser, loss='categorical_crossentropy', metrics=['categorical_accuracy'])\n",
        "        return model"
      ]
    },
    {
      "cell_type": "code",
      "execution_count": 49,
      "metadata": {
        "colab": {
          "base_uri": "https://localhost:8080/"
        },
        "id": "6KD4-xrQ76HE",
        "outputId": "a5416375-cfa2-4512-c908-afbcfbee9475"
      },
      "outputs": [
        {
          "output_type": "stream",
          "name": "stdout",
          "text": [
            "Model: \"sequential_19\"\n",
            "_________________________________________________________________\n",
            " Layer (type)                Output Shape              Param #   \n",
            "=================================================================\n",
            " conv3d_84 (Conv3D)          (None, 16, 100, 100, 16)  1312      \n",
            "                                                                 \n",
            " activation_84 (Activation)  (None, 16, 100, 100, 16)  0         \n",
            "                                                                 \n",
            " batch_normalization_122 (Ba  (None, 16, 100, 100, 16)  64       \n",
            " tchNormalization)                                               \n",
            "                                                                 \n",
            " max_pooling3d_76 (MaxPoolin  (None, 8, 50, 50, 16)    0         \n",
            " g3D)                                                            \n",
            "                                                                 \n",
            " conv3d_85 (Conv3D)          (None, 8, 50, 50, 32)     4128      \n",
            "                                                                 \n",
            " activation_85 (Activation)  (None, 8, 50, 50, 32)     0         \n",
            "                                                                 \n",
            " batch_normalization_123 (Ba  (None, 8, 50, 50, 32)    128       \n",
            " tchNormalization)                                               \n",
            "                                                                 \n",
            " max_pooling3d_77 (MaxPoolin  (None, 4, 25, 25, 32)    0         \n",
            " g3D)                                                            \n",
            "                                                                 \n",
            " conv3d_86 (Conv3D)          (None, 4, 25, 25, 64)     16448     \n",
            "                                                                 \n",
            " activation_86 (Activation)  (None, 4, 25, 25, 64)     0         \n",
            "                                                                 \n",
            " batch_normalization_124 (Ba  (None, 4, 25, 25, 64)    256       \n",
            " tchNormalization)                                               \n",
            "                                                                 \n",
            " max_pooling3d_78 (MaxPoolin  (None, 2, 12, 12, 64)    0         \n",
            " g3D)                                                            \n",
            "                                                                 \n",
            " conv3d_87 (Conv3D)          (None, 2, 12, 12, 128)    65664     \n",
            "                                                                 \n",
            " activation_87 (Activation)  (None, 2, 12, 12, 128)    0         \n",
            "                                                                 \n",
            " batch_normalization_125 (Ba  (None, 2, 12, 12, 128)   512       \n",
            " tchNormalization)                                               \n",
            "                                                                 \n",
            " max_pooling3d_79 (MaxPoolin  (None, 1, 6, 6, 128)     0         \n",
            " g3D)                                                            \n",
            "                                                                 \n",
            " flatten_19 (Flatten)        (None, 4608)              0         \n",
            "                                                                 \n",
            " dense_57 (Dense)            (None, 128)               589952    \n",
            "                                                                 \n",
            " batch_normalization_126 (Ba  (None, 128)              512       \n",
            " tchNormalization)                                               \n",
            "                                                                 \n",
            " dropout_42 (Dropout)        (None, 128)               0         \n",
            "                                                                 \n",
            " dense_58 (Dense)            (None, 128)               16512     \n",
            "                                                                 \n",
            " batch_normalization_127 (Ba  (None, 128)              512       \n",
            " tchNormalization)                                               \n",
            "                                                                 \n",
            " dropout_43 (Dropout)        (None, 128)               0         \n",
            "                                                                 \n",
            " dense_59 (Dense)            (None, 5)                 645       \n",
            "                                                                 \n",
            "=================================================================\n",
            "Total params: 696,645\n",
            "Trainable params: 695,653\n",
            "Non-trainable params: 992\n",
            "_________________________________________________________________\n"
          ]
        }
      ],
      "source": [
        "conv_3d6=ModelConv3D6()\n",
        "conv_3d6.initialize_path(project_folder)\n",
        "conv_3d6.initialize_image_properties(image_height=100,image_width=100)\n",
        "conv_3d6.initialize_hyperparams(frames_to_sample=16,batch_size=20,num_epochs=30)\n",
        "conv_3d6_model=conv_3d6.define_model(dense_neurons=128,dropout=0.25)\n",
        "conv_3d6_model.summary()"
      ]
    },
    {
      "cell_type": "code",
      "execution_count": 50,
      "metadata": {
        "colab": {
          "base_uri": "https://localhost:8080/"
        },
        "id": "dZ2J6GLD76HF",
        "outputId": "9dd43c32-9e8e-4f9e-f3e7-3d21c08b5e08"
      },
      "outputs": [
        {
          "output_type": "stream",
          "name": "stdout",
          "text": [
            "Total Params: 696645\n",
            "WARNING:tensorflow:`period` argument is deprecated. Please use `save_freq` to specify the frequency in number of batches seen.\n",
            "Epoch 1/30\n",
            "34/34 [==============================] - ETA: 0s - loss: 1.8611 - categorical_accuracy: 0.3145\n",
            "Epoch 1: saving model to model_init_2022-06-1223_09_55.858390/model-00001-1.86111-0.31448-1.87800-0.16000.h5\n",
            "34/34 [==============================] - 86s 3s/step - loss: 1.8611 - categorical_accuracy: 0.3145 - val_loss: 1.8780 - val_categorical_accuracy: 0.1600 - lr: 2.0000e-04\n",
            "Epoch 2/30\n",
            "34/34 [==============================] - ETA: 0s - loss: 1.2840 - categorical_accuracy: 0.5053\n",
            "Epoch 2: saving model to model_init_2022-06-1223_09_55.858390/model-00002-1.28397-0.50528-2.93803-0.13000.h5\n",
            "34/34 [==============================] - 84s 3s/step - loss: 1.2840 - categorical_accuracy: 0.5053 - val_loss: 2.9380 - val_categorical_accuracy: 0.1300 - lr: 2.0000e-04\n",
            "Epoch 3/30\n",
            "34/34 [==============================] - ETA: 0s - loss: 1.0583 - categorical_accuracy: 0.5732\n",
            "Epoch 3: saving model to model_init_2022-06-1223_09_55.858390/model-00003-1.05827-0.57315-3.28884-0.17000.h5\n",
            "34/34 [==============================] - 84s 3s/step - loss: 1.0583 - categorical_accuracy: 0.5732 - val_loss: 3.2888 - val_categorical_accuracy: 0.1700 - lr: 2.0000e-04\n",
            "Epoch 4/30\n",
            "34/34 [==============================] - ETA: 0s - loss: 0.9012 - categorical_accuracy: 0.6486\n",
            "Epoch 4: saving model to model_init_2022-06-1223_09_55.858390/model-00004-0.90121-0.64857-4.29635-0.19000.h5\n",
            "34/34 [==============================] - 84s 3s/step - loss: 0.9012 - categorical_accuracy: 0.6486 - val_loss: 4.2964 - val_categorical_accuracy: 0.1900 - lr: 2.0000e-04\n",
            "Epoch 5/30\n",
            "34/34 [==============================] - ETA: 0s - loss: 0.8333 - categorical_accuracy: 0.6765\n",
            "Epoch 5: saving model to model_init_2022-06-1223_09_55.858390/model-00005-0.83326-0.67647-5.24066-0.24000.h5\n",
            "\n",
            "Epoch 5: ReduceLROnPlateau reducing learning rate to 3.9999998989515007e-05.\n",
            "34/34 [==============================] - 83s 3s/step - loss: 0.8333 - categorical_accuracy: 0.6765 - val_loss: 5.2407 - val_categorical_accuracy: 0.2400 - lr: 2.0000e-04\n",
            "Epoch 6/30\n",
            "34/34 [==============================] - ETA: 0s - loss: 0.7414 - categorical_accuracy: 0.7247\n",
            "Epoch 6: saving model to model_init_2022-06-1223_09_55.858390/model-00006-0.74137-0.72474-5.74598-0.22000.h5\n",
            "34/34 [==============================] - 85s 3s/step - loss: 0.7414 - categorical_accuracy: 0.7247 - val_loss: 5.7460 - val_categorical_accuracy: 0.2200 - lr: 4.0000e-05\n",
            "Epoch 7/30\n",
            "34/34 [==============================] - ETA: 0s - loss: 0.6952 - categorical_accuracy: 0.7293\n",
            "Epoch 7: saving model to model_init_2022-06-1223_09_55.858390/model-00007-0.69517-0.72926-5.66115-0.25000.h5\n",
            "34/34 [==============================] - 82s 2s/step - loss: 0.6952 - categorical_accuracy: 0.7293 - val_loss: 5.6612 - val_categorical_accuracy: 0.2500 - lr: 4.0000e-05\n",
            "Epoch 8/30\n",
            "34/34 [==============================] - ETA: 0s - loss: 0.6850 - categorical_accuracy: 0.7406\n",
            "Epoch 8: saving model to model_init_2022-06-1223_09_55.858390/model-00008-0.68499-0.74057-5.00789-0.29000.h5\n",
            "34/34 [==============================] - 84s 3s/step - loss: 0.6850 - categorical_accuracy: 0.7406 - val_loss: 5.0079 - val_categorical_accuracy: 0.2900 - lr: 4.0000e-05\n",
            "Epoch 9/30\n",
            "34/34 [==============================] - ETA: 0s - loss: 0.6099 - categorical_accuracy: 0.7798\n",
            "Epoch 9: saving model to model_init_2022-06-1223_09_55.858390/model-00009-0.60989-0.77979-4.68116-0.26000.h5\n",
            "\n",
            "Epoch 9: ReduceLROnPlateau reducing learning rate to 7.999999797903002e-06.\n",
            "34/34 [==============================] - 84s 3s/step - loss: 0.6099 - categorical_accuracy: 0.7798 - val_loss: 4.6812 - val_categorical_accuracy: 0.2600 - lr: 4.0000e-05\n",
            "Epoch 10/30\n",
            "34/34 [==============================] - ETA: 0s - loss: 0.6427 - categorical_accuracy: 0.7557\n",
            "Epoch 10: saving model to model_init_2022-06-1223_09_55.858390/model-00010-0.64275-0.75566-4.26694-0.26000.h5\n",
            "34/34 [==============================] - 83s 3s/step - loss: 0.6427 - categorical_accuracy: 0.7557 - val_loss: 4.2669 - val_categorical_accuracy: 0.2600 - lr: 8.0000e-06\n",
            "Epoch 11/30\n",
            "34/34 [==============================] - ETA: 0s - loss: 0.6100 - categorical_accuracy: 0.7655\n",
            "Epoch 11: saving model to model_init_2022-06-1223_09_55.858390/model-00011-0.61001-0.76546-3.82486-0.29000.h5\n",
            "34/34 [==============================] - 83s 3s/step - loss: 0.6100 - categorical_accuracy: 0.7655 - val_loss: 3.8249 - val_categorical_accuracy: 0.2900 - lr: 8.0000e-06\n",
            "Epoch 12/30\n",
            "34/34 [==============================] - ETA: 0s - loss: 0.5900 - categorical_accuracy: 0.7821\n",
            "Epoch 12: saving model to model_init_2022-06-1223_09_55.858390/model-00012-0.59003-0.78205-3.39001-0.30000.h5\n",
            "34/34 [==============================] - 83s 3s/step - loss: 0.5900 - categorical_accuracy: 0.7821 - val_loss: 3.3900 - val_categorical_accuracy: 0.3000 - lr: 8.0000e-06\n",
            "Epoch 13/30\n",
            "34/34 [==============================] - ETA: 0s - loss: 0.6072 - categorical_accuracy: 0.7768\n",
            "Epoch 13: saving model to model_init_2022-06-1223_09_55.858390/model-00013-0.60721-0.77677-2.72518-0.37000.h5\n",
            "\n",
            "Epoch 13: ReduceLROnPlateau reducing learning rate to 1.5999999959603884e-06.\n",
            "34/34 [==============================] - 84s 3s/step - loss: 0.6072 - categorical_accuracy: 0.7768 - val_loss: 2.7252 - val_categorical_accuracy: 0.3700 - lr: 8.0000e-06\n",
            "Epoch 14/30\n",
            "34/34 [==============================] - ETA: 0s - loss: 0.6013 - categorical_accuracy: 0.7722\n",
            "Epoch 14: saving model to model_init_2022-06-1223_09_55.858390/model-00014-0.60133-0.77225-2.39560-0.35000.h5\n",
            "34/34 [==============================] - 84s 3s/step - loss: 0.6013 - categorical_accuracy: 0.7722 - val_loss: 2.3956 - val_categorical_accuracy: 0.3500 - lr: 1.6000e-06\n",
            "Epoch 15/30\n",
            "34/34 [==============================] - ETA: 0s - loss: 0.6203 - categorical_accuracy: 0.7685\n",
            "Epoch 15: saving model to model_init_2022-06-1223_09_55.858390/model-00015-0.62030-0.76848-1.96535-0.41000.h5\n",
            "34/34 [==============================] - 83s 3s/step - loss: 0.6203 - categorical_accuracy: 0.7685 - val_loss: 1.9653 - val_categorical_accuracy: 0.4100 - lr: 1.6000e-06\n",
            "Epoch 16/30\n",
            "34/34 [==============================] - ETA: 0s - loss: 0.6039 - categorical_accuracy: 0.7836\n",
            "Epoch 16: saving model to model_init_2022-06-1223_09_55.858390/model-00016-0.60389-0.78356-1.58631-0.51000.h5\n",
            "34/34 [==============================] - 84s 3s/step - loss: 0.6039 - categorical_accuracy: 0.7836 - val_loss: 1.5863 - val_categorical_accuracy: 0.5100 - lr: 1.6000e-06\n",
            "Epoch 17/30\n",
            "34/34 [==============================] - ETA: 0s - loss: 0.5895 - categorical_accuracy: 0.7707\n",
            "Epoch 17: saving model to model_init_2022-06-1223_09_55.858390/model-00017-0.58946-0.77074-1.27744-0.56000.h5\n",
            "34/34 [==============================] - 84s 3s/step - loss: 0.5895 - categorical_accuracy: 0.7707 - val_loss: 1.2774 - val_categorical_accuracy: 0.5600 - lr: 1.6000e-06\n",
            "Epoch 18/30\n",
            "34/34 [==============================] - ETA: 0s - loss: 0.6092 - categorical_accuracy: 0.7624\n",
            "Epoch 18: saving model to model_init_2022-06-1223_09_55.858390/model-00018-0.60924-0.76244-1.06285-0.58000.h5\n",
            "34/34 [==============================] - 83s 3s/step - loss: 0.6092 - categorical_accuracy: 0.7624 - val_loss: 1.0629 - val_categorical_accuracy: 0.5800 - lr: 1.6000e-06\n",
            "Epoch 19/30\n",
            "34/34 [==============================] - ETA: 0s - loss: 0.6080 - categorical_accuracy: 0.7572\n",
            "Epoch 19: saving model to model_init_2022-06-1223_09_55.858390/model-00019-0.60802-0.75716-1.07496-0.64000.h5\n",
            "34/34 [==============================] - 83s 3s/step - loss: 0.6080 - categorical_accuracy: 0.7572 - val_loss: 1.0750 - val_categorical_accuracy: 0.6400 - lr: 1.6000e-06\n",
            "Epoch 20/30\n",
            "34/34 [==============================] - ETA: 0s - loss: 0.6013 - categorical_accuracy: 0.7783\n",
            "Epoch 20: saving model to model_init_2022-06-1223_09_55.858390/model-00020-0.60131-0.77828-0.88688-0.67000.h5\n",
            "34/34 [==============================] - 83s 3s/step - loss: 0.6013 - categorical_accuracy: 0.7783 - val_loss: 0.8869 - val_categorical_accuracy: 0.6700 - lr: 1.6000e-06\n",
            "Epoch 21/30\n",
            "34/34 [==============================] - ETA: 0s - loss: 0.5935 - categorical_accuracy: 0.7881\n",
            "Epoch 21: saving model to model_init_2022-06-1223_09_55.858390/model-00021-0.59351-0.78808-0.86098-0.70000.h5\n",
            "34/34 [==============================] - 83s 3s/step - loss: 0.5935 - categorical_accuracy: 0.7881 - val_loss: 0.8610 - val_categorical_accuracy: 0.7000 - lr: 1.6000e-06\n",
            "Epoch 22/30\n",
            "34/34 [==============================] - ETA: 0s - loss: 0.5869 - categorical_accuracy: 0.8009\n",
            "Epoch 22: saving model to model_init_2022-06-1223_09_55.858390/model-00022-0.58690-0.80090-0.77222-0.72000.h5\n",
            "34/34 [==============================] - 83s 3s/step - loss: 0.5869 - categorical_accuracy: 0.8009 - val_loss: 0.7722 - val_categorical_accuracy: 0.7200 - lr: 1.6000e-06\n",
            "Epoch 23/30\n",
            "34/34 [==============================] - ETA: 0s - loss: 0.5931 - categorical_accuracy: 0.7836\n",
            "Epoch 23: saving model to model_init_2022-06-1223_09_55.858390/model-00023-0.59313-0.78356-0.83446-0.76000.h5\n",
            "34/34 [==============================] - 83s 3s/step - loss: 0.5931 - categorical_accuracy: 0.7836 - val_loss: 0.8345 - val_categorical_accuracy: 0.7600 - lr: 1.6000e-06\n",
            "Epoch 24/30\n",
            "34/34 [==============================] - ETA: 0s - loss: 0.6017 - categorical_accuracy: 0.7655\n",
            "Epoch 24: saving model to model_init_2022-06-1223_09_55.858390/model-00024-0.60168-0.76546-0.68938-0.80000.h5\n",
            "34/34 [==============================] - 84s 3s/step - loss: 0.6017 - categorical_accuracy: 0.7655 - val_loss: 0.6894 - val_categorical_accuracy: 0.8000 - lr: 1.6000e-06\n",
            "Epoch 25/30\n",
            "34/34 [==============================] - ETA: 0s - loss: 0.6292 - categorical_accuracy: 0.7640\n",
            "Epoch 25: saving model to model_init_2022-06-1223_09_55.858390/model-00025-0.62920-0.76395-0.83073-0.75000.h5\n",
            "34/34 [==============================] - 84s 3s/step - loss: 0.6292 - categorical_accuracy: 0.7640 - val_loss: 0.8307 - val_categorical_accuracy: 0.7500 - lr: 1.6000e-06\n",
            "Epoch 26/30\n",
            "34/34 [==============================] - ETA: 0s - loss: 0.6212 - categorical_accuracy: 0.7692\n",
            "Epoch 26: saving model to model_init_2022-06-1223_09_55.858390/model-00026-0.62120-0.76923-0.77355-0.76000.h5\n",
            "34/34 [==============================] - 83s 3s/step - loss: 0.6212 - categorical_accuracy: 0.7692 - val_loss: 0.7736 - val_categorical_accuracy: 0.7600 - lr: 1.6000e-06\n",
            "Epoch 27/30\n",
            "34/34 [==============================] - ETA: 0s - loss: 0.5769 - categorical_accuracy: 0.7843\n",
            "Epoch 27: saving model to model_init_2022-06-1223_09_55.858390/model-00027-0.57691-0.78431-0.77705-0.76000.h5\n",
            "34/34 [==============================] - 83s 3s/step - loss: 0.5769 - categorical_accuracy: 0.7843 - val_loss: 0.7770 - val_categorical_accuracy: 0.7600 - lr: 1.6000e-06\n",
            "Epoch 28/30\n",
            "34/34 [==============================] - ETA: 0s - loss: 0.6049 - categorical_accuracy: 0.7662\n",
            "Epoch 28: saving model to model_init_2022-06-1223_09_55.858390/model-00028-0.60489-0.76621-0.68533-0.81000.h5\n",
            "34/34 [==============================] - 84s 3s/step - loss: 0.6049 - categorical_accuracy: 0.7662 - val_loss: 0.6853 - val_categorical_accuracy: 0.8100 - lr: 1.6000e-06\n",
            "Epoch 29/30\n",
            "34/34 [==============================] - ETA: 0s - loss: 0.6159 - categorical_accuracy: 0.7549\n",
            "Epoch 29: saving model to model_init_2022-06-1223_09_55.858390/model-00029-0.61587-0.75490-0.74275-0.80000.h5\n",
            "34/34 [==============================] - 85s 3s/step - loss: 0.6159 - categorical_accuracy: 0.7549 - val_loss: 0.7427 - val_categorical_accuracy: 0.8000 - lr: 1.6000e-06\n",
            "Epoch 30/30\n",
            "34/34 [==============================] - ETA: 0s - loss: 0.6056 - categorical_accuracy: 0.7813\n",
            "Epoch 30: saving model to model_init_2022-06-1223_09_55.858390/model-00030-0.60563-0.78130-0.84308-0.72000.h5\n",
            "34/34 [==============================] - 84s 3s/step - loss: 0.6056 - categorical_accuracy: 0.7813 - val_loss: 0.8431 - val_categorical_accuracy: 0.7200 - lr: 1.6000e-06\n"
          ]
        }
      ],
      "source": [
        "print(\"Total Params:\", conv_3d6_model.count_params())\n",
        "history_model6=conv_3d6.train_model(conv_3d6_model,augment_data=True)"
      ]
    },
    {
      "cell_type": "code",
      "execution_count": 51,
      "metadata": {
        "colab": {
          "base_uri": "https://localhost:8080/",
          "height": 0
        },
        "id": "muZnQKkb76HF",
        "outputId": "97d45331-1214-48a7-9d4b-a735a154c2bd"
      },
      "outputs": [
        {
          "output_type": "display_data",
          "data": {
            "text/plain": [
              "<Figure size 1080x288 with 2 Axes>"
            ],
            "image/png": "[encoded data removed]"
          },
          "metadata": {
            "needs_background": "light"
          }
        }
      ],
      "source": [
        "plot(history_model6)"
      ]
    },
    {
      "cell_type": "markdown",
      "metadata": {
        "collapsed": true,
        "id": "ipdlNTqP76HF"
      },
      "source": [
        "###### For the above low memory foot print model the best validation accuracy of 77%"
      ]
    },
    {
      "cell_type": "markdown",
      "metadata": {
        "id": "K3Y3xZ5F76HF"
      },
      "source": [
        "# Model 7 - reducing the number of parameters"
      ]
    },
    {
      "cell_type": "code",
      "execution_count": 52,
      "metadata": {
        "collapsed": true,
        "id": "KCuBCczn76HF"
      },
      "outputs": [],
      "source": [
        "class ModelConv3D7(ModelBuilder):\n",
        "    \n",
        "    def define_model(self,dense_neurons=64,dropout=0.25):\n",
        "\n",
        "        model = Sequential()\n",
        "        model.add(Conv3D(16, (3, 3, 3), padding='same',\n",
        "                 input_shape=(self.frames_to_sample,self.image_height,self.image_width,self.channels)))\n",
        "        model.add(Activation('relu'))\n",
        "        model.add(BatchNormalization())\n",
        "        model.add(MaxPooling3D(pool_size=(2, 2, 2)))\n",
        "\n",
        "        model.add(Conv3D(32, (3, 3, 3), padding='same'))\n",
        "        model.add(Activation('relu'))\n",
        "        model.add(BatchNormalization())\n",
        "        model.add(MaxPooling3D(pool_size=(2, 2, 2)))\n",
        "\n",
        "        model.add(Conv3D(64, (2, 2, 2), padding='same'))\n",
        "        model.add(Activation('relu'))\n",
        "        model.add(BatchNormalization())\n",
        "        model.add(MaxPooling3D(pool_size=(2, 2, 2)))\n",
        "\n",
        "        model.add(Conv3D(128, (2, 2, 2), padding='same'))\n",
        "        model.add(Activation('relu'))\n",
        "        model.add(BatchNormalization())\n",
        "        model.add(MaxPooling3D(pool_size=(2, 2, 2)))\n",
        "        \n",
        "        model.add(Flatten())\n",
        "        model.add(Dense(dense_neurons,activation='relu'))\n",
        "        model.add(BatchNormalization())\n",
        "        model.add(Dropout(dropout))\n",
        "\n",
        "        model.add(Dense(dense_neurons,activation='relu'))\n",
        "        model.add(BatchNormalization())\n",
        "        model.add(Dropout(dropout))\n",
        "\n",
        "        model.add(Dense(self.num_classes,activation='softmax'))\n",
        "\n",
        "        optimiser = optimizers.Adam(lr=0.0002)\n",
        "        model.compile(optimizer=optimiser, loss='categorical_crossentropy', metrics=['categorical_accuracy'])\n",
        "        return model"
      ]
    },
    {
      "cell_type": "code",
      "execution_count": 53,
      "metadata": {
        "colab": {
          "base_uri": "https://localhost:8080/"
        },
        "id": "3dLunVsQ76HF",
        "outputId": "0248f843-73ee-4c48-c9db-30bc008e19b9"
      },
      "outputs": [
        {
          "output_type": "stream",
          "name": "stdout",
          "text": [
            "Model: \"sequential_20\"\n",
            "_________________________________________________________________\n",
            " Layer (type)                Output Shape              Param #   \n",
            "=================================================================\n",
            " conv3d_88 (Conv3D)          (None, 16, 120, 120, 16)  1312      \n",
            "                                                                 \n",
            " activation_88 (Activation)  (None, 16, 120, 120, 16)  0         \n",
            "                                                                 \n",
            " batch_normalization_128 (Ba  (None, 16, 120, 120, 16)  64       \n",
            " tchNormalization)                                               \n",
            "                                                                 \n",
            " max_pooling3d_80 (MaxPoolin  (None, 8, 60, 60, 16)    0         \n",
            " g3D)                                                            \n",
            "                                                                 \n",
            " conv3d_89 (Conv3D)          (None, 8, 60, 60, 32)     13856     \n",
            "                                                                 \n",
            " activation_89 (Activation)  (None, 8, 60, 60, 32)     0         \n",
            "                                                                 \n",
            " batch_normalization_129 (Ba  (None, 8, 60, 60, 32)    128       \n",
            " tchNormalization)                                               \n",
            "                                                                 \n",
            " max_pooling3d_81 (MaxPoolin  (None, 4, 30, 30, 32)    0         \n",
            " g3D)                                                            \n",
            "                                                                 \n",
            " conv3d_90 (Conv3D)          (None, 4, 30, 30, 64)     16448     \n",
            "                                                                 \n",
            " activation_90 (Activation)  (None, 4, 30, 30, 64)     0         \n",
            "                                                                 \n",
            " batch_normalization_130 (Ba  (None, 4, 30, 30, 64)    256       \n",
            " tchNormalization)                                               \n",
            "                                                                 \n",
            " max_pooling3d_82 (MaxPoolin  (None, 2, 15, 15, 64)    0         \n",
            " g3D)                                                            \n",
            "                                                                 \n",
            " conv3d_91 (Conv3D)          (None, 2, 15, 15, 128)    65664     \n",
            "                                                                 \n",
            " activation_91 (Activation)  (None, 2, 15, 15, 128)    0         \n",
            "                                                                 \n",
            " batch_normalization_131 (Ba  (None, 2, 15, 15, 128)   512       \n",
            " tchNormalization)                                               \n",
            "                                                                 \n",
            " max_pooling3d_83 (MaxPoolin  (None, 1, 7, 7, 128)     0         \n",
            " g3D)                                                            \n",
            "                                                                 \n",
            " flatten_20 (Flatten)        (None, 6272)              0         \n",
            "                                                                 \n",
            " dense_60 (Dense)            (None, 64)                401472    \n",
            "                                                                 \n",
            " batch_normalization_132 (Ba  (None, 64)               256       \n",
            " tchNormalization)                                               \n",
            "                                                                 \n",
            " dropout_44 (Dropout)        (None, 64)                0         \n",
            "                                                                 \n",
            " dense_61 (Dense)            (None, 64)                4160      \n",
            "                                                                 \n",
            " batch_normalization_133 (Ba  (None, 64)               256       \n",
            " tchNormalization)                                               \n",
            "                                                                 \n",
            " dropout_45 (Dropout)        (None, 64)                0         \n",
            "                                                                 \n",
            " dense_62 (Dense)            (None, 5)                 325       \n",
            "                                                                 \n",
            "=================================================================\n",
            "Total params: 504,709\n",
            "Trainable params: 503,973\n",
            "Non-trainable params: 736\n",
            "_________________________________________________________________\n"
          ]
        }
      ],
      "source": [
        "conv_3d7=ModelConv3D7()\n",
        "conv_3d7.initialize_path(project_folder)\n",
        "conv_3d7.initialize_image_properties(image_height=120,image_width=120)\n",
        "conv_3d7.initialize_hyperparams(frames_to_sample=16,batch_size=20,num_epochs=25)\n",
        "conv_3d7_model=conv_3d7.define_model(dense_neurons=64,dropout=0.25)\n",
        "conv_3d7_model.summary()"
      ]
    },
    {
      "cell_type": "code",
      "execution_count": 54,
      "metadata": {
        "colab": {
          "base_uri": "https://localhost:8080/"
        },
        "id": "kYKg2Mo_76HG",
        "outputId": "7e55dbef-25ec-4963-bc1a-1c030d79b3f0"
      },
      "outputs": [
        {
          "output_type": "stream",
          "name": "stdout",
          "text": [
            "Total Params: 504709\n",
            "WARNING:tensorflow:`period` argument is deprecated. Please use `save_freq` to specify the frequency in number of batches seen.\n",
            "Epoch 1/25\n",
            "34/34 [==============================] - ETA: 0s - loss: 1.8194 - categorical_accuracy: 0.3590\n",
            "Epoch 1: saving model to model_init_2022-06-1223_51_47.340858/model-00001-1.81937-0.35897-2.06039-0.16000.h5\n",
            "34/34 [==============================] - 89s 3s/step - loss: 1.8194 - categorical_accuracy: 0.3590 - val_loss: 2.0604 - val_categorical_accuracy: 0.1600 - lr: 2.0000e-04\n",
            "Epoch 2/25\n",
            "34/34 [==============================] - ETA: 0s - loss: 1.2211 - categorical_accuracy: 0.5332\n",
            "Epoch 2: saving model to model_init_2022-06-1223_51_47.340858/model-00002-1.22107-0.53318-2.99635-0.17000.h5\n",
            "34/34 [==============================] - 86s 3s/step - loss: 1.2211 - categorical_accuracy: 0.5332 - val_loss: 2.9964 - val_categorical_accuracy: 0.1700 - lr: 2.0000e-04\n",
            "Epoch 3/25\n",
            "34/34 [==============================] - ETA: 0s - loss: 0.9969 - categorical_accuracy: 0.6282\n",
            "Epoch 3: saving model to model_init_2022-06-1223_51_47.340858/model-00003-0.99690-0.62821-3.68644-0.23000.h5\n",
            "34/34 [==============================] - 87s 3s/step - loss: 0.9969 - categorical_accuracy: 0.6282 - val_loss: 3.6864 - val_categorical_accuracy: 0.2300 - lr: 2.0000e-04\n",
            "Epoch 4/25\n",
            "34/34 [==============================] - ETA: 0s - loss: 0.8395 - categorical_accuracy: 0.6870\n",
            "Epoch 4: saving model to model_init_2022-06-1223_51_47.340858/model-00004-0.83954-0.68703-5.11146-0.19000.h5\n",
            "34/34 [==============================] - 87s 3s/step - loss: 0.8395 - categorical_accuracy: 0.6870 - val_loss: 5.1115 - val_categorical_accuracy: 0.1900 - lr: 2.0000e-04\n",
            "Epoch 5/25\n",
            "34/34 [==============================] - ETA: 0s - loss: 0.8352 - categorical_accuracy: 0.6810\n",
            "Epoch 5: saving model to model_init_2022-06-1223_51_47.340858/model-00005-0.83523-0.68100-5.59580-0.21000.h5\n",
            "\n",
            "Epoch 5: ReduceLROnPlateau reducing learning rate to 3.9999998989515007e-05.\n",
            "34/34 [==============================] - 87s 3s/step - loss: 0.8352 - categorical_accuracy: 0.6810 - val_loss: 5.5958 - val_categorical_accuracy: 0.2100 - lr: 2.0000e-04\n",
            "Epoch 6/25\n",
            "34/34 [==============================] - ETA: 0s - loss: 0.6746 - categorical_accuracy: 0.7489\n",
            "Epoch 6: saving model to model_init_2022-06-1223_51_47.340858/model-00006-0.67460-0.74887-5.87318-0.21000.h5\n",
            "34/34 [==============================] - 87s 3s/step - loss: 0.6746 - categorical_accuracy: 0.7489 - val_loss: 5.8732 - val_categorical_accuracy: 0.2100 - lr: 4.0000e-05\n",
            "Epoch 7/25\n",
            "34/34 [==============================] - ETA: 0s - loss: 0.6468 - categorical_accuracy: 0.7602\n",
            "Epoch 7: saving model to model_init_2022-06-1223_51_47.340858/model-00007-0.64681-0.76018-5.86052-0.19000.h5\n",
            "34/34 [==============================] - 86s 3s/step - loss: 0.6468 - categorical_accuracy: 0.7602 - val_loss: 5.8605 - val_categorical_accuracy: 0.1900 - lr: 4.0000e-05\n",
            "Epoch 8/25\n",
            "34/34 [==============================] - ETA: 0s - loss: 0.6385 - categorical_accuracy: 0.7640\n",
            "Epoch 8: saving model to model_init_2022-06-1223_51_47.340858/model-00008-0.63855-0.76395-6.65696-0.19000.h5\n",
            "34/34 [==============================] - 87s 3s/step - loss: 0.6385 - categorical_accuracy: 0.7640 - val_loss: 6.6570 - val_categorical_accuracy: 0.1900 - lr: 4.0000e-05\n",
            "Epoch 9/25\n",
            "34/34 [==============================] - ETA: 0s - loss: 0.5993 - categorical_accuracy: 0.7700\n",
            "Epoch 9: saving model to model_init_2022-06-1223_51_47.340858/model-00009-0.59928-0.76998-6.41762-0.23000.h5\n",
            "\n",
            "Epoch 9: ReduceLROnPlateau reducing learning rate to 7.999999797903002e-06.\n",
            "34/34 [==============================] - 87s 3s/step - loss: 0.5993 - categorical_accuracy: 0.7700 - val_loss: 6.4176 - val_categorical_accuracy: 0.2300 - lr: 4.0000e-05\n",
            "Epoch 10/25\n",
            "34/34 [==============================] - ETA: 0s - loss: 0.5891 - categorical_accuracy: 0.7768\n",
            "Epoch 10: saving model to model_init_2022-06-1223_51_47.340858/model-00010-0.58907-0.77677-6.45393-0.20000.h5\n",
            "34/34 [==============================] - 87s 3s/step - loss: 0.5891 - categorical_accuracy: 0.7768 - val_loss: 6.4539 - val_categorical_accuracy: 0.2000 - lr: 8.0000e-06\n",
            "Epoch 11/25\n",
            "34/34 [==============================] - ETA: 0s - loss: 0.6106 - categorical_accuracy: 0.7677\n",
            "Epoch 11: saving model to model_init_2022-06-1223_51_47.340858/model-00011-0.61058-0.76772-5.76750-0.24000.h5\n",
            "34/34 [==============================] - 86s 3s/step - loss: 0.6106 - categorical_accuracy: 0.7677 - val_loss: 5.7675 - val_categorical_accuracy: 0.2400 - lr: 8.0000e-06\n",
            "Epoch 12/25\n",
            "34/34 [==============================] - ETA: 0s - loss: 0.5428 - categorical_accuracy: 0.8115\n",
            "Epoch 12: saving model to model_init_2022-06-1223_51_47.340858/model-00012-0.54276-0.81146-5.27964-0.23000.h5\n",
            "34/34 [==============================] - 88s 3s/step - loss: 0.5428 - categorical_accuracy: 0.8115 - val_loss: 5.2796 - val_categorical_accuracy: 0.2300 - lr: 8.0000e-06\n",
            "Epoch 13/25\n",
            "34/34 [==============================] - ETA: 0s - loss: 0.5646 - categorical_accuracy: 0.8009\n",
            "Epoch 13: saving model to model_init_2022-06-1223_51_47.340858/model-00013-0.56460-0.80090-4.56225-0.32000.h5\n",
            "\n",
            "Epoch 13: ReduceLROnPlateau reducing learning rate to 1.5999999959603884e-06.\n",
            "34/34 [==============================] - 87s 3s/step - loss: 0.5646 - categorical_accuracy: 0.8009 - val_loss: 4.5623 - val_categorical_accuracy: 0.3200 - lr: 8.0000e-06\n",
            "Epoch 14/25\n",
            "34/34 [==============================] - ETA: 0s - loss: 0.5675 - categorical_accuracy: 0.7986\n",
            "Epoch 14: saving model to model_init_2022-06-1223_51_47.340858/model-00014-0.56755-0.79864-4.09268-0.31000.h5\n",
            "34/34 [==============================] - 87s 3s/step - loss: 0.5675 - categorical_accuracy: 0.7986 - val_loss: 4.0927 - val_categorical_accuracy: 0.3100 - lr: 1.6000e-06\n",
            "Epoch 15/25\n",
            "34/34 [==============================] - ETA: 0s - loss: 0.5857 - categorical_accuracy: 0.7828\n",
            "Epoch 15: saving model to model_init_2022-06-1223_51_47.340858/model-00015-0.58567-0.78281-3.13028-0.35000.h5\n",
            "34/34 [==============================] - 87s 3s/step - loss: 0.5857 - categorical_accuracy: 0.7828 - val_loss: 3.1303 - val_categorical_accuracy: 0.3500 - lr: 1.6000e-06\n",
            "Epoch 16/25\n",
            "34/34 [==============================] - ETA: 0s - loss: 0.5734 - categorical_accuracy: 0.8009\n",
            "Epoch 16: saving model to model_init_2022-06-1223_51_47.340858/model-00016-0.57345-0.80090-2.54410-0.39000.h5\n",
            "34/34 [==============================] - 87s 3s/step - loss: 0.5734 - categorical_accuracy: 0.8009 - val_loss: 2.5441 - val_categorical_accuracy: 0.3900 - lr: 1.6000e-06\n",
            "Epoch 17/25\n",
            "34/34 [==============================] - ETA: 0s - loss: 0.5755 - categorical_accuracy: 0.7768\n",
            "Epoch 17: saving model to model_init_2022-06-1223_51_47.340858/model-00017-0.57553-0.77677-1.86493-0.47000.h5\n",
            "34/34 [==============================] - 86s 3s/step - loss: 0.5755 - categorical_accuracy: 0.7768 - val_loss: 1.8649 - val_categorical_accuracy: 0.4700 - lr: 1.6000e-06\n",
            "Epoch 18/25\n",
            "34/34 [==============================] - ETA: 0s - loss: 0.5509 - categorical_accuracy: 0.7979\n",
            "Epoch 18: saving model to model_init_2022-06-1223_51_47.340858/model-00018-0.55089-0.79789-1.59778-0.52000.h5\n",
            "34/34 [==============================] - 86s 3s/step - loss: 0.5509 - categorical_accuracy: 0.7979 - val_loss: 1.5978 - val_categorical_accuracy: 0.5200 - lr: 1.6000e-06\n",
            "Epoch 19/25\n",
            "34/34 [==============================] - ETA: 0s - loss: 0.5823 - categorical_accuracy: 0.7821\n",
            "Epoch 19: saving model to model_init_2022-06-1223_51_47.340858/model-00019-0.58230-0.78205-1.23897-0.60000.h5\n",
            "34/34 [==============================] - 87s 3s/step - loss: 0.5823 - categorical_accuracy: 0.7821 - val_loss: 1.2390 - val_categorical_accuracy: 0.6000 - lr: 1.6000e-06\n",
            "Epoch 20/25\n",
            "34/34 [==============================] - ETA: 0s - loss: 0.5355 - categorical_accuracy: 0.8002\n",
            "Epoch 20: saving model to model_init_2022-06-1223_51_47.340858/model-00020-0.53547-0.80015-1.08912-0.66000.h5\n",
            "34/34 [==============================] - 87s 3s/step - loss: 0.5355 - categorical_accuracy: 0.8002 - val_loss: 1.0891 - val_categorical_accuracy: 0.6600 - lr: 1.6000e-06\n",
            "Epoch 21/25\n",
            "34/34 [==============================] - ETA: 0s - loss: 0.5768 - categorical_accuracy: 0.8032\n",
            "Epoch 21: saving model to model_init_2022-06-1223_51_47.340858/model-00021-0.57678-0.80317-0.94526-0.67000.h5\n",
            "34/34 [==============================] - 86s 3s/step - loss: 0.5768 - categorical_accuracy: 0.8032 - val_loss: 0.9453 - val_categorical_accuracy: 0.6700 - lr: 1.6000e-06\n",
            "Epoch 22/25\n",
            "34/34 [==============================] - ETA: 0s - loss: 0.5619 - categorical_accuracy: 0.7866\n",
            "Epoch 22: saving model to model_init_2022-06-1223_51_47.340858/model-00022-0.56188-0.78658-0.89523-0.71000.h5\n",
            "34/34 [==============================] - 86s 3s/step - loss: 0.5619 - categorical_accuracy: 0.7866 - val_loss: 0.8952 - val_categorical_accuracy: 0.7100 - lr: 1.6000e-06\n",
            "Epoch 23/25\n",
            "34/34 [==============================] - ETA: 0s - loss: 0.5558 - categorical_accuracy: 0.7979\n",
            "Epoch 23: saving model to model_init_2022-06-1223_51_47.340858/model-00023-0.55581-0.79789-0.82906-0.72000.h5\n",
            "34/34 [==============================] - 86s 3s/step - loss: 0.5558 - categorical_accuracy: 0.7979 - val_loss: 0.8291 - val_categorical_accuracy: 0.7200 - lr: 1.6000e-06\n",
            "Epoch 24/25\n",
            "34/34 [==============================] - ETA: 0s - loss: 0.5363 - categorical_accuracy: 0.8009\n",
            "Epoch 24: saving model to model_init_2022-06-1223_51_47.340858/model-00024-0.53627-0.80090-0.74558-0.71000.h5\n",
            "34/34 [==============================] - 87s 3s/step - loss: 0.5363 - categorical_accuracy: 0.8009 - val_loss: 0.7456 - val_categorical_accuracy: 0.7100 - lr: 1.6000e-06\n",
            "Epoch 25/25\n",
            "34/34 [==============================] - ETA: 0s - loss: 0.5413 - categorical_accuracy: 0.7956\n",
            "Epoch 25: saving model to model_init_2022-06-1223_51_47.340858/model-00025-0.54130-0.79563-0.71340-0.75000.h5\n",
            "34/34 [==============================] - 86s 3s/step - loss: 0.5413 - categorical_accuracy: 0.7956 - val_loss: 0.7134 - val_categorical_accuracy: 0.7500 - lr: 1.6000e-06\n"
          ]
        }
      ],
      "source": [
        "print(\"Total Params:\", conv_3d7_model.count_params())\n",
        "history_model7=conv_3d7.train_model(conv_3d7_model,augment_data=True)"
      ]
    },
    {
      "cell_type": "code",
      "execution_count": 55,
      "metadata": {
        "colab": {
          "base_uri": "https://localhost:8080/",
          "height": 265
        },
        "id": "PFS3x0Y976HG",
        "outputId": "f0311290-4c34-4ca5-93e5-aecefdb546f7"
      },
      "outputs": [
        {
          "output_type": "display_data",
          "data": {
            "text/plain": [
              "<Figure size 1080x288 with 2 Axes>"
            ],
            "image/png": "[encoded data removed]"
          },
          "metadata": {
            "needs_background": "light"
          }
        }
      ],
      "source": [
        "plot(history_model7)"
      ]
    },
    {
      "cell_type": "markdown",
      "metadata": {
        "id": "BKP-h5X076HG"
      },
      "source": [
        "###### For the above low memory foot print model the best validation accuracy of 77%"
      ]
    },
    {
      "cell_type": "markdown",
      "metadata": {
        "id": "VLpa28br76HG"
      },
      "source": [
        "# Model 8 - reducing the number of parameters"
      ]
    },
    {
      "cell_type": "code",
      "execution_count": 56,
      "metadata": {
        "collapsed": true,
        "id": "flA-p_y076HG"
      },
      "outputs": [],
      "source": [
        "class ModelConv3D8(ModelBuilder):\n",
        "    \n",
        "    def define_model(self,dense_neurons=64,dropout=0.25):\n",
        "\n",
        "        model = Sequential()\n",
        "        model.add(Conv3D(8, (3, 3, 3), padding='same',\n",
        "                 input_shape=(self.frames_to_sample,self.image_height,self.image_width,self.channels)))\n",
        "        model.add(Activation('relu'))\n",
        "        model.add(BatchNormalization())\n",
        "        model.add(MaxPooling3D(pool_size=(2, 2, 2)))\n",
        "\n",
        "        model.add(Conv3D(16, (3, 3, 3), padding='same'))\n",
        "        model.add(Activation('relu'))\n",
        "        model.add(BatchNormalization())\n",
        "        model.add(MaxPooling3D(pool_size=(2, 2, 2)))\n",
        "\n",
        "        model.add(Conv3D(32, (2, 2, 2), padding='same'))\n",
        "        model.add(Activation('relu'))\n",
        "        model.add(BatchNormalization())\n",
        "        model.add(MaxPooling3D(pool_size=(2, 2, 2)))\n",
        "\n",
        "        model.add(Conv3D(64, (2, 2, 2), padding='same'))\n",
        "        model.add(Activation('relu'))\n",
        "        model.add(BatchNormalization())\n",
        "        model.add(MaxPooling3D(pool_size=(2, 2, 2)))\n",
        "        \n",
        "        model.add(Flatten())\n",
        "        model.add(Dense(dense_neurons,activation='relu'))\n",
        "        model.add(BatchNormalization())\n",
        "        model.add(Dropout(dropout))\n",
        "\n",
        "        model.add(Dense(dense_neurons,activation='relu'))\n",
        "        model.add(BatchNormalization())\n",
        "        model.add(Dropout(dropout))\n",
        "\n",
        "        model.add(Dense(self.num_classes,activation='softmax'))\n",
        "\n",
        "        optimiser = optimizers.Adam(lr=0.0002)\n",
        "        model.compile(optimizer=optimiser, loss='categorical_crossentropy', metrics=['categorical_accuracy'])\n",
        "        return model"
      ]
    },
    {
      "cell_type": "code",
      "execution_count": 57,
      "metadata": {
        "colab": {
          "base_uri": "https://localhost:8080/"
        },
        "id": "vQj8N2yN76HG",
        "outputId": "ebbfcb00-b83c-43aa-d348-5bd7163b7856"
      },
      "outputs": [
        {
          "output_type": "stream",
          "name": "stdout",
          "text": [
            "Model: \"sequential_21\"\n",
            "_________________________________________________________________\n",
            " Layer (type)                Output Shape              Param #   \n",
            "=================================================================\n",
            " conv3d_92 (Conv3D)          (None, 16, 120, 120, 8)   656       \n",
            "                                                                 \n",
            " activation_92 (Activation)  (None, 16, 120, 120, 8)   0         \n",
            "                                                                 \n",
            " batch_normalization_134 (Ba  (None, 16, 120, 120, 8)  32        \n",
            " tchNormalization)                                               \n",
            "                                                                 \n",
            " max_pooling3d_84 (MaxPoolin  (None, 8, 60, 60, 8)     0         \n",
            " g3D)                                                            \n",
            "                                                                 \n",
            " conv3d_93 (Conv3D)          (None, 8, 60, 60, 16)     3472      \n",
            "                                                                 \n",
            " activation_93 (Activation)  (None, 8, 60, 60, 16)     0         \n",
            "                                                                 \n",
            " batch_normalization_135 (Ba  (None, 8, 60, 60, 16)    64        \n",
            " tchNormalization)                                               \n",
            "                                                                 \n",
            " max_pooling3d_85 (MaxPoolin  (None, 4, 30, 30, 16)    0         \n",
            " g3D)                                                            \n",
            "                                                                 \n",
            " conv3d_94 (Conv3D)          (None, 4, 30, 30, 32)     4128      \n",
            "                                                                 \n",
            " activation_94 (Activation)  (None, 4, 30, 30, 32)     0         \n",
            "                                                                 \n",
            " batch_normalization_136 (Ba  (None, 4, 30, 30, 32)    128       \n",
            " tchNormalization)                                               \n",
            "                                                                 \n",
            " max_pooling3d_86 (MaxPoolin  (None, 2, 15, 15, 32)    0         \n",
            " g3D)                                                            \n",
            "                                                                 \n",
            " conv3d_95 (Conv3D)          (None, 2, 15, 15, 64)     16448     \n",
            "                                                                 \n",
            " activation_95 (Activation)  (None, 2, 15, 15, 64)     0         \n",
            "                                                                 \n",
            " batch_normalization_137 (Ba  (None, 2, 15, 15, 64)    256       \n",
            " tchNormalization)                                               \n",
            "                                                                 \n",
            " max_pooling3d_87 (MaxPoolin  (None, 1, 7, 7, 64)      0         \n",
            " g3D)                                                            \n",
            "                                                                 \n",
            " flatten_21 (Flatten)        (None, 3136)              0         \n",
            "                                                                 \n",
            " dense_63 (Dense)            (None, 64)                200768    \n",
            "                                                                 \n",
            " batch_normalization_138 (Ba  (None, 64)               256       \n",
            " tchNormalization)                                               \n",
            "                                                                 \n",
            " dropout_46 (Dropout)        (None, 64)                0         \n",
            "                                                                 \n",
            " dense_64 (Dense)            (None, 64)                4160      \n",
            "                                                                 \n",
            " batch_normalization_139 (Ba  (None, 64)               256       \n",
            " tchNormalization)                                               \n",
            "                                                                 \n",
            " dropout_47 (Dropout)        (None, 64)                0         \n",
            "                                                                 \n",
            " dense_65 (Dense)            (None, 5)                 325       \n",
            "                                                                 \n",
            "=================================================================\n",
            "Total params: 230,949\n",
            "Trainable params: 230,453\n",
            "Non-trainable params: 496\n",
            "_________________________________________________________________\n"
          ]
        }
      ],
      "source": [
        "conv_3d8=ModelConv3D8()\n",
        "conv_3d8.initialize_path(project_folder)\n",
        "conv_3d8.initialize_image_properties(image_height=120,image_width=120)\n",
        "conv_3d8.initialize_hyperparams(frames_to_sample=16,batch_size=20,num_epochs=30)\n",
        "conv_3d8_model=conv_3d8.define_model(dense_neurons=64,dropout=0.25)\n",
        "conv_3d8_model.summary()"
      ]
    },
    {
      "cell_type": "code",
      "execution_count": 58,
      "metadata": {
        "colab": {
          "base_uri": "https://localhost:8080/"
        },
        "id": "dqgI6ZpG76HG",
        "outputId": "b8245ef6-3399-40e9-da86-5be940f362ce"
      },
      "outputs": [
        {
          "output_type": "stream",
          "name": "stdout",
          "text": [
            "Total Params: 230949\n",
            "WARNING:tensorflow:`period` argument is deprecated. Please use `save_freq` to specify the frequency in number of batches seen.\n",
            "Epoch 1/30\n",
            "34/34 [==============================] - ETA: 0s - loss: 1.9801 - categorical_accuracy: 0.2964\n",
            "Epoch 1: saving model to model_init_2022-06-1300_28_00.931193/model-00001-1.98007-0.29638-1.62456-0.23000.h5\n",
            "34/34 [==============================] - 88s 3s/step - loss: 1.9801 - categorical_accuracy: 0.2964 - val_loss: 1.6246 - val_categorical_accuracy: 0.2300 - lr: 2.0000e-04\n",
            "Epoch 2/30\n",
            "34/34 [==============================] - ETA: 0s - loss: 1.4600 - categorical_accuracy: 0.4465\n",
            "Epoch 2: saving model to model_init_2022-06-1300_28_00.931193/model-00002-1.45998-0.44646-2.02016-0.13000.h5\n",
            "34/34 [==============================] - 87s 3s/step - loss: 1.4600 - categorical_accuracy: 0.4465 - val_loss: 2.0202 - val_categorical_accuracy: 0.1300 - lr: 2.0000e-04\n",
            "Epoch 3/30\n",
            "34/34 [==============================] - ETA: 0s - loss: 1.2418 - categorical_accuracy: 0.5196\n",
            "Epoch 3: saving model to model_init_2022-06-1300_28_00.931193/model-00003-1.24185-0.51961-2.25124-0.21000.h5\n",
            "34/34 [==============================] - 87s 3s/step - loss: 1.2418 - categorical_accuracy: 0.5196 - val_loss: 2.2512 - val_categorical_accuracy: 0.2100 - lr: 2.0000e-04\n",
            "Epoch 4/30\n",
            "34/34 [==============================] - ETA: 0s - loss: 1.1484 - categorical_accuracy: 0.5460\n",
            "Epoch 4: saving model to model_init_2022-06-1300_28_00.931193/model-00004-1.14843-0.54600-2.45877-0.15000.h5\n",
            "34/34 [==============================] - 85s 3s/step - loss: 1.1484 - categorical_accuracy: 0.5460 - val_loss: 2.4588 - val_categorical_accuracy: 0.1500 - lr: 2.0000e-04\n",
            "Epoch 5/30\n",
            "34/34 [==============================] - ETA: 0s - loss: 0.9906 - categorical_accuracy: 0.6192\n",
            "Epoch 5: saving model to model_init_2022-06-1300_28_00.931193/model-00005-0.99059-0.61916-2.42645-0.23000.h5\n",
            "\n",
            "Epoch 5: ReduceLROnPlateau reducing learning rate to 3.9999998989515007e-05.\n",
            "34/34 [==============================] - 89s 3s/step - loss: 0.9906 - categorical_accuracy: 0.6192 - val_loss: 2.4265 - val_categorical_accuracy: 0.2300 - lr: 2.0000e-04\n",
            "Epoch 6/30\n",
            "34/34 [==============================] - ETA: 0s - loss: 0.9414 - categorical_accuracy: 0.6312\n",
            "Epoch 6: saving model to model_init_2022-06-1300_28_00.931193/model-00006-0.94144-0.63122-2.62954-0.24000.h5\n",
            "34/34 [==============================] - 88s 3s/step - loss: 0.9414 - categorical_accuracy: 0.6312 - val_loss: 2.6295 - val_categorical_accuracy: 0.2400 - lr: 4.0000e-05\n",
            "Epoch 7/30\n",
            "34/34 [==============================] - ETA: 0s - loss: 0.9433 - categorical_accuracy: 0.6282\n",
            "Epoch 7: saving model to model_init_2022-06-1300_28_00.931193/model-00007-0.94328-0.62821-2.50241-0.29000.h5\n",
            "34/34 [==============================] - 86s 3s/step - loss: 0.9433 - categorical_accuracy: 0.6282 - val_loss: 2.5024 - val_categorical_accuracy: 0.2900 - lr: 4.0000e-05\n",
            "Epoch 8/30\n",
            "34/34 [==============================] - ETA: 0s - loss: 0.9183 - categorical_accuracy: 0.6448\n",
            "Epoch 8: saving model to model_init_2022-06-1300_28_00.931193/model-00008-0.91828-0.64480-2.29578-0.30000.h5\n",
            "34/34 [==============================] - 85s 3s/step - loss: 0.9183 - categorical_accuracy: 0.6448 - val_loss: 2.2958 - val_categorical_accuracy: 0.3000 - lr: 4.0000e-05\n",
            "Epoch 9/30\n",
            "34/34 [==============================] - ETA: 0s - loss: 0.8856 - categorical_accuracy: 0.6614\n",
            "Epoch 9: saving model to model_init_2022-06-1300_28_00.931193/model-00009-0.88563-0.66139-2.48072-0.29000.h5\n",
            "\n",
            "Epoch 9: ReduceLROnPlateau reducing learning rate to 7.999999797903002e-06.\n",
            "34/34 [==============================] - 87s 3s/step - loss: 0.8856 - categorical_accuracy: 0.6614 - val_loss: 2.4807 - val_categorical_accuracy: 0.2900 - lr: 4.0000e-05\n",
            "Epoch 10/30\n",
            "34/34 [==============================] - ETA: 0s - loss: 0.8481 - categorical_accuracy: 0.6727\n",
            "Epoch 10: saving model to model_init_2022-06-1300_28_00.931193/model-00010-0.84811-0.67270-2.13987-0.32000.h5\n",
            "34/34 [==============================] - 86s 3s/step - loss: 0.8481 - categorical_accuracy: 0.6727 - val_loss: 2.1399 - val_categorical_accuracy: 0.3200 - lr: 8.0000e-06\n",
            "Epoch 11/30\n",
            "34/34 [==============================] - ETA: 0s - loss: 0.8538 - categorical_accuracy: 0.6795\n",
            "Epoch 11: saving model to model_init_2022-06-1300_28_00.931193/model-00011-0.85383-0.67949-1.94690-0.35000.h5\n",
            "34/34 [==============================] - 86s 3s/step - loss: 0.8538 - categorical_accuracy: 0.6795 - val_loss: 1.9469 - val_categorical_accuracy: 0.3500 - lr: 8.0000e-06\n",
            "Epoch 12/30\n",
            "34/34 [==============================] - ETA: 0s - loss: 0.8569 - categorical_accuracy: 0.6621\n",
            "Epoch 12: saving model to model_init_2022-06-1300_28_00.931193/model-00012-0.85692-0.66214-2.06519-0.31000.h5\n",
            "34/34 [==============================] - 86s 3s/step - loss: 0.8569 - categorical_accuracy: 0.6621 - val_loss: 2.0652 - val_categorical_accuracy: 0.3100 - lr: 8.0000e-06\n",
            "Epoch 13/30\n",
            "34/34 [==============================] - ETA: 0s - loss: 0.8738 - categorical_accuracy: 0.6757\n",
            "Epoch 13: saving model to model_init_2022-06-1300_28_00.931193/model-00013-0.87381-0.67572-1.64868-0.43000.h5\n",
            "\n",
            "Epoch 13: ReduceLROnPlateau reducing learning rate to 1.5999999959603884e-06.\n",
            "34/34 [==============================] - 86s 3s/step - loss: 0.8738 - categorical_accuracy: 0.6757 - val_loss: 1.6487 - val_categorical_accuracy: 0.4300 - lr: 8.0000e-06\n",
            "Epoch 14/30\n",
            "34/34 [==============================] - ETA: 0s - loss: 0.8703 - categorical_accuracy: 0.6621\n",
            "Epoch 14: saving model to model_init_2022-06-1300_28_00.931193/model-00014-0.87029-0.66214-1.70884-0.44000.h5\n",
            "34/34 [==============================] - 86s 3s/step - loss: 0.8703 - categorical_accuracy: 0.6621 - val_loss: 1.7088 - val_categorical_accuracy: 0.4400 - lr: 1.6000e-06\n",
            "Epoch 15/30\n",
            "34/34 [==============================] - ETA: 0s - loss: 0.8497 - categorical_accuracy: 0.6840\n",
            "Epoch 15: saving model to model_init_2022-06-1300_28_00.931193/model-00015-0.84970-0.68401-1.25710-0.56000.h5\n",
            "34/34 [==============================] - 86s 3s/step - loss: 0.8497 - categorical_accuracy: 0.6840 - val_loss: 1.2571 - val_categorical_accuracy: 0.5600 - lr: 1.6000e-06\n",
            "Epoch 16/30\n",
            "34/34 [==============================] - ETA: 0s - loss: 0.8384 - categorical_accuracy: 0.6757\n",
            "Epoch 16: saving model to model_init_2022-06-1300_28_00.931193/model-00016-0.83835-0.67572-1.34693-0.52000.h5\n",
            "34/34 [==============================] - 86s 3s/step - loss: 0.8384 - categorical_accuracy: 0.6757 - val_loss: 1.3469 - val_categorical_accuracy: 0.5200 - lr: 1.6000e-06\n",
            "Epoch 17/30\n",
            "34/34 [==============================] - ETA: 0s - loss: 0.8334 - categorical_accuracy: 0.6870\n",
            "Epoch 17: saving model to model_init_2022-06-1300_28_00.931193/model-00017-0.83336-0.68703-1.14280-0.56000.h5\n",
            "34/34 [==============================] - 86s 3s/step - loss: 0.8334 - categorical_accuracy: 0.6870 - val_loss: 1.1428 - val_categorical_accuracy: 0.5600 - lr: 1.6000e-06\n",
            "Epoch 18/30\n",
            "34/34 [==============================] - ETA: 0s - loss: 0.8621 - categorical_accuracy: 0.6689\n",
            "Epoch 18: saving model to model_init_2022-06-1300_28_00.931193/model-00018-0.86214-0.66893-1.17906-0.59000.h5\n",
            "34/34 [==============================] - 86s 3s/step - loss: 0.8621 - categorical_accuracy: 0.6689 - val_loss: 1.1791 - val_categorical_accuracy: 0.5900 - lr: 1.6000e-06\n",
            "Epoch 19/30\n",
            "34/34 [==============================] - ETA: 0s - loss: 0.8591 - categorical_accuracy: 0.6719\n",
            "Epoch 19: saving model to model_init_2022-06-1300_28_00.931193/model-00019-0.85908-0.67195-1.19670-0.56000.h5\n",
            "34/34 [==============================] - 86s 3s/step - loss: 0.8591 - categorical_accuracy: 0.6719 - val_loss: 1.1967 - val_categorical_accuracy: 0.5600 - lr: 1.6000e-06\n",
            "Epoch 20/30\n",
            "34/34 [==============================] - ETA: 0s - loss: 0.8511 - categorical_accuracy: 0.6878\n",
            "Epoch 20: saving model to model_init_2022-06-1300_28_00.931193/model-00020-0.85112-0.68778-1.25284-0.56000.h5\n",
            "34/34 [==============================] - 86s 3s/step - loss: 0.8511 - categorical_accuracy: 0.6878 - val_loss: 1.2528 - val_categorical_accuracy: 0.5600 - lr: 1.6000e-06\n",
            "Epoch 21/30\n",
            "34/34 [==============================] - ETA: 0s - loss: 0.8291 - categorical_accuracy: 0.6855\n",
            "Epoch 21: saving model to model_init_2022-06-1300_28_00.931193/model-00021-0.82911-0.68552-1.13641-0.59000.h5\n",
            "34/34 [==============================] - 88s 3s/step - loss: 0.8291 - categorical_accuracy: 0.6855 - val_loss: 1.1364 - val_categorical_accuracy: 0.5900 - lr: 1.6000e-06\n",
            "Epoch 22/30\n",
            "34/34 [==============================] - ETA: 0s - loss: 0.8365 - categorical_accuracy: 0.6878\n",
            "Epoch 22: saving model to model_init_2022-06-1300_28_00.931193/model-00022-0.83646-0.68778-1.09940-0.60000.h5\n",
            "34/34 [==============================] - 86s 3s/step - loss: 0.8365 - categorical_accuracy: 0.6878 - val_loss: 1.0994 - val_categorical_accuracy: 0.6000 - lr: 1.6000e-06\n",
            "Epoch 23/30\n",
            "34/34 [==============================] - ETA: 0s - loss: 0.8105 - categorical_accuracy: 0.7014\n",
            "Epoch 23: saving model to model_init_2022-06-1300_28_00.931193/model-00023-0.81047-0.70136-1.04997-0.62000.h5\n",
            "34/34 [==============================] - 85s 3s/step - loss: 0.8105 - categorical_accuracy: 0.7014 - val_loss: 1.0500 - val_categorical_accuracy: 0.6200 - lr: 1.6000e-06\n",
            "Epoch 24/30\n",
            "34/34 [==============================] - ETA: 0s - loss: 0.8128 - categorical_accuracy: 0.6825\n",
            "Epoch 24: saving model to model_init_2022-06-1300_28_00.931193/model-00024-0.81281-0.68250-1.19408-0.62000.h5\n",
            "34/34 [==============================] - 86s 3s/step - loss: 0.8128 - categorical_accuracy: 0.6825 - val_loss: 1.1941 - val_categorical_accuracy: 0.6200 - lr: 1.6000e-06\n",
            "Epoch 25/30\n",
            "34/34 [==============================] - ETA: 0s - loss: 0.8399 - categorical_accuracy: 0.6727\n",
            "Epoch 25: saving model to model_init_2022-06-1300_28_00.931193/model-00025-0.83995-0.67270-1.03065-0.66000.h5\n",
            "34/34 [==============================] - 86s 3s/step - loss: 0.8399 - categorical_accuracy: 0.6727 - val_loss: 1.0307 - val_categorical_accuracy: 0.6600 - lr: 1.6000e-06\n",
            "Epoch 26/30\n",
            "34/34 [==============================] - ETA: 0s - loss: 0.8296 - categorical_accuracy: 0.6946\n",
            "Epoch 26: saving model to model_init_2022-06-1300_28_00.931193/model-00026-0.82964-0.69457-1.06092-0.64000.h5\n",
            "34/34 [==============================] - 86s 3s/step - loss: 0.8296 - categorical_accuracy: 0.6946 - val_loss: 1.0609 - val_categorical_accuracy: 0.6400 - lr: 1.6000e-06\n",
            "Epoch 27/30\n",
            "34/34 [==============================] - ETA: 0s - loss: 0.8345 - categorical_accuracy: 0.6833\n",
            "Epoch 27: saving model to model_init_2022-06-1300_28_00.931193/model-00027-0.83450-0.68326-0.99831-0.68000.h5\n",
            "34/34 [==============================] - 85s 3s/step - loss: 0.8345 - categorical_accuracy: 0.6833 - val_loss: 0.9983 - val_categorical_accuracy: 0.6800 - lr: 1.6000e-06\n",
            "Epoch 28/30\n",
            "34/34 [==============================] - ETA: 0s - loss: 0.8621 - categorical_accuracy: 0.6742\n",
            "Epoch 28: saving model to model_init_2022-06-1300_28_00.931193/model-00028-0.86215-0.67421-1.24416-0.57000.h5\n",
            "34/34 [==============================] - 87s 3s/step - loss: 0.8621 - categorical_accuracy: 0.6742 - val_loss: 1.2442 - val_categorical_accuracy: 0.5700 - lr: 1.6000e-06\n",
            "Epoch 29/30\n",
            "34/34 [==============================] - ETA: 0s - loss: 0.8558 - categorical_accuracy: 0.6757\n",
            "Epoch 29: saving model to model_init_2022-06-1300_28_00.931193/model-00029-0.85582-0.67572-0.92391-0.66000.h5\n",
            "34/34 [==============================] - 86s 3s/step - loss: 0.8558 - categorical_accuracy: 0.6757 - val_loss: 0.9239 - val_categorical_accuracy: 0.6600 - lr: 1.6000e-06\n",
            "Epoch 30/30\n",
            "34/34 [==============================] - ETA: 0s - loss: 0.8091 - categorical_accuracy: 0.6983\n",
            "Epoch 30: saving model to model_init_2022-06-1300_28_00.931193/model-00030-0.80906-0.69834-1.14048-0.62000.h5\n",
            "34/34 [==============================] - 85s 3s/step - loss: 0.8091 - categorical_accuracy: 0.6983 - val_loss: 1.1405 - val_categorical_accuracy: 0.6200 - lr: 1.6000e-06\n"
          ]
        }
      ],
      "source": [
        "print(\"Total Params:\", conv_3d8_model.count_params())\n",
        "history_model8=conv_3d8.train_model(conv_3d8_model,augment_data=True)"
      ]
    },
    {
      "cell_type": "code",
      "execution_count": 59,
      "metadata": {
        "colab": {
          "base_uri": "https://localhost:8080/",
          "height": 265
        },
        "id": "_SEmAcO376HH",
        "outputId": "27e30002-77c9-4cfe-b557-d83fa9763fa4"
      },
      "outputs": [
        {
          "output_type": "display_data",
          "data": {
            "text/plain": [
              "<Figure size 1080x288 with 2 Axes>"
            ],
            "image/png": "[encoded data removed]"
          },
          "metadata": {
            "needs_background": "light"
          }
        }
      ],
      "source": [
        "plot(history_model8)"
      ]
    },
    {
      "cell_type": "markdown",
      "metadata": {
        "collapsed": true,
        "id": "qIdRP0MT76HH"
      },
      "source": [
        "###### For the above low memory foot print model the best validation accuracy of 78%"
      ]
    },
    {
      "cell_type": "markdown",
      "metadata": {
        "id": "gmMXd4CG76HH"
      },
      "source": [
        "# Model 9 - CNN- LSTM Model"
      ]
    },
    {
      "cell_type": "code",
      "execution_count": 60,
      "metadata": {
        "collapsed": true,
        "id": "PDQfPnCV76HH"
      },
      "outputs": [],
      "source": [
        "class RNNCNN1(ModelBuilder):\n",
        "    \n",
        "    def define_model(self,lstm_cells=64,dense_neurons=64,dropout=0.25):\n",
        "\n",
        "        model = Sequential()\n",
        "\n",
        "        model.add(TimeDistributed(Conv2D(16, (3, 3) , padding='same', activation='relu'),\n",
        "                                  input_shape=(self.frames_to_sample,self.image_height,self.image_width,self.channels)))\n",
        "        model.add(TimeDistributed(BatchNormalization()))\n",
        "        model.add(TimeDistributed(MaxPooling2D((2, 2))))\n",
        "        \n",
        "        model.add(TimeDistributed(Conv2D(32, (3, 3) , padding='same', activation='relu')))\n",
        "        model.add(TimeDistributed(BatchNormalization()))\n",
        "        model.add(TimeDistributed(MaxPooling2D((2, 2))))\n",
        "        \n",
        "        model.add(TimeDistributed(Conv2D(64, (3, 3) , padding='same', activation='relu')))\n",
        "        model.add(TimeDistributed(BatchNormalization()))\n",
        "        model.add(TimeDistributed(MaxPooling2D((2, 2))))\n",
        "        \n",
        "        model.add(TimeDistributed(Conv2D(128, (3, 3) , padding='same', activation='relu')))\n",
        "        model.add(TimeDistributed(BatchNormalization()))\n",
        "        model.add(TimeDistributed(MaxPooling2D((2, 2))))\n",
        "        \n",
        "        model.add(TimeDistributed(Conv2D(256, (3, 3) , padding='same', activation='relu')))\n",
        "        model.add(TimeDistributed(BatchNormalization()))\n",
        "        model.add(TimeDistributed(MaxPooling2D((2, 2))))\n",
        "        \n",
        "        #model.add(TimeDistributed(Conv2D(512, (2, 2) , padding='valid', activation='relu')))\n",
        "       # model.add(TimeDistributed(BatchNormalization()))\n",
        "       # model.add(TimeDistributed(MaxPooling2D((2, 2))))\n",
        "\n",
        "        model.add(TimeDistributed(Flatten()))\n",
        "\n",
        "\n",
        "        model.add(LSTM(lstm_cells))\n",
        "        model.add(Dropout(dropout))\n",
        "        \n",
        "        model.add(Dense(dense_neurons,activation='relu'))\n",
        "        model.add(Dropout(dropout))\n",
        "        \n",
        "        model.add(Dense(self.num_classes, activation='softmax'))\n",
        "        optimiser = optimizers.Adam()\n",
        "        model.compile(optimizer=optimiser, loss='categorical_crossentropy', metrics=['categorical_accuracy'])\n",
        "        return model"
      ]
    },
    {
      "cell_type": "code",
      "execution_count": 61,
      "metadata": {
        "colab": {
          "base_uri": "https://localhost:8080/"
        },
        "id": "9dGgTuY276HH",
        "outputId": "5368ca81-d454-4eec-ec95-186e693f5816"
      },
      "outputs": [
        {
          "output_type": "stream",
          "name": "stdout",
          "text": [
            "Model: \"sequential_22\"\n",
            "_________________________________________________________________\n",
            " Layer (type)                Output Shape              Param #   \n",
            "=================================================================\n",
            " time_distributed (TimeDistr  (None, 18, 120, 120, 16)  448      \n",
            " ibuted)                                                         \n",
            "                                                                 \n",
            " time_distributed_1 (TimeDis  (None, 18, 120, 120, 16)  64       \n",
            " tributed)                                                       \n",
            "                                                                 \n",
            " time_distributed_2 (TimeDis  (None, 18, 60, 60, 16)   0         \n",
            " tributed)                                                       \n",
            "                                                                 \n",
            " time_distributed_3 (TimeDis  (None, 18, 60, 60, 32)   4640      \n",
            " tributed)                                                       \n",
            "                                                                 \n",
            " time_distributed_4 (TimeDis  (None, 18, 60, 60, 32)   128       \n",
            " tributed)                                                       \n",
            "                                                                 \n",
            " time_distributed_5 (TimeDis  (None, 18, 30, 30, 32)   0         \n",
            " tributed)                                                       \n",
            "                                                                 \n",
            " time_distributed_6 (TimeDis  (None, 18, 30, 30, 64)   18496     \n",
            " tributed)                                                       \n",
            "                                                                 \n",
            " time_distributed_7 (TimeDis  (None, 18, 30, 30, 64)   256       \n",
            " tributed)                                                       \n",
            "                                                                 \n",
            " time_distributed_8 (TimeDis  (None, 18, 15, 15, 64)   0         \n",
            " tributed)                                                       \n",
            "                                                                 \n",
            " time_distributed_9 (TimeDis  (None, 18, 15, 15, 128)  73856     \n",
            " tributed)                                                       \n",
            "                                                                 \n",
            " time_distributed_10 (TimeDi  (None, 18, 15, 15, 128)  512       \n",
            " stributed)                                                      \n",
            "                                                                 \n",
            " time_distributed_11 (TimeDi  (None, 18, 7, 7, 128)    0         \n",
            " stributed)                                                      \n",
            "                                                                 \n",
            " time_distributed_12 (TimeDi  (None, 18, 7, 7, 256)    295168    \n",
            " stributed)                                                      \n",
            "                                                                 \n",
            " time_distributed_13 (TimeDi  (None, 18, 7, 7, 256)    1024      \n",
            " stributed)                                                      \n",
            "                                                                 \n",
            " time_distributed_14 (TimeDi  (None, 18, 3, 3, 256)    0         \n",
            " stributed)                                                      \n",
            "                                                                 \n",
            " time_distributed_15 (TimeDi  (None, 18, 2304)         0         \n",
            " stributed)                                                      \n",
            "                                                                 \n",
            " lstm (LSTM)                 (None, 128)               1245696   \n",
            "                                                                 \n",
            " dropout_48 (Dropout)        (None, 128)               0         \n",
            "                                                                 \n",
            " dense_66 (Dense)            (None, 128)               16512     \n",
            "                                                                 \n",
            " dropout_49 (Dropout)        (None, 128)               0         \n",
            "                                                                 \n",
            " dense_67 (Dense)            (None, 5)                 645       \n",
            "                                                                 \n",
            "=================================================================\n",
            "Total params: 1,657,445\n",
            "Trainable params: 1,656,453\n",
            "Non-trainable params: 992\n",
            "_________________________________________________________________\n"
          ]
        }
      ],
      "source": [
        "rnn_cnn1=RNNCNN1()\n",
        "rnn_cnn1.initialize_path(project_folder)\n",
        "rnn_cnn1.initialize_image_properties(image_height=120,image_width=120)\n",
        "rnn_cnn1.initialize_hyperparams(frames_to_sample=18,batch_size=20,num_epochs=20)\n",
        "rnn_cnn1_model=rnn_cnn1.define_model(lstm_cells=128,dense_neurons=128,dropout=0.25)\n",
        "rnn_cnn1_model.summary()"
      ]
    },
    {
      "cell_type": "code",
      "execution_count": 62,
      "metadata": {
        "colab": {
          "base_uri": "https://localhost:8080/",
          "height": 536
        },
        "id": "i3N5F7da76HH",
        "outputId": "c01c6b76-2f3d-4ee1-a911-58872162ceaa"
      },
      "outputs": [
        {
          "output_type": "stream",
          "name": "stdout",
          "text": [
            "Total Params: 1657445\n",
            "WARNING:tensorflow:`period` argument is deprecated. Please use `save_freq` to specify the frequency in number of batches seen.\n",
            "Epoch 1/20\n",
            "34/34 [==============================] - ETA: 0s - loss: 1.4429 - categorical_accuracy: 0.3544\n",
            "Epoch 1: saving model to model_init_2022-06-1301_11_11.228644/model-00001-1.44289-0.35445-1.66804-0.21000.h5\n",
            "34/34 [==============================] - 112s 3s/step - loss: 1.4429 - categorical_accuracy: 0.3544 - val_loss: 1.6680 - val_categorical_accuracy: 0.2100 - lr: 0.0010\n",
            "Epoch 2/20\n",
            "34/34 [==============================] - ETA: 0s - loss: 1.1584 - categorical_accuracy: 0.5317\n",
            "Epoch 2: saving model to model_init_2022-06-1301_11_11.228644/model-00002-1.15843-0.53167-1.98858-0.17000.h5\n",
            "34/34 [==============================] - 107s 3s/step - loss: 1.1584 - categorical_accuracy: 0.5317 - val_loss: 1.9886 - val_categorical_accuracy: 0.1700 - lr: 0.0010\n",
            "Epoch 3/20\n",
            " 9/34 [======>.......................] - ETA: 1:02 - loss: 0.9408 - categorical_accuracy: 0.6444"
          ]
        },
        {
          "output_type": "error",
          "ename": "KeyboardInterrupt",
          "evalue": "ignored",
          "traceback": [
            "\u001b[0;31m---------------------------------------------------------------------------\u001b[0m",
            "\u001b[0;31mKeyboardInterrupt\u001b[0m                         Traceback (most recent call last)",
            "\u001b[0;32m<ipython-input-62-9f1746b422f6>\u001b[0m in \u001b[0;36m<module>\u001b[0;34m()\u001b[0m\n\u001b[1;32m      1\u001b[0m \u001b[0mprint\u001b[0m\u001b[0;34m(\u001b[0m\u001b[0;34m\"Total Params:\"\u001b[0m\u001b[0;34m,\u001b[0m \u001b[0mrnn_cnn1_model\u001b[0m\u001b[0;34m.\u001b[0m\u001b[0mcount_params\u001b[0m\u001b[0;34m(\u001b[0m\u001b[0;34m)\u001b[0m\u001b[0;34m)\u001b[0m\u001b[0;34m\u001b[0m\u001b[0;34m\u001b[0m\u001b[0m\n\u001b[0;32m----> 2\u001b[0;31m \u001b[0mhistory_model9\u001b[0m\u001b[0;34m=\u001b[0m\u001b[0mrnn_cnn1\u001b[0m\u001b[0;34m.\u001b[0m\u001b[0mtrain_model\u001b[0m\u001b[0;34m(\u001b[0m\u001b[0mrnn_cnn1_model\u001b[0m\u001b[0;34m,\u001b[0m\u001b[0maugment_data\u001b[0m\u001b[0;34m=\u001b[0m\u001b[0;32mTrue\u001b[0m\u001b[0;34m)\u001b[0m\u001b[0;34m\u001b[0m\u001b[0;34m\u001b[0m\u001b[0m\n\u001b[0m",
            "\u001b[0;32m<ipython-input-11-aa26785c79f7>\u001b[0m in \u001b[0;36mtrain_model\u001b[0;34m(self, model, augment_data)\u001b[0m\n\u001b[1;32m    122\u001b[0m         history=model.fit(train_generator, steps_per_epoch=steps_per_epoch, epochs=self.num_epochs, verbose=1, \n\u001b[1;32m    123\u001b[0m                             \u001b[0mcallbacks\u001b[0m\u001b[0;34m=\u001b[0m\u001b[0mcallbacks_list\u001b[0m\u001b[0;34m,\u001b[0m \u001b[0mvalidation_data\u001b[0m\u001b[0;34m=\u001b[0m\u001b[0mval_generator\u001b[0m\u001b[0;34m,\u001b[0m\u001b[0;34m\u001b[0m\u001b[0;34m\u001b[0m\u001b[0m\n\u001b[0;32m--> 124\u001b[0;31m                             validation_steps=validation_steps, class_weight=None, workers=1, initial_epoch=0)\n\u001b[0m\u001b[1;32m    125\u001b[0m         \u001b[0;32mreturn\u001b[0m \u001b[0mhistory\u001b[0m\u001b[0;34m\u001b[0m\u001b[0;34m\u001b[0m\u001b[0m\n\u001b[1;32m    126\u001b[0m \u001b[0;34m\u001b[0m\u001b[0m\n",
            "\u001b[0;32m/usr/local/lib/python3.7/dist-packages/keras/utils/traceback_utils.py\u001b[0m in \u001b[0;36merror_handler\u001b[0;34m(*args, **kwargs)\u001b[0m\n\u001b[1;32m     62\u001b[0m     \u001b[0mfiltered_tb\u001b[0m \u001b[0;34m=\u001b[0m \u001b[0;32mNone\u001b[0m\u001b[0;34m\u001b[0m\u001b[0;34m\u001b[0m\u001b[0m\n\u001b[1;32m     63\u001b[0m     \u001b[0;32mtry\u001b[0m\u001b[0;34m:\u001b[0m\u001b[0;34m\u001b[0m\u001b[0;34m\u001b[0m\u001b[0m\n\u001b[0;32m---> 64\u001b[0;31m       \u001b[0;32mreturn\u001b[0m \u001b[0mfn\u001b[0m\u001b[0;34m(\u001b[0m\u001b[0;34m*\u001b[0m\u001b[0margs\u001b[0m\u001b[0;34m,\u001b[0m \u001b[0;34m**\u001b[0m\u001b[0mkwargs\u001b[0m\u001b[0;34m)\u001b[0m\u001b[0;34m\u001b[0m\u001b[0;34m\u001b[0m\u001b[0m\n\u001b[0m\u001b[1;32m     65\u001b[0m     \u001b[0;32mexcept\u001b[0m \u001b[0mException\u001b[0m \u001b[0;32mas\u001b[0m \u001b[0me\u001b[0m\u001b[0;34m:\u001b[0m  \u001b[0;31m# pylint: disable=broad-except\u001b[0m\u001b[0;34m\u001b[0m\u001b[0;34m\u001b[0m\u001b[0m\n\u001b[1;32m     66\u001b[0m       \u001b[0mfiltered_tb\u001b[0m \u001b[0;34m=\u001b[0m \u001b[0m_process_traceback_frames\u001b[0m\u001b[0;34m(\u001b[0m\u001b[0me\u001b[0m\u001b[0;34m.\u001b[0m\u001b[0m__traceback__\u001b[0m\u001b[0;34m)\u001b[0m\u001b[0;34m\u001b[0m\u001b[0;34m\u001b[0m\u001b[0m\n",
            "\u001b[0;32m/usr/local/lib/python3.7/dist-packages/keras/engine/training.py\u001b[0m in \u001b[0;36mfit\u001b[0;34m(self, x, y, batch_size, epochs, verbose, callbacks, validation_split, validation_data, shuffle, class_weight, sample_weight, initial_epoch, steps_per_epoch, validation_steps, validation_batch_size, validation_freq, max_queue_size, workers, use_multiprocessing)\u001b[0m\n\u001b[1;32m   1382\u001b[0m                 _r=1):\n\u001b[1;32m   1383\u001b[0m               \u001b[0mcallbacks\u001b[0m\u001b[0;34m.\u001b[0m\u001b[0mon_train_batch_begin\u001b[0m\u001b[0;34m(\u001b[0m\u001b[0mstep\u001b[0m\u001b[0;34m)\u001b[0m\u001b[0;34m\u001b[0m\u001b[0;34m\u001b[0m\u001b[0m\n\u001b[0;32m-> 1384\u001b[0;31m               \u001b[0mtmp_logs\u001b[0m \u001b[0;34m=\u001b[0m \u001b[0mself\u001b[0m\u001b[0;34m.\u001b[0m\u001b[0mtrain_function\u001b[0m\u001b[0;34m(\u001b[0m\u001b[0miterator\u001b[0m\u001b[0;34m)\u001b[0m\u001b[0;34m\u001b[0m\u001b[0;34m\u001b[0m\u001b[0m\n\u001b[0m\u001b[1;32m   1385\u001b[0m               \u001b[0;32mif\u001b[0m \u001b[0mdata_handler\u001b[0m\u001b[0;34m.\u001b[0m\u001b[0mshould_sync\u001b[0m\u001b[0;34m:\u001b[0m\u001b[0;34m\u001b[0m\u001b[0;34m\u001b[0m\u001b[0m\n\u001b[1;32m   1386\u001b[0m                 \u001b[0mcontext\u001b[0m\u001b[0;34m.\u001b[0m\u001b[0masync_wait\u001b[0m\u001b[0;34m(\u001b[0m\u001b[0;34m)\u001b[0m\u001b[0;34m\u001b[0m\u001b[0;34m\u001b[0m\u001b[0m\n",
            "\u001b[0;32m/usr/local/lib/python3.7/dist-packages/tensorflow/python/util/traceback_utils.py\u001b[0m in \u001b[0;36merror_handler\u001b[0;34m(*args, **kwargs)\u001b[0m\n\u001b[1;32m    148\u001b[0m     \u001b[0mfiltered_tb\u001b[0m \u001b[0;34m=\u001b[0m \u001b[0;32mNone\u001b[0m\u001b[0;34m\u001b[0m\u001b[0;34m\u001b[0m\u001b[0m\n\u001b[1;32m    149\u001b[0m     \u001b[0;32mtry\u001b[0m\u001b[0;34m:\u001b[0m\u001b[0;34m\u001b[0m\u001b[0;34m\u001b[0m\u001b[0m\n\u001b[0;32m--> 150\u001b[0;31m       \u001b[0;32mreturn\u001b[0m \u001b[0mfn\u001b[0m\u001b[0;34m(\u001b[0m\u001b[0;34m*\u001b[0m\u001b[0margs\u001b[0m\u001b[0;34m,\u001b[0m \u001b[0;34m**\u001b[0m\u001b[0mkwargs\u001b[0m\u001b[0;34m)\u001b[0m\u001b[0;34m\u001b[0m\u001b[0;34m\u001b[0m\u001b[0m\n\u001b[0m\u001b[1;32m    151\u001b[0m     \u001b[0;32mexcept\u001b[0m \u001b[0mException\u001b[0m \u001b[0;32mas\u001b[0m \u001b[0me\u001b[0m\u001b[0;34m:\u001b[0m\u001b[0;34m\u001b[0m\u001b[0;34m\u001b[0m\u001b[0m\n\u001b[1;32m    152\u001b[0m       \u001b[0mfiltered_tb\u001b[0m \u001b[0;34m=\u001b[0m \u001b[0m_process_traceback_frames\u001b[0m\u001b[0;34m(\u001b[0m\u001b[0me\u001b[0m\u001b[0;34m.\u001b[0m\u001b[0m__traceback__\u001b[0m\u001b[0;34m)\u001b[0m\u001b[0;34m\u001b[0m\u001b[0;34m\u001b[0m\u001b[0m\n",
            "\u001b[0;32m/usr/local/lib/python3.7/dist-packages/tensorflow/python/eager/def_function.py\u001b[0m in \u001b[0;36m__call__\u001b[0;34m(self, *args, **kwds)\u001b[0m\n\u001b[1;32m    913\u001b[0m \u001b[0;34m\u001b[0m\u001b[0m\n\u001b[1;32m    914\u001b[0m       \u001b[0;32mwith\u001b[0m \u001b[0mOptionalXlaContext\u001b[0m\u001b[0;34m(\u001b[0m\u001b[0mself\u001b[0m\u001b[0;34m.\u001b[0m\u001b[0m_jit_compile\u001b[0m\u001b[0;34m)\u001b[0m\u001b[0;34m:\u001b[0m\u001b[0;34m\u001b[0m\u001b[0;34m\u001b[0m\u001b[0m\n\u001b[0;32m--> 915\u001b[0;31m         \u001b[0mresult\u001b[0m \u001b[0;34m=\u001b[0m \u001b[0mself\u001b[0m\u001b[0;34m.\u001b[0m\u001b[0m_call\u001b[0m\u001b[0;34m(\u001b[0m\u001b[0;34m*\u001b[0m\u001b[0margs\u001b[0m\u001b[0;34m,\u001b[0m \u001b[0;34m**\u001b[0m\u001b[0mkwds\u001b[0m\u001b[0;34m)\u001b[0m\u001b[0;34m\u001b[0m\u001b[0;34m\u001b[0m\u001b[0m\n\u001b[0m\u001b[1;32m    916\u001b[0m \u001b[0;34m\u001b[0m\u001b[0m\n\u001b[1;32m    917\u001b[0m       \u001b[0mnew_tracing_count\u001b[0m \u001b[0;34m=\u001b[0m \u001b[0mself\u001b[0m\u001b[0;34m.\u001b[0m\u001b[0mexperimental_get_tracing_count\u001b[0m\u001b[0;34m(\u001b[0m\u001b[0;34m)\u001b[0m\u001b[0;34m\u001b[0m\u001b[0;34m\u001b[0m\u001b[0m\n",
            "\u001b[0;32m/usr/local/lib/python3.7/dist-packages/tensorflow/python/eager/def_function.py\u001b[0m in \u001b[0;36m_call\u001b[0;34m(self, *args, **kwds)\u001b[0m\n\u001b[1;32m    945\u001b[0m       \u001b[0;31m# In this case we have created variables on the first call, so we run the\u001b[0m\u001b[0;34m\u001b[0m\u001b[0;34m\u001b[0m\u001b[0;34m\u001b[0m\u001b[0m\n\u001b[1;32m    946\u001b[0m       \u001b[0;31m# defunned version which is guaranteed to never create variables.\u001b[0m\u001b[0;34m\u001b[0m\u001b[0;34m\u001b[0m\u001b[0;34m\u001b[0m\u001b[0m\n\u001b[0;32m--> 947\u001b[0;31m       \u001b[0;32mreturn\u001b[0m \u001b[0mself\u001b[0m\u001b[0;34m.\u001b[0m\u001b[0m_stateless_fn\u001b[0m\u001b[0;34m(\u001b[0m\u001b[0;34m*\u001b[0m\u001b[0margs\u001b[0m\u001b[0;34m,\u001b[0m \u001b[0;34m**\u001b[0m\u001b[0mkwds\u001b[0m\u001b[0;34m)\u001b[0m  \u001b[0;31m# pylint: disable=not-callable\u001b[0m\u001b[0;34m\u001b[0m\u001b[0;34m\u001b[0m\u001b[0m\n\u001b[0m\u001b[1;32m    948\u001b[0m     \u001b[0;32melif\u001b[0m \u001b[0mself\u001b[0m\u001b[0;34m.\u001b[0m\u001b[0m_stateful_fn\u001b[0m \u001b[0;32mis\u001b[0m \u001b[0;32mnot\u001b[0m \u001b[0;32mNone\u001b[0m\u001b[0;34m:\u001b[0m\u001b[0;34m\u001b[0m\u001b[0;34m\u001b[0m\u001b[0m\n\u001b[1;32m    949\u001b[0m       \u001b[0;31m# Release the lock early so that multiple threads can perform the call\u001b[0m\u001b[0;34m\u001b[0m\u001b[0;34m\u001b[0m\u001b[0;34m\u001b[0m\u001b[0m\n",
            "\u001b[0;32m/usr/local/lib/python3.7/dist-packages/tensorflow/python/eager/function.py\u001b[0m in \u001b[0;36m__call__\u001b[0;34m(self, *args, **kwargs)\u001b[0m\n\u001b[1;32m   2955\u001b[0m        filtered_flat_args) = self._maybe_define_function(args, kwargs)\n\u001b[1;32m   2956\u001b[0m     return graph_function._call_flat(\n\u001b[0;32m-> 2957\u001b[0;31m         filtered_flat_args, captured_inputs=graph_function.captured_inputs)  # pylint: disable=protected-access\n\u001b[0m\u001b[1;32m   2958\u001b[0m \u001b[0;34m\u001b[0m\u001b[0m\n\u001b[1;32m   2959\u001b[0m   \u001b[0;34m@\u001b[0m\u001b[0mproperty\u001b[0m\u001b[0;34m\u001b[0m\u001b[0;34m\u001b[0m\u001b[0m\n",
            "\u001b[0;32m/usr/local/lib/python3.7/dist-packages/tensorflow/python/eager/function.py\u001b[0m in \u001b[0;36m_call_flat\u001b[0;34m(self, args, captured_inputs, cancellation_manager)\u001b[0m\n\u001b[1;32m   1852\u001b[0m       \u001b[0;31m# No tape is watching; skip to running the function.\u001b[0m\u001b[0;34m\u001b[0m\u001b[0;34m\u001b[0m\u001b[0;34m\u001b[0m\u001b[0m\n\u001b[1;32m   1853\u001b[0m       return self._build_call_outputs(self._inference_function.call(\n\u001b[0;32m-> 1854\u001b[0;31m           ctx, args, cancellation_manager=cancellation_manager))\n\u001b[0m\u001b[1;32m   1855\u001b[0m     forward_backward = self._select_forward_and_backward_functions(\n\u001b[1;32m   1856\u001b[0m         \u001b[0margs\u001b[0m\u001b[0;34m,\u001b[0m\u001b[0;34m\u001b[0m\u001b[0;34m\u001b[0m\u001b[0m\n",
            "\u001b[0;32m/usr/local/lib/python3.7/dist-packages/tensorflow/python/eager/function.py\u001b[0m in \u001b[0;36mcall\u001b[0;34m(self, ctx, args, cancellation_manager)\u001b[0m\n\u001b[1;32m    502\u001b[0m               \u001b[0minputs\u001b[0m\u001b[0;34m=\u001b[0m\u001b[0margs\u001b[0m\u001b[0;34m,\u001b[0m\u001b[0;34m\u001b[0m\u001b[0;34m\u001b[0m\u001b[0m\n\u001b[1;32m    503\u001b[0m               \u001b[0mattrs\u001b[0m\u001b[0;34m=\u001b[0m\u001b[0mattrs\u001b[0m\u001b[0;34m,\u001b[0m\u001b[0;34m\u001b[0m\u001b[0;34m\u001b[0m\u001b[0m\n\u001b[0;32m--> 504\u001b[0;31m               ctx=ctx)\n\u001b[0m\u001b[1;32m    505\u001b[0m         \u001b[0;32melse\u001b[0m\u001b[0;34m:\u001b[0m\u001b[0;34m\u001b[0m\u001b[0;34m\u001b[0m\u001b[0m\n\u001b[1;32m    506\u001b[0m           outputs = execute.execute_with_cancellation(\n",
            "\u001b[0;32m/usr/local/lib/python3.7/dist-packages/tensorflow/python/eager/execute.py\u001b[0m in \u001b[0;36mquick_execute\u001b[0;34m(op_name, num_outputs, inputs, attrs, ctx, name)\u001b[0m\n\u001b[1;32m     53\u001b[0m     \u001b[0mctx\u001b[0m\u001b[0;34m.\u001b[0m\u001b[0mensure_initialized\u001b[0m\u001b[0;34m(\u001b[0m\u001b[0;34m)\u001b[0m\u001b[0;34m\u001b[0m\u001b[0;34m\u001b[0m\u001b[0m\n\u001b[1;32m     54\u001b[0m     tensors = pywrap_tfe.TFE_Py_Execute(ctx._handle, device_name, op_name,\n\u001b[0;32m---> 55\u001b[0;31m                                         inputs, attrs, num_outputs)\n\u001b[0m\u001b[1;32m     56\u001b[0m   \u001b[0;32mexcept\u001b[0m \u001b[0mcore\u001b[0m\u001b[0;34m.\u001b[0m\u001b[0m_NotOkStatusException\u001b[0m \u001b[0;32mas\u001b[0m \u001b[0me\u001b[0m\u001b[0;34m:\u001b[0m\u001b[0;34m\u001b[0m\u001b[0;34m\u001b[0m\u001b[0m\n\u001b[1;32m     57\u001b[0m     \u001b[0;32mif\u001b[0m \u001b[0mname\u001b[0m \u001b[0;32mis\u001b[0m \u001b[0;32mnot\u001b[0m \u001b[0;32mNone\u001b[0m\u001b[0;34m:\u001b[0m\u001b[0;34m\u001b[0m\u001b[0;34m\u001b[0m\u001b[0m\n",
            "\u001b[0;31mKeyboardInterrupt\u001b[0m: "
          ]
        }
      ],
      "source": [
        "print(\"Total Params:\", rnn_cnn1_model.count_params())\n",
        "history_model9=rnn_cnn1.train_model(rnn_cnn1_model,augment_data=True)"
      ]
    },
    {
      "cell_type": "code",
      "execution_count": null,
      "metadata": {
        "id": "ya48t_eM76HH"
      },
      "outputs": [],
      "source": [
        "plot(history_model9)"
      ]
    },
    {
      "cell_type": "markdown",
      "metadata": {
        "collapsed": true,
        "id": "s4AyEEWq76HI"
      },
      "source": [
        "##### For CNN - LSTM model we get a best validation accuracy of 75%"
      ]
    },
    {
      "cell_type": "markdown",
      "metadata": {
        "id": "sG6RlaFz76HI"
      },
      "source": [
        "### As we see more cases of overfitting, lets augment the data with slight rotation as well and run the same set of models again"
      ]
    },
    {
      "cell_type": "markdown",
      "metadata": {
        "id": "ZLxh8axI76HI"
      },
      "source": [
        "# More Augmentation"
      ]
    },
    {
      "cell_type": "code",
      "execution_count": 65,
      "metadata": {
        "collapsed": true,
        "id": "Upv85wfJ76HI"
      },
      "outputs": [],
      "source": [
        "class ModelBuilderMoreAugmentation(metaclass= abc.ABCMeta):\n",
        "    \n",
        "    def initialize_path(self,project_folder):\n",
        "        self.train_doc = np.random.permutation(open(project_folder + '/' + 'train.csv').readlines())\n",
        "        self.val_doc = np.random.permutation(open(project_folder + '/' + 'val.csv').readlines())\n",
        "        self.train_path = project_folder + '/' + 'train'\n",
        "        self.val_path =  project_folder + '/' + 'val'\n",
        "        self.num_train_sequences = len(self.train_doc)\n",
        "        self.num_val_sequences = len(self.val_doc)\n",
        "        \n",
        "    def initialize_image_properties(self,image_height=100,image_width=100):\n",
        "        self.image_height=image_height\n",
        "        self.image_width=image_width\n",
        "        self.channels=3\n",
        "        self.num_classes=5\n",
        "        self.total_frames=30\n",
        "          \n",
        "    def initialize_hyperparams(self,frames_to_sample=30,batch_size=20,num_epochs=20):\n",
        "        self.frames_to_sample=frames_to_sample\n",
        "        self.batch_size=batch_size\n",
        "        self.num_epochs=num_epochs\n",
        "        \n",
        "        \n",
        "    def generator(self,source_path, folder_list, augment=False):\n",
        "        img_idx = np.round(np.linspace(0,self.total_frames-1,self.frames_to_sample)).astype(int)\n",
        "        batch_size=self.batch_size\n",
        "        while True:\n",
        "            t = np.random.permutation(folder_list)\n",
        "            num_batches = len(t)//batch_size\n",
        "        \n",
        "            for batch in range(num_batches): \n",
        "                batch_data, batch_labels= self.one_batch_data(source_path,t,batch,batch_size,img_idx,augment)\n",
        "                yield batch_data, batch_labels \n",
        "\n",
        "            remaining_seq=len(t)%batch_size\n",
        "        \n",
        "            if (remaining_seq != 0):\n",
        "                batch_data, batch_labels= self.one_batch_data(source_path,t,num_batches,batch_size,img_idx,augment,remaining_seq)\n",
        "                yield batch_data, batch_labels \n",
        "    \n",
        "    \n",
        "    def one_batch_data(self,source_path,t,batch,batch_size,img_idx,augment,remaining_seq=0):\n",
        "    \n",
        "        seq_len = remaining_seq if remaining_seq else batch_size\n",
        "    \n",
        "        batch_data = np.zeros((seq_len,len(img_idx),self.image_height,self.image_width,self.channels)) \n",
        "        batch_labels = np.zeros((seq_len,self.num_classes)) \n",
        "    \n",
        "        if (augment): batch_data_aug = np.zeros((seq_len,len(img_idx),self.image_height,self.image_width,self.channels))\n",
        "\n",
        "        \n",
        "        for folder in range(seq_len): \n",
        "            imgs = os.listdir(source_path+'/'+ t[folder + (batch*batch_size)].split(';')[0]) \n",
        "            for idx,item in enumerate(img_idx): \n",
        "                image = imread(source_path+'/'+ t[folder + (batch*batch_size)].strip().split(';')[0]+'/'+imgs[item]).astype(np.float32)\n",
        "                image_resized=imresize(image,(self.image_height,self.image_width,3))\n",
        "            \n",
        "\n",
        "                batch_data[folder,idx,:,:,0] = (image_resized[:,:,0])/255\n",
        "                batch_data[folder,idx,:,:,1] = (image_resized[:,:,1])/255\n",
        "                batch_data[folder,idx,:,:,2] = (image_resized[:,:,2])/255\n",
        "            \n",
        "                if (augment):\n",
        "                    shifted = cv2.warpAffine(image, \n",
        "                                             np.float32([[1, 0, np.random.randint(-30,30)],[0, 1, np.random.randint(-30,30)]]), \n",
        "                                            (image.shape[1], image.shape[0]))\n",
        "                    \n",
        "                    gray = cv2.cvtColor(shifted,cv2.COLOR_BGR2GRAY)\n",
        "\n",
        "                    x0, y0 = np.argwhere(gray > 0).min(axis=0)\n",
        "                    x1, y1 = np.argwhere(gray > 0).max(axis=0) \n",
        "                    \n",
        "                    cropped=shifted[x0:x1,y0:y1,:]\n",
        "                    \n",
        "                    image_resized=imresize(cropped,(self.image_height,self.image_width,3))\n",
        "                    \n",
        "                    M = cv2.getRotationMatrix2D((self.image_width//2,self.image_height//2),\n",
        "                                                np.random.randint(-10,10), 1.0)\n",
        "                    rotated = cv2.warpAffine(image_resized, M, (self.image_width, self.image_height))\n",
        "                    \n",
        "                    #shifted = cv2.warpAffine(image_resized, \n",
        "                    #                        np.float32([[1, 0, np.random.randint(-3,3)],[0, 1, np.random.randint(-3,3)]]), \n",
        "                    #                        (image_resized.shape[1], image_resized.shape[0]))\n",
        "            \n",
        "                    batch_data_aug[folder,idx,:,:,0] = (rotated[:,:,0])/255\n",
        "                    batch_data_aug[folder,idx,:,:,1] = (rotated[:,:,1])/255\n",
        "                    batch_data_aug[folder,idx,:,:,2] = (rotated[:,:,2])/255\n",
        "                \n",
        "            \n",
        "            batch_labels[folder, int(t[folder + (batch*batch_size)].strip().split(';')[2])] = 1\n",
        "            \n",
        "    \n",
        "        if (augment):\n",
        "            batch_data=np.concatenate([batch_data,batch_data_aug])\n",
        "            batch_labels=np.concatenate([batch_labels,batch_labels])\n",
        "\n",
        "        \n",
        "        return(batch_data,batch_labels)\n",
        "    \n",
        "    \n",
        "    def train_model(self, model, augment_data=False):\n",
        "        train_generator = self.generator(self.train_path, self.train_doc,augment=augment_data)\n",
        "        val_generator = self.generator(self.val_path, self.val_doc)\n",
        "\n",
        "        model_name = 'model_init' + '_' + str(datetime.datetime.now()).replace(' ','').replace(':','_') + '/'\n",
        "    \n",
        "        if not os.path.exists(model_name):\n",
        "            os.mkdir(model_name)\n",
        "        \n",
        "        filepath = model_name + 'model-{epoch:05d}-{loss:.5f}-{categorical_accuracy:.5f}-{val_loss:.5f}-{val_categorical_accuracy:.5f}.h5'\n",
        "\n",
        "        checkpoint = ModelCheckpoint(filepath, monitor='val_loss', verbose=1, save_best_only=False, save_weights_only=False, mode='auto', period=1)\n",
        "        LR = ReduceLROnPlateau(monitor='val_loss', factor=0.2, verbose=1, patience=4)\n",
        "        callbacks_list = [checkpoint, LR]\n",
        "\n",
        "        if (self.num_train_sequences%self.batch_size) == 0:\n",
        "            steps_per_epoch = int(self.num_train_sequences/self.batch_size)\n",
        "        else:\n",
        "            steps_per_epoch = (self.num_train_sequences//self.batch_size) + 1\n",
        "\n",
        "        if (self.num_val_sequences%self.batch_size) == 0:\n",
        "            validation_steps = int(self.num_val_sequences/self.batch_size)\n",
        "        else:\n",
        "            validation_steps = (self.num_val_sequences//self.batch_size) + 1\n",
        "    \n",
        "        history=model.fit_generator(train_generator, steps_per_epoch=steps_per_epoch, epochs=self.num_epochs, verbose=1, \n",
        "                            callbacks=callbacks_list, validation_data=val_generator, \n",
        "                            validation_steps=validation_steps, class_weight=None, workers=1, initial_epoch=0)\n",
        "        return history\n",
        "\n",
        "        \n",
        "    @abc.abstractmethod\n",
        "    def define_model(self):\n",
        "        pass"
      ]
    },
    {
      "cell_type": "code",
      "execution_count": null,
      "metadata": {
        "collapsed": true,
        "id": "5zsVIQC-76HI"
      },
      "outputs": [],
      "source": [
        "#class Test(ModelBuilderMoreAugmentation):\n",
        "#    def define_model(self):\n",
        "#        pass\n",
        "\n",
        "#test_generator=Test()\n",
        "#test_generator.initialize_path(project_folder)\n",
        "#test_generator.initialize_image_properties(image_height=160,image_width=160)\n",
        "#test_generator.initialize_hyperparams(frames_to_sample=30,batch_size=3,num_epochs=1)\n",
        "\n",
        "#g=test_generator.generator(test_generator.val_path,test_generator.val_doc,augment=True)\n",
        "#batch_data, batch_labels=next(g)\n",
        "#fig, axes = plt.subplots(nrows=1, ncols=2)\n",
        "#axes[0].imshow(batch_data[0,29,:,:,:])   \n",
        "#axes[1].imshow(batch_data[3,29,:,:,:])   "
      ]
    },
    {
      "cell_type": "markdown",
      "metadata": {
        "id": "Z3zZLlKz76HI"
      },
      "source": [
        "# Model 10 - (3,3,3) Filter & 160x160 Image resolution - similar to Model 2"
      ]
    },
    {
      "cell_type": "code",
      "execution_count": 75,
      "metadata": {
        "collapsed": true,
        "id": "JdWhAwSU76HJ"
      },
      "outputs": [],
      "source": [
        "class ModelConv3D10(ModelBuilderMoreAugmentation):\n",
        "    \n",
        "    def define_model(self,filtersize=(3,3,3),dense_neurons=64,dropout=0.25):\n",
        "\n",
        "        model = Sequential()\n",
        "        model.add(Conv3D(16, filtersize, padding='same',\n",
        "                 input_shape=(self.frames_to_sample,self.image_height,self.image_width,self.channels)))\n",
        "        model.add(Activation('relu'))\n",
        "        model.add(BatchNormalization())\n",
        "        model.add(MaxPooling3D(pool_size=(2, 2, 2)))\n",
        "\n",
        "        model.add(Conv3D(32, filtersize, padding='same'))\n",
        "        model.add(Activation('relu'))\n",
        "        model.add(BatchNormalization())\n",
        "        model.add(MaxPooling3D(pool_size=(2, 2, 2)))\n",
        "\n",
        "        model.add(Conv3D(64, filtersize, padding='same'))\n",
        "        model.add(Activation('relu'))\n",
        "        model.add(BatchNormalization())\n",
        "        model.add(MaxPooling3D(pool_size=(2, 2, 2)))\n",
        "\n",
        "        model.add(Conv3D(128, filtersize, padding='same'))\n",
        "        model.add(Activation('relu'))\n",
        "        model.add(BatchNormalization())\n",
        "        model.add(MaxPooling3D(pool_size=(2, 2, 2)))\n",
        "\n",
        "        model.add(Flatten())\n",
        "        model.add(Dense(dense_neurons,activation='relu'))\n",
        "        model.add(BatchNormalization())\n",
        "        model.add(Dropout(dropout))\n",
        "\n",
        "        model.add(Dense(dense_neurons,activation='relu'))\n",
        "        model.add(BatchNormalization())\n",
        "        model.add(Dropout(dropout))\n",
        "\n",
        "\n",
        "        model.add(Dense(self.num_classes,activation='softmax'))\n",
        "\n",
        "        optimiser = optimizers.Adam(lr=0.0002)\n",
        "        model.compile(optimizer=optimiser, loss='categorical_crossentropy', metrics=['categorical_accuracy'])\n",
        "        return model"
      ]
    },
    {
      "cell_type": "code",
      "execution_count": null,
      "metadata": {
        "id": "wdrPS_oV76HJ"
      },
      "outputs": [],
      "source": [
        "conv_3d10=ModelConv3D10()\n",
        "conv_3d10.initialize_path(project_folder)\n",
        "conv_3d10.initialize_image_properties(image_height=160,image_width=160)\n",
        "conv_3d10.initialize_hyperparams(frames_to_sample=20,batch_size=20,num_epochs=30)\n",
        "conv_3d10_model=conv_3d10.define_model(dense_neurons=256,dropout=0.5)\n",
        "conv_3d10_model.summary()"
      ]
    },
    {
      "cell_type": "code",
      "execution_count": null,
      "metadata": {
        "id": "ObdADKxP76HJ"
      },
      "outputs": [],
      "source": [
        "print(\"Total Params:\", conv_3d10_model.count_params())\n",
        "history_model10=conv_3d10.train_model(conv_3d10_model,augment_data=True)"
      ]
    },
    {
      "cell_type": "code",
      "execution_count": null,
      "metadata": {
        "id": "e0vU7x-U76HJ"
      },
      "outputs": [],
      "source": [
        "plot(history_model10)"
      ]
    },
    {
      "cell_type": "markdown",
      "metadata": {
        "id": "gDOV6ih876HJ"
      },
      "source": [
        "# Model 11 - (2,2,2) Filter  & 120x120 Image resolution - similar to Model 3"
      ]
    },
    {
      "cell_type": "code",
      "execution_count": null,
      "metadata": {
        "collapsed": true,
        "id": "UhN-DYc876HJ"
      },
      "outputs": [],
      "source": [
        "class ModelConv3D11(ModelBuilderMoreAugmentation):\n",
        "    \n",
        "    def define_model(self,filtersize=(3,3,3),dense_neurons=64,dropout=0.25):\n",
        "\n",
        "        model = Sequential()\n",
        "        model.add(Conv3D(16, filtersize, padding='same',\n",
        "                 input_shape=(self.frames_to_sample,self.image_height,self.image_width,self.channels)))\n",
        "        model.add(Activation('relu'))\n",
        "        model.add(BatchNormalization())\n",
        "        model.add(MaxPooling3D(pool_size=(2, 2, 2)))\n",
        "\n",
        "        model.add(Conv3D(32, filtersize, padding='same'))\n",
        "        model.add(Activation('relu'))\n",
        "        model.add(BatchNormalization())\n",
        "        model.add(MaxPooling3D(pool_size=(2, 2, 2)))\n",
        "\n",
        "        model.add(Conv3D(64, filtersize, padding='same'))\n",
        "        model.add(Activation('relu'))\n",
        "        model.add(BatchNormalization())\n",
        "        model.add(MaxPooling3D(pool_size=(2, 2, 2)))\n",
        "\n",
        "        model.add(Conv3D(128, filtersize, padding='same'))\n",
        "        model.add(Activation('relu'))\n",
        "        model.add(BatchNormalization())\n",
        "        model.add(MaxPooling3D(pool_size=(2, 2, 2)))\n",
        "\n",
        "        model.add(Flatten())\n",
        "        model.add(Dense(dense_neurons,activation='relu'))\n",
        "        model.add(BatchNormalization())\n",
        "        model.add(Dropout(dropout))\n",
        "\n",
        "        model.add(Dense(dense_neurons,activation='relu'))\n",
        "        model.add(BatchNormalization())\n",
        "        model.add(Dropout(dropout))\n",
        "\n",
        "\n",
        "        model.add(Dense(self.num_classes,activation='softmax'))\n",
        "\n",
        "        optimiser = optimizers.Adam(lr=0.0002)\n",
        "        model.compile(optimizer=optimiser, loss='categorical_crossentropy', metrics=['categorical_accuracy'])\n",
        "        return model"
      ]
    },
    {
      "cell_type": "code",
      "execution_count": null,
      "metadata": {
        "id": "pRMQ_cEw76HK"
      },
      "outputs": [],
      "source": [
        "conv_3d11=ModelConv3D11()\n",
        "conv_3d11.initialize_path(project_folder)\n",
        "conv_3d11.initialize_image_properties(image_height=120,image_width=120)\n",
        "conv_3d11.initialize_hyperparams(frames_to_sample=16,batch_size=30,num_epochs=30)\n",
        "conv_3d11_model=conv_3d11.define_model(filtersize=(2,2,2),dense_neurons=256,dropout=0.5)\n",
        "conv_3d11_model.summary()"
      ]
    },
    {
      "cell_type": "code",
      "execution_count": null,
      "metadata": {
        "id": "CIf9COiK76HK"
      },
      "outputs": [],
      "source": [
        "print(\"Total Params:\", conv_3d11_model.count_params())\n",
        "history_model11=conv_3d11.train_model(conv_3d11_model,augment_data=True)"
      ]
    },
    {
      "cell_type": "code",
      "execution_count": null,
      "metadata": {
        "id": "b3-bbzyH76HK"
      },
      "outputs": [],
      "source": [
        "plot(history_model11)"
      ]
    },
    {
      "cell_type": "markdown",
      "metadata": {
        "id": "Sx5BXu8w76HK"
      },
      "source": [
        "# Model 12 - Adding more layers - Similar to model 4"
      ]
    },
    {
      "cell_type": "code",
      "execution_count": null,
      "metadata": {
        "collapsed": true,
        "id": "i_OUlEYg76HK"
      },
      "outputs": [],
      "source": [
        "class ModelConv3D12(ModelBuilderMoreAugmentation):\n",
        "    \n",
        "    def define_model(self,filtersize=(3,3,3),dense_neurons=64,dropout=0.25):\n",
        "\n",
        "        model = Sequential()\n",
        "        model.add(Conv3D(16, filtersize, padding='same',\n",
        "                 input_shape=(self.frames_to_sample,self.image_height,self.image_width,self.channels)))\n",
        "        model.add(Activation('relu'))\n",
        "        model.add(BatchNormalization())\n",
        "        \n",
        "        model.add(Conv3D(16, filtersize, padding='same',\n",
        "                 input_shape=(self.frames_to_sample,self.image_height,self.image_width,self.channels)))\n",
        "        model.add(Activation('relu'))\n",
        "        model.add(BatchNormalization())\n",
        "        \n",
        "        model.add(MaxPooling3D(pool_size=(2, 2, 2)))\n",
        "\n",
        "        model.add(Conv3D(32, filtersize, padding='same'))\n",
        "        model.add(Activation('relu'))\n",
        "        model.add(BatchNormalization())\n",
        "        \n",
        "        model.add(Conv3D(32, filtersize, padding='same'))\n",
        "        model.add(Activation('relu'))\n",
        "        model.add(BatchNormalization())\n",
        "        \n",
        "        model.add(MaxPooling3D(pool_size=(2, 2, 2)))\n",
        "\n",
        "        model.add(Conv3D(64, filtersize, padding='same'))\n",
        "        model.add(Activation('relu'))\n",
        "        model.add(BatchNormalization())\n",
        "        \n",
        "        model.add(Conv3D(64, filtersize, padding='same'))\n",
        "        model.add(Activation('relu'))\n",
        "        model.add(BatchNormalization())\n",
        "        \n",
        "        model.add(MaxPooling3D(pool_size=(2, 2, 2)))\n",
        "\n",
        "        model.add(Conv3D(128, filtersize, padding='same'))\n",
        "        model.add(Activation('relu'))\n",
        "        model.add(BatchNormalization())\n",
        "        \n",
        "        model.add(Conv3D(128, filtersize, padding='same'))\n",
        "        model.add(Activation('relu'))\n",
        "        model.add(BatchNormalization())\n",
        "        \n",
        "        model.add(MaxPooling3D(pool_size=(2, 2, 2)))\n",
        "        \n",
        "\n",
        "        model.add(Flatten())\n",
        "        model.add(Dense(dense_neurons,activation='relu'))\n",
        "        model.add(BatchNormalization())\n",
        "        model.add(Dropout(dropout))\n",
        "\n",
        "        model.add(Dense(dense_neurons,activation='relu'))\n",
        "        model.add(BatchNormalization())\n",
        "        model.add(Dropout(dropout))\n",
        "\n",
        "\n",
        "        model.add(Dense(self.num_classes,activation='softmax'))\n",
        "\n",
        "        optimiser = optimizers.Adam(lr=0.0002)\n",
        "        model.compile(optimizer=optimiser, loss='categorical_crossentropy', metrics=['categorical_accuracy'])\n",
        "        return model"
      ]
    },
    {
      "cell_type": "code",
      "execution_count": null,
      "metadata": {
        "id": "p6yAqwOl76HK"
      },
      "outputs": [],
      "source": [
        "conv_3d12=ModelConv3D12()\n",
        "conv_3d12.initialize_path(project_folder)\n",
        "conv_3d12.initialize_image_properties(image_height=120,image_width=120)\n",
        "conv_3d12.initialize_hyperparams(frames_to_sample=16,batch_size=20,num_epochs=30)\n",
        "conv_3d12_model=conv_3d12.define_model(filtersize=(3,3,3),dense_neurons=256,dropout=0.5)\n",
        "conv_3d12_model.summary()"
      ]
    },
    {
      "cell_type": "code",
      "execution_count": null,
      "metadata": {
        "id": "_VXHLVQ076HL"
      },
      "outputs": [],
      "source": [
        "print(\"Total Params:\", conv_3d12_model.count_params())\n",
        "history_model12=conv_3d12.train_model(conv_3d12_model,augment_data=True)"
      ]
    },
    {
      "cell_type": "code",
      "execution_count": null,
      "metadata": {
        "id": "F6VJCBdD76HL"
      },
      "outputs": [],
      "source": [
        "plot(history_model12)"
      ]
    },
    {
      "cell_type": "markdown",
      "metadata": {
        "id": "WlJZU7xC76HL"
      },
      "source": [
        "# Model 13 - Adding dropouts - Similar to Model 5"
      ]
    },
    {
      "cell_type": "code",
      "execution_count": null,
      "metadata": {
        "collapsed": true,
        "id": "3eK-AanM76HL"
      },
      "outputs": [],
      "source": [
        "class ModelConv3D13(ModelBuilderMoreAugmentation):\n",
        "    \n",
        "    def define_model(self,filtersize=(3,3,3),dense_neurons=64,dropout=0.25):\n",
        "\n",
        "        model = Sequential()\n",
        "        model.add(Conv3D(16, filtersize, padding='same',\n",
        "                 input_shape=(self.frames_to_sample,self.image_height,self.image_width,self.channels)))\n",
        "        model.add(Activation('relu'))\n",
        "        model.add(BatchNormalization())\n",
        "        \n",
        "        model.add(Conv3D(16, filtersize, padding='same',\n",
        "                 input_shape=(self.frames_to_sample,self.image_height,self.image_width,self.channels)))\n",
        "        model.add(Activation('relu'))\n",
        "        model.add(BatchNormalization())\n",
        "        \n",
        "        model.add(MaxPooling3D(pool_size=(2, 2, 2)))\n",
        "        model.add(Dropout(dropout))\n",
        "\n",
        "        model.add(Conv3D(32, filtersize, padding='same'))\n",
        "        model.add(Activation('relu'))\n",
        "        model.add(BatchNormalization())\n",
        "        \n",
        "        model.add(Conv3D(32, filtersize, padding='same'))\n",
        "        model.add(Activation('relu'))\n",
        "        model.add(BatchNormalization())\n",
        "        \n",
        "        model.add(MaxPooling3D(pool_size=(2, 2, 2)))\n",
        "        model.add(Dropout(dropout))\n",
        "\n",
        "        model.add(Conv3D(64, filtersize, padding='same'))\n",
        "        model.add(Activation('relu'))\n",
        "        model.add(BatchNormalization())\n",
        "        \n",
        "        model.add(Conv3D(64, filtersize, padding='same'))\n",
        "        model.add(Activation('relu'))\n",
        "        model.add(BatchNormalization())\n",
        "        \n",
        "        model.add(MaxPooling3D(pool_size=(2, 2, 2)))\n",
        "        model.add(Dropout(dropout))\n",
        "\n",
        "        model.add(Conv3D(128, filtersize, padding='same'))\n",
        "        model.add(Activation('relu'))\n",
        "        model.add(BatchNormalization())\n",
        "        \n",
        "        model.add(Conv3D(128, filtersize, padding='same'))\n",
        "        model.add(Activation('relu'))\n",
        "        model.add(BatchNormalization())\n",
        "        \n",
        "        model.add(MaxPooling3D(pool_size=(2, 2, 2)))\n",
        "        model.add(Dropout(dropout))\n",
        "        \n",
        "        model.add(Flatten())\n",
        "        model.add(Dense(dense_neurons,activation='relu'))\n",
        "        model.add(BatchNormalization())\n",
        "        model.add(Dropout(dropout))\n",
        "\n",
        "        model.add(Dense(dense_neurons,activation='relu'))\n",
        "        model.add(BatchNormalization())\n",
        "        model.add(Dropout(dropout))\n",
        "\n",
        "\n",
        "        model.add(Dense(self.num_classes,activation='softmax'))\n",
        "\n",
        "        optimiser = optimizers.Adam(lr=0.0002)\n",
        "        model.compile(optimizer=optimiser, loss='categorical_crossentropy', metrics=['categorical_accuracy'])\n",
        "        return model"
      ]
    },
    {
      "cell_type": "code",
      "execution_count": null,
      "metadata": {
        "id": "284dEHSf76HL"
      },
      "outputs": [],
      "source": [
        "conv_3d13=ModelConv3D13()\n",
        "conv_3d13.initialize_path(project_folder)\n",
        "conv_3d13.initialize_image_properties(image_height=120,image_width=120)\n",
        "conv_3d13.initialize_hyperparams(frames_to_sample=16,batch_size=20,num_epochs=25)\n",
        "conv_3d13_model=conv_3d13.define_model(filtersize=(3,3,3),dense_neurons=256,dropout=0.25)\n",
        "conv_3d13_model.summary()"
      ]
    },
    {
      "cell_type": "code",
      "execution_count": null,
      "metadata": {
        "id": "Fxeg6cO276HL"
      },
      "outputs": [],
      "source": [
        "print(\"Total Params:\", conv_3d13_model.count_params())\n",
        "history_model13=conv_3d13.train_model(conv_3d13_model,augment_data=True)"
      ]
    },
    {
      "cell_type": "code",
      "execution_count": null,
      "metadata": {
        "id": "OJ_TCMy776HL"
      },
      "outputs": [],
      "source": [
        "plot(history_model13)"
      ]
    },
    {
      "cell_type": "markdown",
      "metadata": {
        "id": "1b0KeDwL76HM"
      },
      "source": [
        "# Model 14 - reducing network parameters - Similar to Model 6"
      ]
    },
    {
      "cell_type": "code",
      "execution_count": null,
      "metadata": {
        "collapsed": true,
        "id": "DVAPU0DZ76HM"
      },
      "outputs": [],
      "source": [
        "class ModelConv3D14(ModelBuilderMoreAugmentation):\n",
        "    \n",
        "    def define_model(self,dense_neurons=64,dropout=0.25):\n",
        "\n",
        "        model = Sequential()\n",
        "        model.add(Conv3D(16, (3, 3, 3), padding='same',\n",
        "                 input_shape=(self.frames_to_sample,self.image_height,self.image_width,self.channels)))\n",
        "        model.add(Activation('relu'))\n",
        "        model.add(BatchNormalization())\n",
        "        model.add(MaxPooling3D(pool_size=(2, 2, 2)))\n",
        "\n",
        "        model.add(Conv3D(32, (2, 2, 2), padding='same'))\n",
        "        model.add(Activation('relu'))\n",
        "        model.add(BatchNormalization())\n",
        "        model.add(MaxPooling3D(pool_size=(2, 2, 2)))\n",
        "\n",
        "        model.add(Conv3D(64, (2, 2, 2), padding='same'))\n",
        "        model.add(Activation('relu'))\n",
        "        model.add(BatchNormalization())\n",
        "        model.add(MaxPooling3D(pool_size=(2, 2, 2)))\n",
        "\n",
        "        model.add(Conv3D(128, (2, 2, 2), padding='same'))\n",
        "        model.add(Activation('relu'))\n",
        "        model.add(BatchNormalization())\n",
        "        model.add(MaxPooling3D(pool_size=(2, 2, 2)))\n",
        "        \n",
        "        model.add(Flatten())\n",
        "        model.add(Dense(dense_neurons,activation='relu'))\n",
        "        model.add(BatchNormalization())\n",
        "        model.add(Dropout(dropout))\n",
        "\n",
        "        model.add(Dense(dense_neurons,activation='relu'))\n",
        "        model.add(BatchNormalization())\n",
        "        model.add(Dropout(dropout))\n",
        "\n",
        "        model.add(Dense(self.num_classes,activation='softmax'))\n",
        "\n",
        "        optimiser = optimizers.Adam(lr=0.0002)\n",
        "        model.compile(optimizer=optimiser, loss='categorical_crossentropy', metrics=['categorical_accuracy'])\n",
        "        return model"
      ]
    },
    {
      "cell_type": "code",
      "execution_count": null,
      "metadata": {
        "id": "uaKFb2Ym76HM"
      },
      "outputs": [],
      "source": [
        "conv_3d14=ModelConv3D14()\n",
        "conv_3d14.initialize_path(project_folder)\n",
        "conv_3d14.initialize_image_properties(image_height=100,image_width=100)\n",
        "conv_3d14.initialize_hyperparams(frames_to_sample=16,batch_size=20,num_epochs=30)\n",
        "conv_3d14_model=conv_3d14.define_model(dense_neurons=128,dropout=0.25)\n",
        "conv_3d14_model.summary()"
      ]
    },
    {
      "cell_type": "code",
      "execution_count": null,
      "metadata": {
        "id": "3jNZjJp-76HM"
      },
      "outputs": [],
      "source": [
        "print(\"Total Params:\", conv_3d14_model.count_params())\n",
        "history_model14=conv_3d14.train_model(conv_3d14_model,augment_data=True)"
      ]
    },
    {
      "cell_type": "code",
      "execution_count": null,
      "metadata": {
        "id": "C6wccFoE76HM"
      },
      "outputs": [],
      "source": [
        "plot(history_model14)"
      ]
    },
    {
      "cell_type": "markdown",
      "metadata": {
        "id": "u8zOusaj76HN"
      },
      "source": [
        "# Model 15 - reducing network parameters - Similar to model 7"
      ]
    },
    {
      "cell_type": "code",
      "execution_count": null,
      "metadata": {
        "collapsed": true,
        "id": "EIwV0K0U76HN"
      },
      "outputs": [],
      "source": [
        "class ModelConv3D15(ModelBuilderMoreAugmentation):\n",
        "    \n",
        "    def define_model(self,dense_neurons=64,dropout=0.25):\n",
        "\n",
        "        model = Sequential()\n",
        "        model.add(Conv3D(16, (3, 3, 3), padding='same',\n",
        "                 input_shape=(self.frames_to_sample,self.image_height,self.image_width,self.channels)))\n",
        "        model.add(Activation('relu'))\n",
        "        model.add(BatchNormalization())\n",
        "        model.add(MaxPooling3D(pool_size=(2, 2, 2)))\n",
        "\n",
        "        model.add(Conv3D(32, (3, 3, 3), padding='same'))\n",
        "        model.add(Activation('relu'))\n",
        "        model.add(BatchNormalization())\n",
        "        model.add(MaxPooling3D(pool_size=(2, 2, 2)))\n",
        "\n",
        "        model.add(Conv3D(64, (2, 2, 2), padding='same'))\n",
        "        model.add(Activation('relu'))\n",
        "        model.add(BatchNormalization())\n",
        "        model.add(MaxPooling3D(pool_size=(2, 2, 2)))\n",
        "\n",
        "        model.add(Conv3D(128, (2, 2, 2), padding='same'))\n",
        "        model.add(Activation('relu'))\n",
        "        model.add(BatchNormalization())\n",
        "        model.add(MaxPooling3D(pool_size=(2, 2, 2)))\n",
        "        \n",
        "        model.add(Flatten())\n",
        "        model.add(Dense(dense_neurons,activation='relu'))\n",
        "        model.add(BatchNormalization())\n",
        "        model.add(Dropout(dropout))\n",
        "\n",
        "        model.add(Dense(dense_neurons,activation='relu'))\n",
        "        model.add(BatchNormalization())\n",
        "        model.add(Dropout(dropout))\n",
        "\n",
        "        model.add(Dense(self.num_classes,activation='softmax'))\n",
        "\n",
        "        optimiser = optimizers.Adam(lr=0.0002)\n",
        "        model.compile(optimizer=optimiser, loss='categorical_crossentropy', metrics=['categorical_accuracy'])\n",
        "        return model"
      ]
    },
    {
      "cell_type": "code",
      "execution_count": null,
      "metadata": {
        "id": "TGXipi1n76HN"
      },
      "outputs": [],
      "source": [
        "conv_3d15=ModelConv3D15()\n",
        "conv_3d15.initialize_path(project_folder)\n",
        "conv_3d15.initialize_image_properties(image_height=120,image_width=120)\n",
        "conv_3d15.initialize_hyperparams(frames_to_sample=16,batch_size=20,num_epochs=25)\n",
        "conv_3d15_model=conv_3d15.define_model(dense_neurons=64,dropout=0.25)\n",
        "conv_3d15_model.summary()"
      ]
    },
    {
      "cell_type": "code",
      "execution_count": null,
      "metadata": {
        "id": "Y0GxWXPu76HN"
      },
      "outputs": [],
      "source": [
        "print(\"Total Params:\", conv_3d15_model.count_params())\n",
        "history_model15=conv_3d15.train_model(conv_3d15_model,augment_data=True)"
      ]
    },
    {
      "cell_type": "code",
      "execution_count": null,
      "metadata": {
        "id": "KJ__QGEi76HN"
      },
      "outputs": [],
      "source": [
        "plot(history_model15)"
      ]
    },
    {
      "cell_type": "markdown",
      "metadata": {
        "id": "Tb7BzD9E76HN"
      },
      "source": [
        "# Model 16 - reducing network parameters - Similar to Model 8"
      ]
    },
    {
      "cell_type": "code",
      "execution_count": null,
      "metadata": {
        "collapsed": true,
        "id": "JEp2R16-76HO"
      },
      "outputs": [],
      "source": [
        "class ModelConv3D16(ModelBuilderMoreAugmentation):\n",
        "    \n",
        "    def define_model(self,dense_neurons=64,dropout=0.25):\n",
        "\n",
        "        model = Sequential()\n",
        "        model.add(Conv3D(8, (3, 3, 3), padding='same',\n",
        "                 input_shape=(self.frames_to_sample,self.image_height,self.image_width,self.channels)))\n",
        "        model.add(Activation('relu'))\n",
        "        model.add(BatchNormalization())\n",
        "        model.add(MaxPooling3D(pool_size=(2, 2, 2)))\n",
        "\n",
        "        model.add(Conv3D(16, (3, 3, 3), padding='same'))\n",
        "        model.add(Activation('relu'))\n",
        "        model.add(BatchNormalization())\n",
        "        model.add(MaxPooling3D(pool_size=(2, 2, 2)))\n",
        "\n",
        "        model.add(Conv3D(32, (2, 2, 2), padding='same'))\n",
        "        model.add(Activation('relu'))\n",
        "        model.add(BatchNormalization())\n",
        "        model.add(MaxPooling3D(pool_size=(2, 2, 2)))\n",
        "\n",
        "        model.add(Conv3D(64, (2, 2, 2), padding='same'))\n",
        "        model.add(Activation('relu'))\n",
        "        model.add(BatchNormalization())\n",
        "        model.add(MaxPooling3D(pool_size=(2, 2, 2)))\n",
        "        \n",
        "        model.add(Flatten())\n",
        "        model.add(Dense(dense_neurons,activation='relu'))\n",
        "        model.add(BatchNormalization())\n",
        "        model.add(Dropout(dropout))\n",
        "\n",
        "        model.add(Dense(dense_neurons,activation='relu'))\n",
        "        model.add(BatchNormalization())\n",
        "        model.add(Dropout(dropout))\n",
        "\n",
        "        model.add(Dense(self.num_classes,activation='softmax'))\n",
        "\n",
        "        optimiser = optimizers.Adam(lr=0.0002)\n",
        "        model.compile(optimizer=optimiser, loss='categorical_crossentropy', metrics=['categorical_accuracy'])\n",
        "        return model"
      ]
    },
    {
      "cell_type": "code",
      "execution_count": null,
      "metadata": {
        "id": "2i2wjNFS76HO"
      },
      "outputs": [],
      "source": [
        "conv_3d16=ModelConv3D16()\n",
        "conv_3d16.initialize_path(project_folder)\n",
        "conv_3d16.initialize_image_properties(image_height=120,image_width=120)\n",
        "conv_3d16.initialize_hyperparams(frames_to_sample=16,batch_size=20,num_epochs=30)\n",
        "conv_3d16_model=conv_3d16.define_model(dense_neurons=64,dropout=0.25)\n",
        "conv_3d16_model.summary()"
      ]
    },
    {
      "cell_type": "code",
      "execution_count": null,
      "metadata": {
        "id": "pW2y86ih76HO"
      },
      "outputs": [],
      "source": [
        "print(\"Total Params:\", conv_3d16_model.count_params())\n",
        "history_model16=conv_3d16.train_model(conv_3d16_model,augment_data=True)"
      ]
    },
    {
      "cell_type": "code",
      "execution_count": null,
      "metadata": {
        "id": "LnCEAU3N76HO"
      },
      "outputs": [],
      "source": [
        "plot(history_model16)"
      ]
    },
    {
      "cell_type": "markdown",
      "metadata": {
        "id": "5X-YEMh076HO"
      },
      "source": [
        "# Model 17 - CNN LSTM with GRU - Similar to Model 9"
      ]
    },
    {
      "cell_type": "code",
      "execution_count": null,
      "metadata": {
        "collapsed": true,
        "id": "F6x7jfWG76HO"
      },
      "outputs": [],
      "source": [
        "class RNNCNN2(ModelBuilderMoreAugmentation):\n",
        "    \n",
        "    def define_model(self,lstm_cells=64,dense_neurons=64,dropout=0.25):\n",
        "\n",
        "        model = Sequential()\n",
        "\n",
        "        model.add(TimeDistributed(Conv2D(16, (3, 3) , padding='same', activation='relu'),\n",
        "                                  input_shape=(self.frames_to_sample,self.image_height,self.image_width,self.channels)))\n",
        "        model.add(TimeDistributed(BatchNormalization()))\n",
        "        model.add(TimeDistributed(MaxPooling2D((2, 2))))\n",
        "        \n",
        "        model.add(TimeDistributed(Conv2D(32, (3, 3) , padding='same', activation='relu')))\n",
        "        model.add(TimeDistributed(BatchNormalization()))\n",
        "        model.add(TimeDistributed(MaxPooling2D((2, 2))))\n",
        "        \n",
        "        model.add(TimeDistributed(Conv2D(64, (3, 3) , padding='same', activation='relu')))\n",
        "        model.add(TimeDistributed(BatchNormalization()))\n",
        "        model.add(TimeDistributed(MaxPooling2D((2, 2))))\n",
        "        \n",
        "        model.add(TimeDistributed(Conv2D(128, (3, 3) , padding='same', activation='relu')))\n",
        "        model.add(TimeDistributed(BatchNormalization()))\n",
        "        model.add(TimeDistributed(MaxPooling2D((2, 2))))\n",
        "        \n",
        "\n",
        "        model.add(TimeDistributed(Flatten()))\n",
        "\n",
        "\n",
        "        model.add(GRU(lstm_cells))\n",
        "        model.add(Dropout(dropout))\n",
        "        \n",
        "        model.add(Dense(dense_neurons,activation='relu'))\n",
        "        model.add(Dropout(dropout))\n",
        "        \n",
        "        model.add(Dense(self.num_classes, activation='softmax'))\n",
        "        optimiser = optimizers.Adam(lr=0.0002)\n",
        "        model.compile(optimizer=optimiser, loss='categorical_crossentropy', metrics=['categorical_accuracy'])\n",
        "        return model"
      ]
    },
    {
      "cell_type": "code",
      "execution_count": null,
      "metadata": {
        "id": "YUmVYBrE76HP"
      },
      "outputs": [],
      "source": [
        "rnn_cnn2=RNNCNN2()\n",
        "rnn_cnn2.initialize_path(project_folder)\n",
        "rnn_cnn2.initialize_image_properties(image_height=120,image_width=120)\n",
        "rnn_cnn2.initialize_hyperparams(frames_to_sample=18,batch_size=20,num_epochs=20)\n",
        "rnn_cnn2_model=rnn_cnn2.define_model(lstm_cells=128,dense_neurons=128,dropout=0.25)\n",
        "rnn_cnn2_model.summary()"
      ]
    },
    {
      "cell_type": "code",
      "execution_count": null,
      "metadata": {
        "id": "xDUwHRQy76HP"
      },
      "outputs": [],
      "source": [
        "print(\"Total Params:\", rnn_cnn2_model.count_params())\n",
        "history_model17=rnn_cnn2.train_model(rnn_cnn2_model,augment_data=True)"
      ]
    },
    {
      "cell_type": "code",
      "execution_count": null,
      "metadata": {
        "id": "qRkRfYdE76HP"
      },
      "outputs": [],
      "source": [
        "plot(history_model17)"
      ]
    },
    {
      "cell_type": "markdown",
      "metadata": {
        "collapsed": true,
        "id": "OsNaujtI76HP"
      },
      "source": [
        "### We see that overfitting is considerably less when we do more augmentation. However there is not much improvement on accuracy"
      ]
    },
    {
      "cell_type": "markdown",
      "metadata": {
        "collapsed": true,
        "id": "U94pFVMp76HP"
      },
      "source": [
        "# Model 18 - Transfer Learning"
      ]
    },
    {
      "cell_type": "code",
      "execution_count": null,
      "metadata": {
        "collapsed": true,
        "id": "rCCiKRX676HP"
      },
      "outputs": [],
      "source": [
        "from keras.applications import mobilenet"
      ]
    },
    {
      "cell_type": "code",
      "execution_count": null,
      "metadata": {
        "id": "_tqvyrJs76HP"
      },
      "outputs": [],
      "source": [
        "mobilenet_transfer = mobilenet.MobileNet(weights='imagenet', include_top=False)\n",
        "\n",
        "class RNNCNN_TL(ModelBuilderMoreAugmentation):\n",
        "    \n",
        "    def define_model(self,lstm_cells=64,dense_neurons=64,dropout=0.25):\n",
        "        \n",
        "        model = Sequential()\n",
        "        model.add(TimeDistributed(mobilenet_transfer,input_shape=(self.frames_to_sample,self.image_height,self.image_width,self.channels)))\n",
        "        \n",
        "        \n",
        "        for layer in model.layers:\n",
        "            layer.trainable = False\n",
        "        \n",
        "        \n",
        "        model.add(TimeDistributed(BatchNormalization()))\n",
        "        model.add(TimeDistributed(MaxPooling2D((2, 2))))\n",
        "        model.add(TimeDistributed(Flatten()))\n",
        "\n",
        "        model.add(LSTM(lstm_cells))\n",
        "        model.add(Dropout(dropout))\n",
        "        \n",
        "        model.add(Dense(dense_neurons,activation='relu'))\n",
        "        model.add(Dropout(dropout))\n",
        "        \n",
        "        model.add(Dense(self.num_classes, activation='softmax'))\n",
        "        \n",
        "        \n",
        "        optimiser = optimizers.Adam()\n",
        "        model.compile(optimizer=optimiser, loss='categorical_crossentropy', metrics=['categorical_accuracy'])\n",
        "        return model"
      ]
    },
    {
      "cell_type": "code",
      "execution_count": null,
      "metadata": {
        "id": "rinZQME676HQ"
      },
      "outputs": [],
      "source": [
        "rnn_cnn_tl=RNNCNN_TL()\n",
        "rnn_cnn_tl.initialize_path(project_folder)\n",
        "rnn_cnn_tl.initialize_image_properties(image_height=120,image_width=120)\n",
        "rnn_cnn_tl.initialize_hyperparams(frames_to_sample=16,batch_size=5,num_epochs=20)\n",
        "rnn_cnn_tl_model=rnn_cnn_tl.define_model(lstm_cells=128,dense_neurons=128,dropout=0.25)\n",
        "rnn_cnn_tl_model.summary()"
      ]
    },
    {
      "cell_type": "code",
      "execution_count": null,
      "metadata": {
        "id": "5yUNOjJK76HQ"
      },
      "outputs": [],
      "source": [
        "print(\"Total Params:\", rnn_cnn_tl_model.count_params())\n",
        "history_model18=rnn_cnn_tl.train_model(rnn_cnn_tl_model,augment_data=True)"
      ]
    },
    {
      "cell_type": "code",
      "execution_count": null,
      "metadata": {
        "id": "YxclNiaN76HQ"
      },
      "outputs": [],
      "source": [
        "plot(history_model18)"
      ]
    },
    {
      "cell_type": "markdown",
      "metadata": {
        "collapsed": true,
        "id": "gvwZ7TCB76HQ"
      },
      "source": [
        "##### We are not training the mobilenet weights and we see validation accuracy is very poor. Let's train them as well and observe if there is performance improvement"
      ]
    },
    {
      "cell_type": "markdown",
      "metadata": {
        "id": "uwD111C376HQ"
      },
      "source": [
        "# Model 19 - Transfer Learning with GRU and training all weights"
      ]
    },
    {
      "cell_type": "code",
      "execution_count": 66,
      "metadata": {
        "colab": {
          "base_uri": "https://localhost:8080/"
        },
        "id": "8XVEs5qa76HQ",
        "outputId": "c83ade4c-7032-4758-a596-151ca15fd822"
      },
      "outputs": [
        {
          "output_type": "stream",
          "name": "stdout",
          "text": [
            "WARNING:tensorflow:`input_shape` is undefined or non-square, or `rows` is not in [128, 160, 192, 224]. Weights for input shape (224, 224) will be loaded as the default.\n"
          ]
        }
      ],
      "source": [
        "from keras.applications import mobilenet\n",
        "\n",
        "mobilenet_transfer = mobilenet.MobileNet(weights='imagenet', include_top=False)\n",
        "\n",
        "class RNNCNN_TL2(ModelBuilderMoreAugmentation):\n",
        "    \n",
        "    def define_model(self,gru_cells=64,dense_neurons=64,dropout=0.25):\n",
        "        \n",
        "        model = Sequential()\n",
        "        model.add(TimeDistributed(mobilenet_transfer,input_shape=(self.frames_to_sample,self.image_height,self.image_width,self.channels)))\n",
        " \n",
        "        \n",
        "        model.add(TimeDistributed(BatchNormalization()))\n",
        "        model.add(TimeDistributed(MaxPooling2D((2, 2))))\n",
        "        model.add(TimeDistributed(Flatten()))\n",
        "\n",
        "        model.add(GRU(gru_cells))\n",
        "        model.add(Dropout(dropout))\n",
        "        \n",
        "        model.add(Dense(dense_neurons,activation='relu'))\n",
        "        model.add(Dropout(dropout))\n",
        "        \n",
        "        model.add(Dense(self.num_classes, activation='softmax'))\n",
        "        \n",
        "        \n",
        "        optimiser = optimizers.Adam()\n",
        "        model.compile(optimizer=optimiser, loss='categorical_crossentropy', metrics=['categorical_accuracy'])\n",
        "        return model"
      ]
    },
    {
      "cell_type": "code",
      "execution_count": 67,
      "metadata": {
        "colab": {
          "base_uri": "https://localhost:8080/"
        },
        "id": "Q1h3fJbb76HQ",
        "outputId": "44a53f83-1104-4fb4-b8d4-6ee2dc8ea6c0"
      },
      "outputs": [
        {
          "output_type": "stream",
          "name": "stdout",
          "text": [
            "Model: \"sequential_23\"\n",
            "_________________________________________________________________\n",
            " Layer (type)                Output Shape              Param #   \n",
            "=================================================================\n",
            " time_distributed_16 (TimeDi  (None, 16, 3, 3, 1024)   3228864   \n",
            " stributed)                                                      \n",
            "                                                                 \n",
            " time_distributed_17 (TimeDi  (None, 16, 3, 3, 1024)   4096      \n",
            " stributed)                                                      \n",
            "                                                                 \n",
            " time_distributed_18 (TimeDi  (None, 16, 1, 1, 1024)   0         \n",
            " stributed)                                                      \n",
            "                                                                 \n",
            " time_distributed_19 (TimeDi  (None, 16, 1024)         0         \n",
            " stributed)                                                      \n",
            "                                                                 \n",
            " gru (GRU)                   (None, 128)               443136    \n",
            "                                                                 \n",
            " dropout_50 (Dropout)        (None, 128)               0         \n",
            "                                                                 \n",
            " dense_68 (Dense)            (None, 128)               16512     \n",
            "                                                                 \n",
            " dropout_51 (Dropout)        (None, 128)               0         \n",
            "                                                                 \n",
            " dense_69 (Dense)            (None, 5)                 645       \n",
            "                                                                 \n",
            "=================================================================\n",
            "Total params: 3,693,253\n",
            "Trainable params: 3,669,317\n",
            "Non-trainable params: 23,936\n",
            "_________________________________________________________________\n"
          ]
        }
      ],
      "source": [
        "rnn_cnn_tl2=RNNCNN_TL2()\n",
        "rnn_cnn_tl2.initialize_path(project_folder)\n",
        "rnn_cnn_tl2.initialize_image_properties(image_height=120,image_width=120)\n",
        "rnn_cnn_tl2.initialize_hyperparams(frames_to_sample=16,batch_size=5,num_epochs=20)\n",
        "rnn_cnn_tl2_model=rnn_cnn_tl2.define_model(gru_cells=128,dense_neurons=128,dropout=0.25)\n",
        "rnn_cnn_tl2_model.summary()"
      ]
    },
    {
      "cell_type": "code",
      "execution_count": 68,
      "metadata": {
        "colab": {
          "base_uri": "https://localhost:8080/"
        },
        "id": "_6p-06E376HR",
        "outputId": "d41b6a98-e3fc-4940-9b4d-4eb1dcafb149"
      },
      "outputs": [
        {
          "output_type": "stream",
          "name": "stdout",
          "text": [
            "Total Params: 3693253\n",
            "WARNING:tensorflow:`period` argument is deprecated. Please use `save_freq` to specify the frequency in number of batches seen.\n",
            "Epoch 1/20\n",
            "133/133 [==============================] - ETA: 0s - loss: 1.1609 - categorical_accuracy: 0.5264\n",
            "Epoch 1: saving model to model_init_2022-06-1301_16_51.964097/model-00001-1.16092-0.52640-0.55051-0.75000.h5\n",
            "133/133 [==============================] - 103s 745ms/step - loss: 1.1609 - categorical_accuracy: 0.5264 - val_loss: 0.5505 - val_categorical_accuracy: 0.7500 - lr: 0.0010\n",
            "Epoch 2/20\n",
            "133/133 [==============================] - ETA: 0s - loss: 0.6806 - categorical_accuracy: 0.7511\n",
            "Epoch 2: saving model to model_init_2022-06-1301_16_51.964097/model-00002-0.68058-0.75113-0.60160-0.75000.h5\n",
            "133/133 [==============================] - 92s 696ms/step - loss: 0.6806 - categorical_accuracy: 0.7511 - val_loss: 0.6016 - val_categorical_accuracy: 0.7500 - lr: 0.0010\n",
            "Epoch 3/20\n",
            "133/133 [==============================] - ETA: 0s - loss: 0.5169 - categorical_accuracy: 0.8039\n",
            "Epoch 3: saving model to model_init_2022-06-1301_16_51.964097/model-00003-0.51691-0.80392-0.43033-0.82000.h5\n",
            "133/133 [==============================] - 93s 700ms/step - loss: 0.5169 - categorical_accuracy: 0.8039 - val_loss: 0.4303 - val_categorical_accuracy: 0.8200 - lr: 0.0010\n",
            "Epoch 4/20\n",
            "133/133 [==============================] - ETA: 0s - loss: 0.4418 - categorical_accuracy: 0.8318\n",
            "Epoch 4: saving model to model_init_2022-06-1301_16_51.964097/model-00004-0.44185-0.83183-0.27580-0.90000.h5\n",
            "133/133 [==============================] - 93s 705ms/step - loss: 0.4418 - categorical_accuracy: 0.8318 - val_loss: 0.2758 - val_categorical_accuracy: 0.9000 - lr: 0.0010\n",
            "Epoch 5/20\n",
            "133/133 [==============================] - ETA: 0s - loss: 0.4298 - categorical_accuracy: 0.8409\n",
            "Epoch 5: saving model to model_init_2022-06-1301_16_51.964097/model-00005-0.42982-0.84087-0.50503-0.81000.h5\n",
            "133/133 [==============================] - 92s 695ms/step - loss: 0.4298 - categorical_accuracy: 0.8409 - val_loss: 0.5050 - val_categorical_accuracy: 0.8100 - lr: 0.0010\n",
            "Epoch 6/20\n",
            "133/133 [==============================] - ETA: 0s - loss: 0.3434 - categorical_accuracy: 0.8793\n",
            "Epoch 6: saving model to model_init_2022-06-1301_16_51.964097/model-00006-0.34338-0.87934-0.53865-0.79000.h5\n",
            "133/133 [==============================] - 92s 696ms/step - loss: 0.3434 - categorical_accuracy: 0.8793 - val_loss: 0.5386 - val_categorical_accuracy: 0.7900 - lr: 0.0010\n",
            "Epoch 7/20\n",
            "133/133 [==============================] - ETA: 0s - loss: 0.2764 - categorical_accuracy: 0.9020\n",
            "Epoch 7: saving model to model_init_2022-06-1301_16_51.964097/model-00007-0.27644-0.90196-0.40981-0.78000.h5\n",
            "133/133 [==============================] - 93s 701ms/step - loss: 0.2764 - categorical_accuracy: 0.9020 - val_loss: 0.4098 - val_categorical_accuracy: 0.7800 - lr: 0.0010\n",
            "Epoch 8/20\n",
            "133/133 [==============================] - ETA: 0s - loss: 0.2772 - categorical_accuracy: 0.9042\n",
            "Epoch 8: saving model to model_init_2022-06-1301_16_51.964097/model-00008-0.27721-0.90422-0.41974-0.84000.h5\n",
            "\n",
            "Epoch 8: ReduceLROnPlateau reducing learning rate to 0.00020000000949949026.\n",
            "133/133 [==============================] - 93s 699ms/step - loss: 0.2772 - categorical_accuracy: 0.9042 - val_loss: 0.4197 - val_categorical_accuracy: 0.8400 - lr: 0.0010\n",
            "Epoch 9/20\n",
            "133/133 [==============================] - ETA: 0s - loss: 0.1581 - categorical_accuracy: 0.9449\n",
            "Epoch 9: saving model to model_init_2022-06-1301_16_51.964097/model-00009-0.15813-0.94495-0.34635-0.89000.h5\n",
            "133/133 [==============================] - 92s 693ms/step - loss: 0.1581 - categorical_accuracy: 0.9449 - val_loss: 0.3463 - val_categorical_accuracy: 0.8900 - lr: 2.0000e-04\n",
            "Epoch 10/20\n",
            "133/133 [==============================] - ETA: 0s - loss: 0.0993 - categorical_accuracy: 0.9608\n",
            "Epoch 10: saving model to model_init_2022-06-1301_16_51.964097/model-00010-0.09927-0.96078-0.29298-0.89000.h5\n",
            "133/133 [==============================] - 93s 703ms/step - loss: 0.0993 - categorical_accuracy: 0.9608 - val_loss: 0.2930 - val_categorical_accuracy: 0.8900 - lr: 2.0000e-04\n",
            "Epoch 11/20\n",
            "133/133 [==============================] - ETA: 0s - loss: 0.0854 - categorical_accuracy: 0.9729\n",
            "Epoch 11: saving model to model_init_2022-06-1301_16_51.964097/model-00011-0.08542-0.97285-0.20010-0.96000.h5\n",
            "133/133 [==============================] - 92s 697ms/step - loss: 0.0854 - categorical_accuracy: 0.9729 - val_loss: 0.2001 - val_categorical_accuracy: 0.9600 - lr: 2.0000e-04\n",
            "Epoch 12/20\n",
            "133/133 [==============================] - ETA: 0s - loss: 0.0588 - categorical_accuracy: 0.9842\n",
            "Epoch 12: saving model to model_init_2022-06-1301_16_51.964097/model-00012-0.05881-0.98416-0.15105-0.95000.h5\n",
            "133/133 [==============================] - 92s 697ms/step - loss: 0.0588 - categorical_accuracy: 0.9842 - val_loss: 0.1511 - val_categorical_accuracy: 0.9500 - lr: 2.0000e-04\n",
            "Epoch 13/20\n",
            "133/133 [==============================] - ETA: 0s - loss: 0.0527 - categorical_accuracy: 0.9827\n",
            "Epoch 13: saving model to model_init_2022-06-1301_16_51.964097/model-00013-0.05268-0.98265-0.15436-0.94000.h5\n",
            "133/133 [==============================] - 93s 703ms/step - loss: 0.0527 - categorical_accuracy: 0.9827 - val_loss: 0.1544 - val_categorical_accuracy: 0.9400 - lr: 2.0000e-04\n",
            "Epoch 14/20\n",
            "133/133 [==============================] - ETA: 0s - loss: 0.0325 - categorical_accuracy: 0.9879\n",
            "Epoch 14: saving model to model_init_2022-06-1301_16_51.964097/model-00014-0.03255-0.98793-0.18657-0.94000.h5\n",
            "133/133 [==============================] - 93s 704ms/step - loss: 0.0325 - categorical_accuracy: 0.9879 - val_loss: 0.1866 - val_categorical_accuracy: 0.9400 - lr: 2.0000e-04\n",
            "Epoch 15/20\n",
            "133/133 [==============================] - ETA: 0s - loss: 0.0377 - categorical_accuracy: 0.9879\n",
            "Epoch 15: saving model to model_init_2022-06-1301_16_51.964097/model-00015-0.03772-0.98793-0.11265-0.95000.h5\n",
            "133/133 [==============================] - 94s 711ms/step - loss: 0.0377 - categorical_accuracy: 0.9879 - val_loss: 0.1127 - val_categorical_accuracy: 0.9500 - lr: 2.0000e-04\n",
            "Epoch 16/20\n",
            "133/133 [==============================] - ETA: 0s - loss: 0.0230 - categorical_accuracy: 0.9932\n",
            "Epoch 16: saving model to model_init_2022-06-1301_16_51.964097/model-00016-0.02300-0.99321-0.35325-0.88000.h5\n",
            "133/133 [==============================] - 92s 696ms/step - loss: 0.0230 - categorical_accuracy: 0.9932 - val_loss: 0.3533 - val_categorical_accuracy: 0.8800 - lr: 2.0000e-04\n",
            "Epoch 17/20\n",
            "133/133 [==============================] - ETA: 0s - loss: 0.0189 - categorical_accuracy: 0.9947\n",
            "Epoch 17: saving model to model_init_2022-06-1301_16_51.964097/model-00017-0.01888-0.99472-0.15198-0.95000.h5\n",
            "133/133 [==============================] - 93s 700ms/step - loss: 0.0189 - categorical_accuracy: 0.9947 - val_loss: 0.1520 - val_categorical_accuracy: 0.9500 - lr: 2.0000e-04\n",
            "Epoch 18/20\n",
            "133/133 [==============================] - ETA: 0s - loss: 0.0290 - categorical_accuracy: 0.9917\n",
            "Epoch 18: saving model to model_init_2022-06-1301_16_51.964097/model-00018-0.02903-0.99170-0.18394-0.93000.h5\n",
            "133/133 [==============================] - 92s 698ms/step - loss: 0.0290 - categorical_accuracy: 0.9917 - val_loss: 0.1839 - val_categorical_accuracy: 0.9300 - lr: 2.0000e-04\n",
            "Epoch 19/20\n",
            "133/133 [==============================] - ETA: 0s - loss: 0.0305 - categorical_accuracy: 0.9887\n",
            "Epoch 19: saving model to model_init_2022-06-1301_16_51.964097/model-00019-0.03049-0.98869-0.23208-0.92000.h5\n",
            "\n",
            "Epoch 19: ReduceLROnPlateau reducing learning rate to 4.0000001899898055e-05.\n",
            "133/133 [==============================] - 93s 699ms/step - loss: 0.0305 - categorical_accuracy: 0.9887 - val_loss: 0.2321 - val_categorical_accuracy: 0.9200 - lr: 2.0000e-04\n",
            "Epoch 20/20\n",
            "133/133 [==============================] - ETA: 0s - loss: 0.0213 - categorical_accuracy: 0.9940\n",
            "Epoch 20: saving model to model_init_2022-06-1301_16_51.964097/model-00020-0.02125-0.99397-0.22684-0.93000.h5\n",
            "133/133 [==============================] - 93s 702ms/step - loss: 0.0213 - categorical_accuracy: 0.9940 - val_loss: 0.2268 - val_categorical_accuracy: 0.9300 - lr: 4.0000e-05\n"
          ]
        }
      ],
      "source": [
        "print(\"Total Params:\", rnn_cnn_tl2_model.count_params())\n",
        "history_model19=rnn_cnn_tl2.train_model(rnn_cnn_tl2_model,augment_data=True)"
      ]
    },
    {
      "cell_type": "code",
      "execution_count": 69,
      "metadata": {
        "colab": {
          "base_uri": "https://localhost:8080/",
          "height": 266
        },
        "id": "5pF683nV76HR",
        "outputId": "f057d138-32bc-46b3-c249-c9214fe72efa"
      },
      "outputs": [
        {
          "output_type": "display_data",
          "data": {
            "text/plain": [
              "<Figure size 1080x288 with 2 Axes>"
            ],
            "image/png": "[encoded data removed]"
          },
          "metadata": {
            "needs_background": "light"
          }
        }
      ],
      "source": [
        "plot(history_model19)"
      ]
    },
    {
      "cell_type": "markdown",
      "metadata": {
        "id": "utL9smDa76HR"
      },
      "source": [
        "# Consolidated Final Models"
      ]
    },
    {
      "cell_type": "markdown",
      "metadata": {
        "id": "uy3_0Jf-76HR"
      },
      "source": [
        "![image.png](attachment:image.png)"
      ]
    },
    {
      "cell_type": "markdown",
      "metadata": {
        "id": "MOckMIXR76HR"
      },
      "source": [
        "# Loading model and Testing"
      ]
    },
    {
      "cell_type": "code",
      "execution_count": 72,
      "metadata": {
        "id": "Xd-HzdPw76HR"
      },
      "outputs": [],
      "source": [
        "import time\n",
        "from keras.models import load_model\n",
        "model = load_model('/content/model_init_2022-06-1301_16_51.964097/model-00020-0.02125-0.99397-0.22684-0.93000.h5')"
      ]
    },
    {
      "cell_type": "code",
      "execution_count": 80,
      "metadata": {
        "id": "PrQE6Z7Z76HR"
      },
      "outputs": [],
      "source": [
        "test_generator=ModelConv3D10()\n",
        "test_generator.initialize_path(project_folder)\n",
        "test_generator.initialize_image_properties(image_height=120,image_width=120)\n",
        "test_generator.initialize_hyperparams(frames_to_sample=16,batch_size=5,num_epochs=3)\n",
        "\n",
        "g=test_generator.generator(test_generator.val_path,test_generator.val_doc,augment=False)\n",
        "batch_data, batch_labels=next(g)"
      ]
    },
    {
      "cell_type": "code",
      "execution_count": 81,
      "metadata": {
        "colab": {
          "base_uri": "https://localhost:8080/"
        },
        "id": "q4BydyKQ76HR",
        "outputId": "ef7b06ac-bbe3-4d4c-aa6e-da004d4c6c7b"
      },
      "outputs": [
        {
          "output_type": "execute_result",
          "data": {
            "text/plain": [
              "array([[0., 1., 0., 0., 0.],\n",
              "       [0., 1., 0., 0., 0.],\n",
              "       [0., 0., 0., 1., 0.],\n",
              "       [0., 0., 0., 0., 1.],\n",
              "       [0., 1., 0., 0., 0.]])"
            ]
          },
          "metadata": {},
          "execution_count": 81
        }
      ],
      "source": [
        "batch_labels"
      ]
    },
    {
      "cell_type": "code",
      "execution_count": 82,
      "metadata": {
        "colab": {
          "base_uri": "https://localhost:8080/"
        },
        "id": "ecLzSiQC76HS",
        "outputId": "bb8ef089-e4cc-4b8d-be38-8184118ed9d6"
      },
      "outputs": [
        {
          "output_type": "stream",
          "name": "stdout",
          "text": [
            "[1 1 3 4 1]\n"
          ]
        }
      ],
      "source": [
        "print(np.argmax(model.predict(batch_data[:,:,:,:,:]),axis=1))"
      ]
    },
    {
      "cell_type": "code",
      "source": [
        ""
      ],
      "metadata": {
        "id": "IXfaOxWfxpHJ"
      },
      "execution_count": null,
      "outputs": []
    }
  ],
  "metadata": {
    "kernelspec": {
      "display_name": "Python 3",
      "language": "python",
      "name": "python3"
    },
    "language_info": {
      "codemirror_mode": {
        "name": "ipython",
        "version": 3
      },
      "file_extension": ".py",
      "mimetype": "text/x-python",
      "name": "python",
      "nbconvert_exporter": "python",
      "pygments_lexer": "ipython3",
      "version": "3.8.8"
    },
    "colab": {
      "name": "Gesture_Recognition_Ram_Prayag_Final.ipynb",
      "provenance": [],
      "collapsed_sections": [
        "Zc_qJZZ676HA",
        "bTIqwe5q76HA",
        "3ii9KBfd76HB",
        "UeE7cW2p76HC",
        "UFsTQoXs76HD",
        "4JspFu_O76HE",
        "sG6RlaFz76HI",
        "gDOV6ih876HJ",
        "Sx5BXu8w76HK",
        "WlJZU7xC76HL",
        "1b0KeDwL76HM",
        "u8zOusaj76HN",
        "Tb7BzD9E76HN",
        "5X-YEMh076HO",
        "OsNaujtI76HP",
        "U94pFVMp76HP",
        "utL9smDa76HR"
      ],
      "machine_shape": "hm"
    },
    "accelerator": "GPU"
  },
  "nbformat": 4,
  "nbformat_minor": 0
}